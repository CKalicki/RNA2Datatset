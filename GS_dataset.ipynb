{
  "nbformat": 4,
  "nbformat_minor": 0,
  "metadata": {
    "colab": {
      "provenance": []
    },
    "kernelspec": {
      "name": "python3",
      "display_name": "Python 3"
    },
    "language_info": {
      "name": "python"
    }
  },
  "cells": [
    {
      "cell_type": "code",
      "execution_count": 19,
      "metadata": {
        "id": "iyChj3wRWav9"
      },
      "outputs": [],
      "source": [
        "import pandas as pd\n",
        "import numpy as np\n",
        "import matplotlib.pyplot as plt"
      ]
    },
    {
      "cell_type": "code",
      "source": [
        "def is_complete_dot_bracket(dot_bracket):\n",
        "    stack = []\n",
        "\n",
        "    for char in dot_bracket:\n",
        "        if char == '(':\n",
        "            stack.append(char)\n",
        "        elif char == ')':\n",
        "            if not stack:\n",
        "                return False\n",
        "            stack.pop()\n",
        "\n",
        "    return len(stack) == 0"
      ],
      "metadata": {
        "id": "Y1VnexTsVzXX"
      },
      "execution_count": 20,
      "outputs": []
    },
    {
      "cell_type": "code",
      "source": [
        "def dot_bracket_to_matrix(dot_bracket):\n",
        "    stack = []\n",
        "    pairing_matrix = np.zeros((len(dot_bracket), len(dot_bracket)))\n",
        "\n",
        "    for i, char in enumerate(dot_bracket):\n",
        "        if char == '(':\n",
        "          stack.append(i)\n",
        "        elif char == ')':\n",
        "          if stack:\n",
        "            j = stack.pop()\n",
        "            pairing_matrix[i, j] = 1\n",
        "            pairing_matrix[j, i] = 1\n",
        "\n",
        "    return pairing_matrix"
      ],
      "metadata": {
        "id": "s0JzqWdKywS5"
      },
      "execution_count": 24,
      "outputs": []
    },
    {
      "cell_type": "code",
      "source": [
        "def compute_mFMI(pred_matrix, target_matrix, threshold=0.5):\n",
        "\n",
        "    TP = np.sum(pred_matrix * target_matrix)\n",
        "    prod_true = np.sum(pred_matrix) * np.sum(target_matrix)\n",
        "    if prod_true > 0:\n",
        "        FMI = TP / np.sqrt(prod_true)\n",
        "    else:\n",
        "        FMI = 0\n",
        "\n",
        "    u = (\n",
        "        np.sum(\n",
        "            (~np.sum(pred_matrix, axis=1).astype(bool))\n",
        "            * (~np.sum(target_matrix, axis=1).astype(bool))\n",
        "        )\n",
        "        / pred_matrix.shape[0]\n",
        "    )\n",
        "\n",
        "    mFMI = u + (1 - u) * FMI\n",
        "\n",
        "    return mFMI"
      ],
      "metadata": {
        "id": "hIp14JLx1cqI"
      },
      "execution_count": 39,
      "outputs": []
    },
    {
      "cell_type": "code",
      "source": [
        "def read_ct_file(file_path):\n",
        "    with open(file_path, 'r') as file:\n",
        "        lines = file.readlines()\n",
        "\n",
        "    num_bases = int(lines[0].split()[0])\n",
        "    title = lines[0].split()[1]\n",
        "\n",
        "    structures = []\n",
        "    current_structure = []\n",
        "\n",
        "    for line in lines[1:]:\n",
        "        # Skip empty lines\n",
        "        if not line.strip():\n",
        "            continue\n",
        "\n",
        "        # Parse the information about a base\n",
        "        base_info = line.split()\n",
        "        base_number = int(base_info[0])\n",
        "        base = base_info[1]\n",
        "        index_prev = int(base_info[2])\n",
        "        index_next = int(base_info[3])\n",
        "        paired_base_number = int(base_info[4])\n",
        "\n",
        "        # Store the information in a dictionary\n",
        "        base_data = {\n",
        "            \"base_number\": base_number,\n",
        "            \"base\": base,\n",
        "            \"index_prev\": index_prev,\n",
        "            \"index_next\": index_next,\n",
        "            \"paired_base_number\": paired_base_number\n",
        "        }\n",
        "\n",
        "        current_structure.append(base_data)\n",
        "\n",
        "    structures.append({\n",
        "        \"num_bases\": num_bases,\n",
        "        \"title\": title,\n",
        "        \"base_info\": current_structure\n",
        "    })\n",
        "\n",
        "    return structures"
      ],
      "metadata": {
        "id": "5dPNoohlUqKo"
      },
      "execution_count": null,
      "outputs": []
    },
    {
      "cell_type": "code",
      "source": [
        "def ct_to_secondary_structure_string(file_path):\n",
        "    structures = read_ct_file(file_path)\n",
        "\n",
        "    secondary_structure_strings = []\n",
        "    seq = ''\n",
        "    for structure in structures:\n",
        "        num_bases = structure[\"num_bases\"]\n",
        "        base_info = structure[\"base_info\"]\n",
        "\n",
        "\n",
        "        structure_string = ['.' for _ in range(num_bases)]\n",
        "\n",
        "\n",
        "        for base_data in base_info:\n",
        "            seq+=base_data[\"base\"]\n",
        "            base_number = base_data[\"base_number\"]\n",
        "            paired_base_number = base_data[\"paired_base_number\"]\n",
        "\n",
        "            if paired_base_number != 0 and base_number < paired_base_number:\n",
        "                structure_string[base_number - 1] = '('\n",
        "                structure_string[paired_base_number - 1] = ')'\n",
        "\n",
        "        secondary_structure_strings.append(''.join(structure_string))\n",
        "\n",
        "    return secondary_structure_strings, seq\n"
      ],
      "metadata": {
        "id": "REhE2iOWgus_"
      },
      "execution_count": null,
      "outputs": []
    },
    {
      "cell_type": "code",
      "source": [
        "from sklearn.metrics import f1_score\n",
        "\n",
        "def hammingDist(str1, str2):\n",
        "    i = 0\n",
        "    count = 0\n",
        "\n",
        "    while(i < len(str1)):\n",
        "        if(str1[i] != str2[i]):\n",
        "            count += 1\n",
        "        i += 1\n",
        "    return count\n",
        "\n",
        "def split_string(input_string, chunk_size):\n",
        "    return [input_string[i:i + chunk_size] for i in range(0, len(input_string), chunk_size)]\n"
      ],
      "metadata": {
        "id": "0M347UAxhGFG"
      },
      "execution_count": null,
      "outputs": []
    },
    {
      "cell_type": "code",
      "source": [
        "def split_sequence_and_dot_bracket(sequence, dot_bracket, min_chunk_size):\n",
        "    subparts_sequence = []\n",
        "    subparts_dot_bracket = []\n",
        "    current_part_sequence = \"\"\n",
        "    current_part_dot_bracket = \"\"\n",
        "\n",
        "    for seq_char, dot_char in zip(sequence, dot_bracket):\n",
        "        current_part_sequence += seq_char\n",
        "        current_part_dot_bracket += dot_char\n",
        "\n",
        "        if dot_char == ')':\n",
        "            if is_complete_dot_bracket(current_part_dot_bracket) and len(current_part_dot_bracket) >= min_chunk_size:\n",
        "                subparts_sequence.append(current_part_sequence)\n",
        "                subparts_dot_bracket.append(current_part_dot_bracket)\n",
        "                current_part_sequence = \"\"\n",
        "                current_part_dot_bracket = \"\"\n",
        "\n",
        "    return subparts_sequence, subparts_dot_bracket"
      ],
      "metadata": {
        "id": "7hPiHduuddRG"
      },
      "execution_count": null,
      "outputs": []
    },
    {
      "cell_type": "markdown",
      "source": [
        "# SARS dot bracket comparison"
      ],
      "metadata": {
        "id": "db_5aibcifMt"
      }
    },
    {
      "cell_type": "markdown",
      "source": [
        "## Comparing from 10.1261/rna.076141.120 and doi.org/10.1038/s41467-022-28603-2. The first paper has purely in silico predicted secondary structures. The second paper uses chemical probing to inform structure. I use all secondary structures predicted in silico over 120 bp window and compare that to the chemically informed structure over the same window using F1 score. If the f1 score is >0.9 I include it in the dataset."
      ],
      "metadata": {
        "id": "LaM1l04UjnRD"
      }
    },
    {
      "cell_type": "code",
      "source": [
        "das_df = pd.read_excel('Book2.xlsx')\n",
        "das_df[:8]"
      ],
      "metadata": {
        "colab": {
          "base_uri": "https://localhost:8080/",
          "height": 494
        },
        "id": "WjqamBHnYLoN",
        "outputId": "c3e85dc0-9b70-4926-d7c5-e1c4e451c58e"
      },
      "execution_count": 81,
      "outputs": [
        {
          "output_type": "execute_result",
          "data": {
            "text/plain": [
              "   Interval start  Interval end  \\\n",
              "0               1           120   \n",
              "1              41           158   \n",
              "2              81           198   \n",
              "3             121           238   \n",
              "4             159           278   \n",
              "5             319           438   \n",
              "6             399           518   \n",
              "7             639           758   \n",
              "\n",
              "                                            Sequence  \\\n",
              "0  AUUAAAGGUUUAUACCUUCCCAGGUAACAAACCAACCAACUUUCGA...   \n",
              "1  UUUCGAUCUCUUGUAGAUCUGUUCUCUAAACGAACUUUAAAAUCUG...   \n",
              "2  AAUCUGUGUGGCUGUCACUCGGCUGCAUGCUUAGUGCACUCACGCA...   \n",
              "3  CACGCAGUAUAAUUAAUAACUAAUUACUGUCGUUGACAGGACACGA...   \n",
              "4  GGACACGAGUAACUCGUCUAUCUUCUGCAGGCUGCUUACGGUUUCG...   \n",
              "5  GCCUGUUUUACAGGUUCGCGACGUGCUCGUACGUGGCUUUGGAGAC...   \n",
              "6  AUCUUAAAGAUGGCACUUGUGGCUUAGUAGAAGUUGAAAAAGGCGU...   \n",
              "7  AGAACGGUAAUAAAGGAGCUGGUGGCCAUAGUUACGGCGCCGAUCU...   \n",
              "\n",
              "                                 Secondary structure  z-score         P  \n",
              "0  ......(((((.(((((....)))))..)))))...........((...    -2.13  0.654132  \n",
              "1  ....(((((.....))))).........(((((..........(((...    -2.91  0.998151  \n",
              "2  ...(((((((..((.((((.(((.....))).))))))..))))))...    -0.80  0.989529  \n",
              "3  ...((((((..((((.....)))))))))).((((((((((.((((...    -2.33  0.989119  \n",
              "4  .....((((...(((.((((((((.....((((((.(((((........    -2.87  0.995523  \n",
              "5  .....((((((((((.(((((.((((..(.(((((.((((((((((...    -2.56  0.632105  \n",
              "6  ........((((((((.((.((((..((..(((((((....(((.....    -1.66  0.621726  \n",
              "7  ....((((....(((((..(((((.(((.((((.((.((((........    -2.15  0.682640  "
            ],
            "text/html": [
              "\n",
              "  <div id=\"df-3c1a4803-b4f6-4238-8226-0e3fcd071fb5\" class=\"colab-df-container\">\n",
              "    <div>\n",
              "<style scoped>\n",
              "    .dataframe tbody tr th:only-of-type {\n",
              "        vertical-align: middle;\n",
              "    }\n",
              "\n",
              "    .dataframe tbody tr th {\n",
              "        vertical-align: top;\n",
              "    }\n",
              "\n",
              "    .dataframe thead th {\n",
              "        text-align: right;\n",
              "    }\n",
              "</style>\n",
              "<table border=\"1\" class=\"dataframe\">\n",
              "  <thead>\n",
              "    <tr style=\"text-align: right;\">\n",
              "      <th></th>\n",
              "      <th>Interval start</th>\n",
              "      <th>Interval end</th>\n",
              "      <th>Sequence</th>\n",
              "      <th>Secondary structure</th>\n",
              "      <th>z-score</th>\n",
              "      <th>P</th>\n",
              "    </tr>\n",
              "  </thead>\n",
              "  <tbody>\n",
              "    <tr>\n",
              "      <th>0</th>\n",
              "      <td>1</td>\n",
              "      <td>120</td>\n",
              "      <td>AUUAAAGGUUUAUACCUUCCCAGGUAACAAACCAACCAACUUUCGA...</td>\n",
              "      <td>......(((((.(((((....)))))..)))))...........((...</td>\n",
              "      <td>-2.13</td>\n",
              "      <td>0.654132</td>\n",
              "    </tr>\n",
              "    <tr>\n",
              "      <th>1</th>\n",
              "      <td>41</td>\n",
              "      <td>158</td>\n",
              "      <td>UUUCGAUCUCUUGUAGAUCUGUUCUCUAAACGAACUUUAAAAUCUG...</td>\n",
              "      <td>....(((((.....))))).........(((((..........(((...</td>\n",
              "      <td>-2.91</td>\n",
              "      <td>0.998151</td>\n",
              "    </tr>\n",
              "    <tr>\n",
              "      <th>2</th>\n",
              "      <td>81</td>\n",
              "      <td>198</td>\n",
              "      <td>AAUCUGUGUGGCUGUCACUCGGCUGCAUGCUUAGUGCACUCACGCA...</td>\n",
              "      <td>...(((((((..((.((((.(((.....))).))))))..))))))...</td>\n",
              "      <td>-0.80</td>\n",
              "      <td>0.989529</td>\n",
              "    </tr>\n",
              "    <tr>\n",
              "      <th>3</th>\n",
              "      <td>121</td>\n",
              "      <td>238</td>\n",
              "      <td>CACGCAGUAUAAUUAAUAACUAAUUACUGUCGUUGACAGGACACGA...</td>\n",
              "      <td>...((((((..((((.....)))))))))).((((((((((.((((...</td>\n",
              "      <td>-2.33</td>\n",
              "      <td>0.989119</td>\n",
              "    </tr>\n",
              "    <tr>\n",
              "      <th>4</th>\n",
              "      <td>159</td>\n",
              "      <td>278</td>\n",
              "      <td>GGACACGAGUAACUCGUCUAUCUUCUGCAGGCUGCUUACGGUUUCG...</td>\n",
              "      <td>.....((((...(((.((((((((.....((((((.(((((........</td>\n",
              "      <td>-2.87</td>\n",
              "      <td>0.995523</td>\n",
              "    </tr>\n",
              "    <tr>\n",
              "      <th>5</th>\n",
              "      <td>319</td>\n",
              "      <td>438</td>\n",
              "      <td>GCCUGUUUUACAGGUUCGCGACGUGCUCGUACGUGGCUUUGGAGAC...</td>\n",
              "      <td>.....((((((((((.(((((.((((..(.(((((.((((((((((...</td>\n",
              "      <td>-2.56</td>\n",
              "      <td>0.632105</td>\n",
              "    </tr>\n",
              "    <tr>\n",
              "      <th>6</th>\n",
              "      <td>399</td>\n",
              "      <td>518</td>\n",
              "      <td>AUCUUAAAGAUGGCACUUGUGGCUUAGUAGAAGUUGAAAAAGGCGU...</td>\n",
              "      <td>........((((((((.((.((((..((..(((((((....(((.....</td>\n",
              "      <td>-1.66</td>\n",
              "      <td>0.621726</td>\n",
              "    </tr>\n",
              "    <tr>\n",
              "      <th>7</th>\n",
              "      <td>639</td>\n",
              "      <td>758</td>\n",
              "      <td>AGAACGGUAAUAAAGGAGCUGGUGGCCAUAGUUACGGCGCCGAUCU...</td>\n",
              "      <td>....((((....(((((..(((((.(((.((((.((.((((........</td>\n",
              "      <td>-2.15</td>\n",
              "      <td>0.682640</td>\n",
              "    </tr>\n",
              "  </tbody>\n",
              "</table>\n",
              "</div>\n",
              "    <div class=\"colab-df-buttons\">\n",
              "\n",
              "  <div class=\"colab-df-container\">\n",
              "    <button class=\"colab-df-convert\" onclick=\"convertToInteractive('df-3c1a4803-b4f6-4238-8226-0e3fcd071fb5')\"\n",
              "            title=\"Convert this dataframe to an interactive table.\"\n",
              "            style=\"display:none;\">\n",
              "\n",
              "  <svg xmlns=\"http://www.w3.org/2000/svg\" height=\"24px\" viewBox=\"0 -960 960 960\">\n",
              "    <path d=\"M120-120v-720h720v720H120Zm60-500h600v-160H180v160Zm220 220h160v-160H400v160Zm0 220h160v-160H400v160ZM180-400h160v-160H180v160Zm440 0h160v-160H620v160ZM180-180h160v-160H180v160Zm440 0h160v-160H620v160Z\"/>\n",
              "  </svg>\n",
              "    </button>\n",
              "\n",
              "  <style>\n",
              "    .colab-df-container {\n",
              "      display:flex;\n",
              "      gap: 12px;\n",
              "    }\n",
              "\n",
              "    .colab-df-convert {\n",
              "      background-color: #E8F0FE;\n",
              "      border: none;\n",
              "      border-radius: 50%;\n",
              "      cursor: pointer;\n",
              "      display: none;\n",
              "      fill: #1967D2;\n",
              "      height: 32px;\n",
              "      padding: 0 0 0 0;\n",
              "      width: 32px;\n",
              "    }\n",
              "\n",
              "    .colab-df-convert:hover {\n",
              "      background-color: #E2EBFA;\n",
              "      box-shadow: 0px 1px 2px rgba(60, 64, 67, 0.3), 0px 1px 3px 1px rgba(60, 64, 67, 0.15);\n",
              "      fill: #174EA6;\n",
              "    }\n",
              "\n",
              "    .colab-df-buttons div {\n",
              "      margin-bottom: 4px;\n",
              "    }\n",
              "\n",
              "    [theme=dark] .colab-df-convert {\n",
              "      background-color: #3B4455;\n",
              "      fill: #D2E3FC;\n",
              "    }\n",
              "\n",
              "    [theme=dark] .colab-df-convert:hover {\n",
              "      background-color: #434B5C;\n",
              "      box-shadow: 0px 1px 3px 1px rgba(0, 0, 0, 0.15);\n",
              "      filter: drop-shadow(0px 1px 2px rgba(0, 0, 0, 0.3));\n",
              "      fill: #FFFFFF;\n",
              "    }\n",
              "  </style>\n",
              "\n",
              "    <script>\n",
              "      const buttonEl =\n",
              "        document.querySelector('#df-3c1a4803-b4f6-4238-8226-0e3fcd071fb5 button.colab-df-convert');\n",
              "      buttonEl.style.display =\n",
              "        google.colab.kernel.accessAllowed ? 'block' : 'none';\n",
              "\n",
              "      async function convertToInteractive(key) {\n",
              "        const element = document.querySelector('#df-3c1a4803-b4f6-4238-8226-0e3fcd071fb5');\n",
              "        const dataTable =\n",
              "          await google.colab.kernel.invokeFunction('convertToInteractive',\n",
              "                                                    [key], {});\n",
              "        if (!dataTable) return;\n",
              "\n",
              "        const docLinkHtml = 'Like what you see? Visit the ' +\n",
              "          '<a target=\"_blank\" href=https://colab.research.google.com/notebooks/data_table.ipynb>data table notebook</a>'\n",
              "          + ' to learn more about interactive tables.';\n",
              "        element.innerHTML = '';\n",
              "        dataTable['output_type'] = 'display_data';\n",
              "        await google.colab.output.renderOutput(dataTable, element);\n",
              "        const docLink = document.createElement('div');\n",
              "        docLink.innerHTML = docLinkHtml;\n",
              "        element.appendChild(docLink);\n",
              "      }\n",
              "    </script>\n",
              "  </div>\n",
              "\n",
              "\n",
              "<div id=\"df-b8ca64da-1b12-4399-9c39-778fda3be954\">\n",
              "  <button class=\"colab-df-quickchart\" onclick=\"quickchart('df-b8ca64da-1b12-4399-9c39-778fda3be954')\"\n",
              "            title=\"Suggest charts\"\n",
              "            style=\"display:none;\">\n",
              "\n",
              "<svg xmlns=\"http://www.w3.org/2000/svg\" height=\"24px\"viewBox=\"0 0 24 24\"\n",
              "     width=\"24px\">\n",
              "    <g>\n",
              "        <path d=\"M19 3H5c-1.1 0-2 .9-2 2v14c0 1.1.9 2 2 2h14c1.1 0 2-.9 2-2V5c0-1.1-.9-2-2-2zM9 17H7v-7h2v7zm4 0h-2V7h2v10zm4 0h-2v-4h2v4z\"/>\n",
              "    </g>\n",
              "</svg>\n",
              "  </button>\n",
              "\n",
              "<style>\n",
              "  .colab-df-quickchart {\n",
              "      --bg-color: #E8F0FE;\n",
              "      --fill-color: #1967D2;\n",
              "      --hover-bg-color: #E2EBFA;\n",
              "      --hover-fill-color: #174EA6;\n",
              "      --disabled-fill-color: #AAA;\n",
              "      --disabled-bg-color: #DDD;\n",
              "  }\n",
              "\n",
              "  [theme=dark] .colab-df-quickchart {\n",
              "      --bg-color: #3B4455;\n",
              "      --fill-color: #D2E3FC;\n",
              "      --hover-bg-color: #434B5C;\n",
              "      --hover-fill-color: #FFFFFF;\n",
              "      --disabled-bg-color: #3B4455;\n",
              "      --disabled-fill-color: #666;\n",
              "  }\n",
              "\n",
              "  .colab-df-quickchart {\n",
              "    background-color: var(--bg-color);\n",
              "    border: none;\n",
              "    border-radius: 50%;\n",
              "    cursor: pointer;\n",
              "    display: none;\n",
              "    fill: var(--fill-color);\n",
              "    height: 32px;\n",
              "    padding: 0;\n",
              "    width: 32px;\n",
              "  }\n",
              "\n",
              "  .colab-df-quickchart:hover {\n",
              "    background-color: var(--hover-bg-color);\n",
              "    box-shadow: 0 1px 2px rgba(60, 64, 67, 0.3), 0 1px 3px 1px rgba(60, 64, 67, 0.15);\n",
              "    fill: var(--button-hover-fill-color);\n",
              "  }\n",
              "\n",
              "  .colab-df-quickchart-complete:disabled,\n",
              "  .colab-df-quickchart-complete:disabled:hover {\n",
              "    background-color: var(--disabled-bg-color);\n",
              "    fill: var(--disabled-fill-color);\n",
              "    box-shadow: none;\n",
              "  }\n",
              "\n",
              "  .colab-df-spinner {\n",
              "    border: 2px solid var(--fill-color);\n",
              "    border-color: transparent;\n",
              "    border-bottom-color: var(--fill-color);\n",
              "    animation:\n",
              "      spin 1s steps(1) infinite;\n",
              "  }\n",
              "\n",
              "  @keyframes spin {\n",
              "    0% {\n",
              "      border-color: transparent;\n",
              "      border-bottom-color: var(--fill-color);\n",
              "      border-left-color: var(--fill-color);\n",
              "    }\n",
              "    20% {\n",
              "      border-color: transparent;\n",
              "      border-left-color: var(--fill-color);\n",
              "      border-top-color: var(--fill-color);\n",
              "    }\n",
              "    30% {\n",
              "      border-color: transparent;\n",
              "      border-left-color: var(--fill-color);\n",
              "      border-top-color: var(--fill-color);\n",
              "      border-right-color: var(--fill-color);\n",
              "    }\n",
              "    40% {\n",
              "      border-color: transparent;\n",
              "      border-right-color: var(--fill-color);\n",
              "      border-top-color: var(--fill-color);\n",
              "    }\n",
              "    60% {\n",
              "      border-color: transparent;\n",
              "      border-right-color: var(--fill-color);\n",
              "    }\n",
              "    80% {\n",
              "      border-color: transparent;\n",
              "      border-right-color: var(--fill-color);\n",
              "      border-bottom-color: var(--fill-color);\n",
              "    }\n",
              "    90% {\n",
              "      border-color: transparent;\n",
              "      border-bottom-color: var(--fill-color);\n",
              "    }\n",
              "  }\n",
              "</style>\n",
              "\n",
              "  <script>\n",
              "    async function quickchart(key) {\n",
              "      const quickchartButtonEl =\n",
              "        document.querySelector('#' + key + ' button');\n",
              "      quickchartButtonEl.disabled = true;  // To prevent multiple clicks.\n",
              "      quickchartButtonEl.classList.add('colab-df-spinner');\n",
              "      try {\n",
              "        const charts = await google.colab.kernel.invokeFunction(\n",
              "            'suggestCharts', [key], {});\n",
              "      } catch (error) {\n",
              "        console.error('Error during call to suggestCharts:', error);\n",
              "      }\n",
              "      quickchartButtonEl.classList.remove('colab-df-spinner');\n",
              "      quickchartButtonEl.classList.add('colab-df-quickchart-complete');\n",
              "    }\n",
              "    (() => {\n",
              "      let quickchartButtonEl =\n",
              "        document.querySelector('#df-b8ca64da-1b12-4399-9c39-778fda3be954 button');\n",
              "      quickchartButtonEl.style.display =\n",
              "        google.colab.kernel.accessAllowed ? 'block' : 'none';\n",
              "    })();\n",
              "  </script>\n",
              "</div>\n",
              "\n",
              "    </div>\n",
              "  </div>\n"
            ]
          },
          "metadata": {},
          "execution_count": 81
        }
      ]
    },
    {
      "cell_type": "code",
      "source": [
        "file_path = 'SARS.ct'\n",
        "secondary_structure_strings, seq = ct_to_secondary_structure_string(file_path)\n",
        "\n",
        "for idx, structure_string in enumerate(secondary_structure_strings, start=1):\n",
        "    print(f\"SARS Structure:\", structure_string)"
      ],
      "metadata": {
        "colab": {
          "base_uri": "https://localhost:8080/"
        },
        "id": "3XxjBBXvjAsz",
        "outputId": "895ef6dc-7549-4265-d122-7cd8b40e8d3a"
      },
      "execution_count": 82,
      "outputs": [
        {
          "output_type": "stream",
          "name": "stdout",
          "text": [
            "SARS Structure: ......(((((.(((((....)))))..)))))...........(((((.....))))).((((.......))))........((((((((.((.((((.(((.....))).)))))).))))))))......................(((((((((((..(((((...(((.(((((((.(((..((((((.(((((......)))))..))))))......)))(((((((.((......)))))))))(((....))).)))))))))).))))).))))...))))))).......((((((...........((((((...))))))....)))))).....(((((.(((((((((((((.....))).)))))..))))).)))))............((((((((.((.((((......(((((((....(((.....))))))))))....)))).)).))).)))))...(((..((((((((((.(((((((......(((.........)))...))).))))...)))..)))))))...)))......((((((((.((((.(((((..(((.(((......)))))).))))))))).))))))))...((((((......)))))).......(((((..(((((.(((.((((.((.((((.......((((....))))..)))).)))))))))))))).)))))...............................((((((((((((((((..((((...((((....))))....))))...))))).)))).))))))).((........))...((((.....))))........((((((((..(((.....(((((....))))).....))).)))))))).(((((......)))))................(((((((...((((..(((((.((..(((((......))))).)).)))))...(((((....)))))........)))))))))))...........(((((((.(((.(((((((........((((...................)))).............(((((.((.(((((((...))))))).))......))))).(((((((.(((((((..........))))))).((((((((.......).)))))))((((..(((((.....((.(((((((((...((((...))))...))))))))).))..)))))..)))).))))))).............((((((((..................))))))))......((((...............)))).))))))).))).))).)))).................((.((((.........)))).)).((((((.((..................((((((((.....)))))))).........((((....)))).)))))))).(((((((((((.((....((..(((.((((...))))..)))))....))))))))))))).((.((((...(((......))).....)))).))...(((.....)))..((((((((((((((..((...(((.(((((((.((.((....)).)).)))))))...........((((((.((((......))))))))))......(((((((((....)))))))))..........((((((((........))))))))...........((((...(((((......)))))...))))............(((((..((((.((((((..........((((((.(((((((((..((((....)))).)))))..))))))))))....)))))).))))...))))).((((......))))...))).)).)))))))).))))))..((((....(((..((((((((((.(((.(((((.((.(((...))).))))))).))).)))).))))))))))))).((((((((((((.((((((((.....)))))))).))).)))))).))).......((((((.(((...........))))))))).......((((((..(.((..((((((...((((......))))))))))..)))...)))))).........((((((((((((....))))..)))))))).((((..((((..(((((....)))))....))))..))))............(((((((((....)))))))))...........(((((((..(((((((.((.....((((((((....))))))))....)).)))))))..))))))).((((........))))..........(((((..(((.......)))..))))).(((.((........)).)))...(((((.....(((...(((((......)))))...)))...((((((((.....))))))))...)))))............(((((((((...................(((.(((((((.((((.....)))).))))))).))).))))))))).......(((((.......)))))..(((((...(((((.......))))).((((((.........((.((((........)))).))..........(((((((((((..((((....)))))))))....)))))).........))))))...((((((((.......))))))))..(((......))).)))))....(((((......)))))..((((..((((((.((((((((.(((....)))..)))))))).)))))).))))(((((((((..................)))))))))............((((((((......((((((((((..((((((....))))))))))))))))...)))))))).(((((((((..(((((((......((.((((((....((((.....))))..)))))).))......)))))))......)))))))))((((.(((((...)))))..(((((((((........((((((.....))))))..))))))))).(((((.(((((((((........))))))).)).)))))........)))).((((.(((.....(((((((.((.....)))))))))...))).))))...............((((((((.((((((((...(((.....)))...)))))).)).))))))))....(((((......))))).((((((............(((.((.(((((((...(((.....)))...))))))))))))..))))))(((((((.....(((.(((((((....))))))).))))))))))............(((((((..((((((((....)))))).))..)))))))..((((((((..((((......(((((((((((......((((.....))))..)))))))))))......))))..))).))))).......(((((((((.((((.(((......))).)).)).)))))))))...............(((((................)))))............((((((....((((....))))....))))))............((((((....((((((((.((......))))))))))............(((..................))).(((((((((...((((((((....))))))))...))))))))).......((((.(((....(((((....)))))....))).)))).((((((((........))))))))...)))))).(((((.((((......))))...)))))......(((((.((((....((((((.(((......))).)).))))....)))).))))).((((((((....(((((((((......))))..)))))....)))))))).....((((((((((.((......................)).))))))))))........((((((....((....))....))))))..........(((.(((((((.((.(((.(((......)))))).))...))))))).))).........((((((...((((......)))).....))))))...((((((((..((....(((............)))....))..))))))))...............((((....))))........(((((.((........)).))))).((((((.....))))))......((((((((........((((((((..((((((((((((((......)))))))...)))))))...........))))))))....(((((((((((((.(((((..((((((((..(((((((........)))))))......))))))))...))))))))))).................))))))).......(((...((((((((...))))))))......))).((((((((...(((((.((((....))))..))))).....)))))))))))))))).......(((.....))).....((((((..........((((((..........))))))...........))))))....((((.((((.(((....((((((.(((......)))))))))......(((....)))....((((((((((((((((((.((((((...)))))).(((....)))....(((.(((.....)))))).))))))))))......))))))))((((((((((...))))))))))))))))).)))).(((((((....))))))).........(((((((....).)))))).(((((...)))))...((((.((((((.((((((.....)))))).)))))).))))............(((((.......(((..(((((((((((...))))))))))).)))....(((.....))).))))).......((((((((....(((((....))))).....))))).)))....((((.((((((((.(((.....((((......)))).)))...)))))))).............((((((((((....)))))).))))...............((.((((.......)))).)).......((((.(((((......(((((......)))))))))).))))..))))(((((.......((((((.((((.((((((((......)))))))))))).))))))..))))).(((((((........))))))).((((((((....((((((((....))))))))......))))))))..............(((((.....((((....))))......)))))...(((..(((((((.((((((((.........)))))))))))))))..)))((.(((((.(((((......)))))..............((((((((....))))))))...........((((..((((.(((....)))..)))))))).........(((..((((((.(((((((((....))))))))).))))))...)))......(((....))).(((((((((.....((.((.(((((......)))))))))..)))))))))..((......)).((((((((....))))))))......(((((.((((....((((((.......)))))))))))))))..))))))).(((((..((......)).))))).........((((....)))).........(((((..........(((........))).(((((......((((((((.((....)).)))))))))))))............)))))..........(((((....))))).......................((((...............(((..((((((.((((.(((((((..(((.....)))..)))))))))))....))))))..))).((...((((((((((...((........)).))).))))))))).......(((((.(((((((.((((......)))).))))))).).)))).)))).......((((....((((((((....)))))))))))).(((..((((...((((((.((.(......))).)))))).((((((.......(((((((.....((((.(......)))))....)))..)))).....((((((((((((.....((((.......))))...))))))))))))..(((((............................)))))......)))))).....((((....)))).......................((((((((((............))))))))))......))))...)))...((((((((....((((.((((((((....)))))))))))).......))))))))................(((((((....))))))).((((.(((((((......)))))))....))))......(((((......................((((.(((((((((...))))))))))))).(((((((((((((((((.((((((.(((.(((((........)))))..)))))))))..............(((((((..........))))))).............(((((((.............))))))).........((((.(((..((((((....))))))..))).))))....))))))))))))).))))....))))).(((((((..(((((.....))))))))))))...((((((...........(((((..(((((((((......(((.....)))..)))).).))))..))))))))))).((((..(((..........)))..)))).............((((((........))))))............(((((((((((((.(((..((((....(((.........................(((((((((((.((((((....((......)).....)))))).)))).)))))))........(((((.((((((.....)))))).)))))....)))......))))....))))))))).))))))).(((((((...((((.((((((......))).))).).)))..)))))))((((((..(((..((((((.(((((.......))))).))))))..)))......)))))).(((((........(((....))).............(((((((((((.(((((....))))).))))))).........(((((.....((((((.((((((....)))))))))))).....)))))........(((((((.(((((......))))))))))))..........))))............(((((((.(((................(((((.((((((((.(((......))))))))))).)))))))))))))))...)))))....(((((((..(((((((((..(((((......)))))..))))))(((.(((((.(((((((.....)))).))).)))))))).(((((((.....))))))).((((....)))).(((((..(((((.((((.......(((((((((...((((((((((.((((((((((((((((((((....)))))))).)))))))))))).))..))))..(((((((.(((.((((...((((....))))...)))))))))))))).....................)))).)))))..)))))))).)))))..))))).)))..)))).))).(((((((((((.(((((.(((...((((((((((.....))).)))))))...))).))))).....)))))))))))..(((((....((((......))))..)))))....(((((.(((((((((((...))))))).)))).....................((((......))))......(((.((((......(((..(((((((.......)))))))....))).......))))))).((..((((((((((.........))))))))))..)).......((((((..........)))))).((.......))...((((((.....)))))).((((..((((((........))))))..)))).)))))........(((((.((((((((........(((((.(((.(((..((((((((.....((((..(((....)))..)))).....)))))).))..))).))).))))).((((..((((.(((((..........((....)).(((((.(((((..((((......))))....))))).)))))...))))).))))..))))....(((((.....))))).((((((((((..(((.....))).))))))))))..(((.(((((....)))))...))).)))).)))).))))).((((((......((..(((.((..(((((((((.((....)).)))))))))..)).)))..))....))))))....................................(((((....)))))....................................((((((((..((......)).)))).)))).((((......(((..(((((((((.....(((.((((....)))).))).....)))))))))..)))))))...................((((((.......))).))).(((....))).............((((((...(((.....)))..))))))................(((...((((((.(((((((.((((..(((.(((.(((((...))))).)))..((((((((((....))).))))))).............((((((((((.((((.(((....)))..)))).)))).)))))).........((.(((((((((...(((((((.......)))))))...))))))))).))...((((.(((((((.........))))))).))))..))))))).))))))).....(((((((..(((.((((..((.(((((.((((....)))).)))))...))..)))).)))..))))))).........)))))).))).((((((((...............))))))))............((((((((((..................(((.((((........))))))).....(((((((....)))))))(((..(((...((((.((((..((((.((.......)).))))...)))).)))).....)))..)))(((((((.......))))))).(((((((((((((((.((((((......)))))).))))))..))))))).))...............(((((((...(((((((..(((((((((.((.(((....))).)))))))))))....))))))).....)))))))....)))))))))).......(((((...(((((((((.(((............))).))))).)))).......)))))........((((.(((....)))))))..........((((.((((......((((..(((....((((...))))...)))..))))...((((.....)))).))))...))))..((((((((..((((((...))))))))))))))..........((((((((.........((((.((((((((...)))).)))).))))....)))))))).............(((((((((((((((......))))))))..))))))).((.(((((((.(((((.(((((((((..........)))))))))))).)).......((((..(((((....(((((...)))))........((((.(.......((((((((((...........)))))))))).....))))).))))).)))).((((.((((....))))...)))).))))))).)).(((.(.....(((((((((((.....))))))))))).....)))).((((((...................(((((((..............((.(((..(((.....)))..))).)).......)))))))........(((...........))).((((((....)))))))))))).((((((..((((.(((.((((((..(((.....)))..))).)))))))))))))))).........((((....(((((...((....))...)))))..)))).............((((((.....((.((.(......).)).))...))))))........((((.((.((((((......(((((..((((((((((..........................((((.((((((.(((.((((((((......)))))))).))))))))).))))................((((((...(((((((.....))))).)))))))).........(((((.(((.(((((((((((((..((......))..)))))))).))......))).))).))))).))))))))))...)))))......)))))).))..................((((((................))))))........)))).((....))..((((....)))).(((.(((((.(((......))).))))).)))...................................((((((((..((.(((((.((.((((((((((.(((((((((((......((((...(((((.....)))))....))))....))))))))))))))))))))).))............(((.(((((((((......)))).))))).)))...))))).)).))))))))....((((.(((....))).)))).((((((((((((.((((.(((((((......))).)))).))))))))))).)))))............(((((..((((..((((((..((....((((((......(((((((.............(((.((((((((..................((((((((((((((....))))))..))))))))...........((((((.....(((.....)))..))))))........))))))))))).............))).))))...))))))......))..))))))..)))))))))..............(((......)))..................((((.((((((((((((......)))))))).)))).)))).((.((......)))).(.((((.((((.(((........))))))).)))))............(((((((.((((.......)))).)))))))..........................((((........))))...................(((...((.((((((((((....))).))))))).))...))).((((((.......)))))).(((.(((.((((((.....))))))..........(.....).((((................))))..................((((((..(((((....((..((((((...........)))))))).)))))..))))))...))).))).((((......................)))).(((.(((((....))))).))).(((.(((((((.((((....))))......)))))))))).......(.(((...(((.....((((.....))))...)))...)))).........(((((....(((.....)))....)))))..........(((.(((((((.((.......)).))))))))))...(.(((((...(((((((((....)))))))))..))))).)....(((((((......)))))))........(((((.((((.((......)).)))).)))))........((((..((((((.((((((((((...))).))))..))).))))))...)))).((((((((((((..........))).)))))))))..........(((.(((((.((((..((....))..)))))))))..((((...........)))).......))).(((((.((.((((...(((....)))..)))).)).)).))).........(((((.......((((.((((..((((((((.................))))))))......)))).)))).(((........)))......(((((((((.((((...........))))))))).))))............((.....)).(((..((.....))..)))........((((((..(((((((((....)))))))))..)))))).....((((......))))...((((((((((((...))))))).))))).....))))).((((..(((.(....)))).))))..............((((((.((.(((((.((.((....)).)).))))).)).))))))..........(((....(((((....(((.....))).......)))))...)))....((((((.((((((((((((.......((((....(((((...((((.....)))).))))))))).....))))))))).)))...).)))))............((((((....)))))).............(((.((((......)))).))).............(((((...)))))............((((((((...(((.(((((.....)))))..)))...)))))).))...........((((((((((..((.((((....)))).)).(....).........)))))))))).(((.(((((((((..........(((((((((((.........))).))))))))...)))))...).))).)))..............(((((((............))))))).((((((((...(((.......)))....))))))))....((((.(((((...(((((((((.((((.......))))))))))).))....))))).)))).........(((((((((..(((.(..............)))).)))))))))........((((.((((.(((((.......))))).)))).))))..........((((((.....((((((((.(((((....)))))...)))).)))).))))))...........((((((.(((((((((((....).)))).)))))).))))))...........((((..................)))).........(((((((((...((....))...)))))))))................(((((((..((..((((((((.((.....))))))))))..)))))))))...............(((((((((((.((((.((((((..((...))..))))))...((((........)))))))).)))))).))))).............(((((.((((...(((....)))...)))).)))))..(((.((((.....)))).)))...(((((((.(((.((.....))))).)))))))............((((.((((((.......))))))..))))...........(((((.............)))))...((....)).(((((((((.((((.....))))))))...)))))............(((((...((((.(((.((......))...))).))))...))))).......((....((((((.(((.(((......))).)))))))))...)).(((((((.(((...(((((.......)))))....))).)))))))........................(((((.((((((((.........(((((.(((.((((((((....)))))))).....)))...)))))...))))))))))))).......(((.((.((((.((((((((.......))))............((((((...(((........)))....(((........(.(((((((...((((.......))))...))))))).)....(((((((....)))))))...(((((((((.......))))))))).))).....(((.((....)).)))(((((.....))))).)))))).)))).)))))).))).((((((((((((((((.........))).)))).....)))).)))))............((((....((((((((...))))))))...)))).............(((((.((((((((((((.....((((.((.((.((...........)).)).)))))))))..)))))))))..)))))...........((.((((((..((.((((((...((((((....))))))))))))))...)))))))).......((((((..........................(((((((.(((((..(((..................)))...)))))))))))).((((.....))))....)))))).................(((..((((...)))).)))............((((..(.((((((.((((.....))))...))))))))))).((((..((....))))))......(((((((.(((((.(((((((((.(((.....)))..)))).)))))..)))))....((((((.(.((((....)))).)))))))...........(((((((...(((.....)))...))))..)))............((((..((((((((.(((..........))).)))))))).))))..............(....).(((((((.(((......))).))))))))))))))..((((...)))).(((((((....)))))))......((((.....))))...((((((((((((....)))))))).)))).(((((.(((........(((.(((((....((((.........))))....))))))))........((((((((.(((((((((.......)))))))))..................(((((.(((((((((((.......((((.....((((....))))..))))...)))))))).))))))))....)))))))).................(((((((..((...((((((((......).))).).)))...))(((((((...((.....))...)))))))..))))))).))).)))))..(((..((((((........))))))..)))..........((.((((....))))))........(.(((((...((((.......))))...))))))........((((((((((((.(((((.....))))).)))))))).)))).......((((.(((.(.((((.......)))))))).))))..........(((((((.((.(((((((...))))))))).))..)))))............((((((.........((((((((.......................(((((((........)))))).).(......)..))))))))...........))))))......((((.......))))....(((((....(((((....))))).))))).(((((...)))))(((..(((....)))..))).(((((((..((((((((............))))))))..........))))))).......((((((((((((((((......)))))))))......((....)).)))))))..........(((.((((................)))).)))..(((((.(((((((((..((.(((......))))))))))..))))............(((((..((((((((..(((.....))).))))))))..)))))..........))))).(((..((.((((...........)))).))..)))......((((((((((((((((...)))))......)))))))).)))........(((.(((((((...)))))))))).(((((.(((((((((.......(((((((....((((.(((.....))).)))).....)))))))......))).)))))).)))))....((((((........))).)))....((((..((((((((....(((.......)))..(((((..........))))).))))))))..).)))....((((((.(((((((((.((((((..(((((((...(((((.....))))).....)).)))))..))))))))))))))).....((((((((...(((((((((((((((((((((((..((......)).)))))..)))))))))))))).(((((..........))))).)))).....))))))))...(((((((((((....))))))).)))).)))))).((((.....))))...........((((((((.....)))))))).........(((((.((((((..........)))))).............(((((((.............((((((((((((((((.((.((...((((...)))).)).))..))))))))))...)))))).............)).)))))((......))(((((((.(((..............))))))))))................))))).(.((((.((((....)))).))))).....((((((.(((...........(((((.((((((((((((((....)))))).))))))))...((((((....(((.....)))......))))))....((.(((((....(((.((((...)))))))...)))))..))........((((.(((((.......)))))))))..........((.((((...........)))).))........)))))......((((.(((((.....))))).))))((((.......)))).....)))))))))...(((((((((...)))))))))..(((......)))..........(((.(((((((((.((.......)))))).))))).)))...((((((....)))))).(((((.((((.....))))..)))))....((((((.(((.((.(.(((((((((((((((....)))))).)).))).)))))))))).))))))................(((((....((((((....))))))...))))).............((((((((.((((........)))).)))).))))...((((((((((((((((......((((((......))).))).(((((((((.....))))))))).....(((....))).((((..((....))))))........(((((.(((.(((((((.....(((((....)))))...)))))))....)))..)))))...............(((((..((((......))))....)))))((((......((((((....)))).))......)))).)))).)))))))))))).((........))...(((((((.((..(((......))).)))))))))................((((((((.((((...((((....))))...)))))))).))))................(((((((...)))))))............(((((((((...(((((...))))).))))))))).(((((((((..(((((((....(.(((((............((((.....((((((...)))))))))).......))))))..))))))).........(((....))).((((.....((((((.............))))))...))))..)))).)))))..(((((((......((..........(((((((((((.((......)).)).))))))..))).....((.(((((((((((...))))))))))).)).(.....((((((((.(((((....)))))..)))..)))))....)...............((((.((((((.....(((((((((((...........((((.....))))...)))))))))))................)))))).)))).))......))))))).(((..((.(((((.(((..(((((((.((((..((((.....))))..))))))).))))..))).............(((((((......))))))).......(((.((.((((.........)))))))))...........(((((((((((((((....)))))..))).)))))))...............))))).))..))).................(((((.(((.(((..(((((((((......)))))).)))...)))))))))))((((.....)))).....(((((.......)))))...(((((((((((..(((((((.((((((((.......)))))).......(((.(((((.(((((((...((((((((.((((.(((.((((((...)))))).))))))).)))))))).)))))))(((((((((.(.(((((((.(((.....)))...)))))))).))))))).))....))))).))).((((((((......................................)))))))).))))))))).))))))).)))).....((((((((...............(((((((.(((.((........)).))))))))))......((((((((.((......)).)))))))).........................)))))))).(.(((((((((.((.(((.((((...))))))).)).))))))).).))...(((.((((...((((((((....))))))))...)))).))).......((((.(((((((((.................(((((...........(((((.((((..(((((.....))))).))))..)))))...........)))))...((((((((((......)))))).)))).(((((((.....))).))))..(.((((((......))))))).....(((((.(((.(((.........))).))).))))).))))))..................)))..))))........................................((.(((((...((((((((...)))).))))...))))).)).........((..((((((....))))))..))..(((((((((.......))))))))).......(((.(((((((((.((..((((((((((......((((((...))))))....))))))))))..))....((((((.((((((((.(((((.....)))))))))))))))))))......((((..((((((...((((((...)))))).....))))))..))))...(((..((((...((..((((((((((.(((((.(((............))).)))))))))))).)))..))...((((..((((((((((...)))))))))).)))).))))..))).((((((......(((((........))))).....)))))))))))))))))).(((.((((.((((............))))))))))).....((((((((((((.((((((((((.....))))))))))....(((((.((...)).)))))..((.((((((((((.(((((.((((..((((((....(((((......)).)))....))))))..)))).)))))..............(((((..........))))).......((((((((((.((((((......))))))......(((((...((((.....))))...))))).))))))))))......(((((((((((((....)))).))))).)))).................))))...))))))))...........))))))..)))))).....((((((((..((((((((.(((....)))))))))))..)))))))).........(((.((((((.......(((((.((((((....)))))))))))....)))))).)))........((((((.(((..((((((((((((((((((((((((((((..(((..(((((...))))))))))))))))).)).)))))))).)))))...)).))..))).))))))........((((((.(((.....))).))))))........((((((((....((((((((((..............))))).)))))........)))))))).....((((((..((............))..))))))....((((....(((((((........(((((((...)))))))........)))))))....)))).((((.((((((......)))))).)))).......((((.(((.(((.(((.((((((((.((((((...))))))....((((((..((.......(((((..((((((((...))))))))...))))).....))))))))))))))))..))).))).))))))).((((........................................))))...........................((((.((((........)))).))))...............................((((((((.((.......))...))))))))..((.....((.((((....))))))..)).((((((....)))))).........(((((......))))).....(((((((((((((((.(((((((..(((...)))..))))))).)))).).)).)))))))).(((((((.......))))))).((((((((.......(((((((((((..((.....((((((((((.....)))).)))))))))).))))))))).((((((...(((.((((..(((((.(((((((....)))))))...)))))...)))).)))))))))......((((((........))))))......((((((((((((((......(((((.((((((..................))))))))))).((((((((......))).)))))...))))).))))))))).)))))))).(((((((((......)))))).)))......(((((((((..(((((....((((.((......))))))..)))))..)))))))))........((((((..((((....)))))))))).......(((((......)))))......................................(((((...))))).((.((((((((..................)))))))))).....(((((...........)))))............((((((..((((.((.........)).))))..))))))..............((((..((((...(((((((..(((...)))..)))))))...))))..)))).(((..((((.((((((((((((((((((...)))))))))).)))).))))......)))))))((((....((((....))))..))))..((((.(((.((((..(((((((..(((((...((....))....))))).)))))))...))))))).)))).((((((.(((.((..(((((......)))))..))))))))))).........((((((((...((.(((.(((((((.....)))))))))).))...((((((((....)))))))).)))))))).......((((.(((((((......(((((((..((((((.....)))))).))))..)))......))))))))))).........((((.......)))).((((((................))))))........((((..(((((((......)).)))))..))))..........(((((((.................)))).)))..............((((((.......))))))..(((((((.....(((..((((((..((..((((.....)))).))..))))))..)))....)))))))..........(((((((((.............)))))))))...((((((((.........((((.(((...))).))))...................(((((........)))))))))))))...........(((((((...((((......))))...)))))))..............((((((....(((((((.(((.......)))....................((((((((.....(((........))).....)))))))).(((.((.........)).)))...((((((.(.((((....))))))))))).......((((((......)))))).(((....)))................))).))))((((((((((((................).)))))))))))......)))))).............................(((((((((.....................(((((((((((...(((((..((((((.......))))))..)))))..((((...)))).))))))))))).(....)..((((((((....)))))))).))))))))).((((((.........((.((((...((((((......((((......))))......)).....))))...))))..))..........))))))..((((((((.........))))))))..............((((((((((................(((((..(((((((.(((((((.....)))))))..))))))).))))).......(((.((((((.......))))))..))).))))))))))..............((((((((..((((.(......(((...........)))..)))))..))))))))................(((..((((((((.....((((.((((((....)))))).)))).)))))))))))..............((((((((...))))))))...................................((((((...))))))..........(((((((.................))))))).........................((....)).((((((....)))))).(((((((((((..(((((((....((((((.(((((((............((.(((....))).)).....)))))))))))))..........(((.((((((((...))))))))))).)))))..))....))))))))))).(((((((....))))))).(((((.(((......))).....(((((((.(((((...((((...))))....)).))).))).)))).)))))....((((((...((((.(((((......)))))..(((.((.((((((...........)))))).)).)))...(((((....))))).(((...........)))....)))).)))))).(((......)))..((((.((((.((((((((..........((((.((((((((.....))))))))))))....)))))))).......((((.(((.....(((((....(((((..................((((((.(......)))))))...((((((.(((((.............))))).)))))).))))))))))))))))).((((.......))))..)))).))))...............((((((.(((((....))))))))))).(((.(((.((..((((....))))..)).))).......................(((((...))))).)))................(((((((.....(((((....)))))....))))).)).........((((((.........)))))).(((.((((((.(((.((((((((((....))))...)))))).)))..)))))).)))...((((.((((..(((((((((((....))))))).)))).)))).))))..........(((..((.(((((....))))).))..))).............((((((((((........))))))))))...............................(((((((((((...(((((......)))))..(((((((...(((((...((((((...((((((.(((((....(((.....))).)))))..))))))))))))........(((.....))))))))...)))))))...(((((......((((..((.....))..))))..))))).))))))))))).(((((..((......(((..(((......)))..)))......))..)))))....(((......)))..............................((((((((((((....))))))))))))......((((((....)))))).((((........))))......(((......))).(((((..............)))))........(((((.(((((((((.....)))))))))))))).........((((((((((...)))))))))).......((((((((......((((((((((...))))))))))......)))))))).((((((((((..((((((((......))))))))..)).))))))))....((((((((((((((((.....))))))))))...)))))).((.(((((((..((((((((((.(((((...))))).))))))...))))))))))).))...........(((.(((((((((..((((((....((((....))))..))))))..))))))))).)))...........((((........)))).(((.(((((((((........))))))))).)))..((((((((..(((((((((........))))))))))))))))).......(((((((....((((((.....)))).))....))))))).....((((((.((.....)))))))).(((...(((.((((..(((((((......)))))))...)))).)))..)))..(((.(((((((...)))))))..))).((..((((((((((((((((........)))))))....)))))).)))..))......(((((..((..(.((((((((....))))))))).(((((.....)))))...(((....((((((((....))))))))...)))))..)))))..........(((((...((((((.((....)).))))))..))))).....................((((((.....)))))).(((..((((..((.....))..))))..)))..........(((((((.(((.(((((((.((...(((...(((..((((...((((.(((.(((((...))))).)))..)))).....)))).)))...)))...)))))))))..))).))))))).........................((((.......))))..........(((..((.(((((((..(((..((.((((((((((..(((.(((.....))))))))))).))))).)).)))..)))))))))))).........(((((((..........(((((...(((((((..((((.((((((............))))))))))....))))))).)))))..)))))))..............(((((.(((.(((.....................))).))).))))).............(((((((.((((...((((..(((((((((...))))).))))))))....).)))...)))))))............(((((((((.......(((.((((....)))).)))..............)))))))))................(((((((.(((((((....))))))).)))).))).............((((.........................)))).((((((...((((((..(((((.....)))))..))))))...))))))..........(((((....))))).......(((..((((((((...........))))))))))).........((((((..((((..........((((.(((..((...((((.......))))...))..)))((((.(((((.....)))))..))))....))))..((.((((((.....)))))).)).))))...))))))........................(((((((.....((.(((((.((((((...))))))))))).)).......)))))))........................((((.(((((...........((((......))))......((((((.(((((......(((((.((((((......)))))).)))))))))))))))).((.....(((((..(((((.((....)).)))))..)))))...)).((..(((((((((((((((......)))))))).)))))))..))(((....(((((((........)))))))....))).........((((((((((((........)))))))))))).)))))..)))).(((..((.((((..(((((.((((((.((.(((((...))))))))))))))))))))))))..)))...........((((((......................))))))......(((((.((((((((((.(((.....))).)))).))))))........(((((.((((((...((((((((((((...)))))...)))).)))...)))))))))))......))))).....(((.(((((.....))))).))).(((((((((............(((......)))......((.((((((.(((((.((((.........)))))))))..((.....)).......)))))))).)))))))))...................((((..((((...(((....)))...))))..))))................(((((((.........((((....(((((....(((((((..........)))))))..)))))...........((((((((.((.(((((....))))).)).)).))))))))))...))))))).((((((((((((.........))))))))).)))........(.(((.(((........................))).))).)...................................(((....)))................((..(((((.....(((((((((((.(((......))).))))).)))))).....)))))..))..............(((((((.((((((((((((.(((......))).(((.....))).(((((.((((((...)))))).))))).))))))))))))..)).)))))..................(((((.....((((...........))))...((((..((((((..(((..((((((((((((...))))))))))))...((((.(((((...(((((................))))).)))))))))..................)))..))))))..).)))........))))).........................(((((((....))))))).....((((....((((((....)))))).))))..((((......)))).......(((((.(.(((..((((....)))))))......((((((.......))))))..............((((...((((.....))))...))))..........).)))))..........(((....)))...........((((((((......)).))))))...((((.((.((((((.((((....))))...)))))))))))).......(((((.......)))))...............((((((.((..((((......))))..))...)))))).......(((((((..(.(((((((((((..(((...((......))...))).))))))))))))))))))).((((....)))).((((((((((.((....))..)))))))).)).((((..((((((((((..((..(((.(((.....(((((((((.((.(((....)))))....(((((((((....((.((.(((.......))).))))...))))).)))).((((........))))..........))))))))).....))).)))..))...)))))......)))))..))))...((((...))))..................\n"
          ]
        }
      ]
    },
    {
      "cell_type": "code",
      "source": [
        "gold_std = {}\n",
        "gold_std['SARS'] = {}\n",
        "dist = []\n",
        "ind_added = []\n",
        "\n",
        "# Iterate over rows in pairs\n",
        "for ind in range(0, len(das_df), 2):\n",
        "    row1 = das_df.iloc[ind]\n",
        "    row2 = das_df.iloc[ind + 1]\n",
        "\n",
        "    start1, end1 = row1['Interval start'], row1['Interval end']\n",
        "    substring1 = structure_string[start1 - 1:end1]\n",
        "    seq_sub1 = seq[start1:end1 + 1]\n",
        "\n",
        "    start2, end2 = row2['Interval start'], row2['Interval end']\n",
        "    substring2 = structure_string[start2 - 1:end2]\n",
        "    seq_sub2 = seq[start2:end2 + 1]\n",
        "    if start2 > end1:\n",
        "      struct1 = row1['Secondary structure']\n",
        "      struct2= row2['Secondary structure']\n",
        "      substring1 = structure_string[start1 - 1:end1]\n",
        "      substring2 = structure_string[start2 - 1:end2]\n",
        "      seq_sub1 = seq[start1:end1 + 1]\n",
        "      seq_sub2 = seq[start2:end2 + 1]\n",
        "\n",
        "      pair_target = dot_bracket_to_matrix(struct1)\n",
        "      pair_test = dot_bracket_to_matrix(substring1)\n",
        "\n",
        "      # Compute F1 score\n",
        "      mFMI = compute_mFMI(pair_target, pair_test)\n",
        "      dist.append(mFMI)\n",
        "\n",
        "      if mFMI >= 0.9:\n",
        "        ind_added.extend([ind])\n",
        "        gold_std['SARS'][seq_sub1] = struct1\n",
        "\n",
        "      pair_target = dot_bracket_to_matrix(struct2)\n",
        "      pair_test = dot_bracket_to_matrix(substring2)\n",
        "\n",
        "      # Compute F1 score\n",
        "      mFMI = compute_mFMI(pair_target, pair_test)\n",
        "      dist.append(mFMI)\n",
        "\n",
        "      if mFMI >= 0.9:\n",
        "        ind_added.extend([ind])\n",
        "        gold_std['SARS'][seq_sub2] = struct2\n",
        "\n",
        "    else:\n",
        "      long_struct_target = row1['Secondary structure'][:start2-start1-1] + row1['Secondary structure'][start2-start1:] + row2['Secondary structure'][end1-end2-1:]\n",
        "      long_struct = structure_string[start1 - 1:end2]\n",
        "      seq_sub = seq[start1:end2 + 1]\n",
        "      # Calculate MCC for each pair\n",
        "      pair_target = dot_bracket_to_matrix(long_struct_target)\n",
        "      pair_test = dot_bracket_to_matrix(long_struct)\n",
        "\n",
        "      # Compute F1 score\n",
        "      mFMI = compute_mFMI(pair_target, pair_test)\n",
        "      # Append MCC values to the dist list\n",
        "      dist.append(mFMI)\n",
        "      long_seq_sub = seq[start1:end2+1]\n",
        "      # Check if MCC is greater than or equal to 0.8 for both pairs\n",
        "      if mFMI >= 0.9:\n",
        "        ind_added.extend([ind])\n",
        "        gold_std['SARS'][long_seq_sub] = long_struct_target\n",
        "\n",
        "# Plot the histogram\n",
        "plt.hist(dist, bins=50)\n",
        "plt.show()"
      ],
      "metadata": {
        "colab": {
          "base_uri": "https://localhost:8080/",
          "height": 430
        },
        "id": "SgoGlbFHnSTH",
        "outputId": "fb5f8a14-94a7-4ee2-a265-d24c47c0efea"
      },
      "execution_count": 91,
      "outputs": [
        {
          "output_type": "display_data",
          "data": {
            "text/plain": [
              "<Figure size 640x480 with 1 Axes>"
            ],
            "image/png": "[encoded data removed]"
          },
          "metadata": {}
        }
      ]
    },
    {
      "cell_type": "code",
      "source": [
        "len(dist)"
      ],
      "metadata": {
        "colab": {
          "base_uri": "https://localhost:8080/"
        },
        "id": "Yhu_Qu45rUPm",
        "outputId": "f5939ccf-0560-4055-b46d-abf5dea1a7db"
      },
      "execution_count": 88,
      "outputs": [
        {
          "output_type": "execute_result",
          "data": {
            "text/plain": [
              "157"
            ]
          },
          "metadata": {},
          "execution_count": 88
        }
      ]
    },
    {
      "cell_type": "code",
      "source": [
        "len(gold_std['SARS'])"
      ],
      "metadata": {
        "colab": {
          "base_uri": "https://localhost:8080/"
        },
        "id": "UcVcWH7om0IM",
        "outputId": "8cf2a692-b174-4271-ba2c-d2b51df82c9e"
      },
      "execution_count": 92,
      "outputs": [
        {
          "output_type": "execute_result",
          "data": {
            "text/plain": [
              "24"
            ]
          },
          "metadata": {},
          "execution_count": 92
        }
      ]
    },
    {
      "cell_type": "code",
      "source": [
        "lens = []\n",
        "for k,v in gold_std['SARS'].items():\n",
        "    lens.append(len(k))\n",
        "plt.hist(lens)\n",
        "plt.show()"
      ],
      "metadata": {
        "colab": {
          "base_uri": "https://localhost:8080/",
          "height": 430
        },
        "id": "9AcqtBuhMabs",
        "outputId": "52007b3e-669d-40aa-a271-879c233886ef"
      },
      "execution_count": 93,
      "outputs": [
        {
          "output_type": "display_data",
          "data": {
            "text/plain": [
              "<Figure size 640x480 with 1 Axes>"
            ],
            "image/png": "[encoded data removed]"
          },
          "metadata": {}
        }
      ]
    },
    {
      "cell_type": "markdown",
      "source": [
        "# XIST Analysis"
      ],
      "metadata": {
        "id": "ZMq0aMKEROgd"
      }
    },
    {
      "cell_type": "markdown",
      "source": [
        "## From https://doi.org/10.1073/pnas.1600008113. In this paper they looked at chemical probing and in silico models for Xist in Mouse. In their supplement they also looked at other established models and identified regions of high agreement. We use their analysis comparing to other models and take pull regions of high agreement from their secondary structure model."
      ],
      "metadata": {
        "id": "G55zlcUPkRO6"
      }
    },
    {
      "cell_type": "code",
      "source": [
        "#regions of high agreement\n",
        "conserved_xist = [[873,1009],[6278,6371],[6473,6574],[7064,7173],[9788,9846],[13883,14509],[15775,16119]]"
      ],
      "metadata": {
        "id": "djgF-j68nbSR"
      },
      "execution_count": 67,
      "outputs": []
    },
    {
      "cell_type": "code",
      "source": [
        "file_path = 'XIST_ThreeReagent_fold.ct'\n",
        "secondary_structure_strings, seq = ct_to_secondary_structure_string(file_path)\n",
        "\n",
        "for idx, structure_string in enumerate(secondary_structure_strings, start=1):\n",
        "    print(f\"XIST Structure:\", structure_string)"
      ],
      "metadata": {
        "id": "9dmrmkWClPnu",
        "colab": {
          "base_uri": "https://localhost:8080/"
        },
        "outputId": "47017ec7-bf02-4a41-c3d3-f486daea5652"
      },
      "execution_count": 68,
      "outputs": [
        {
          "output_type": "stream",
          "name": "stdout",
          "text": [
            "XIST Structure: .((((......))))...............(((.((((.((((((...(((((((((((.((((......))))...(((((((((.......))))))))).....(((((....))))).........(((((((((((((..(...........)..))))))))))))).((((((((.(........)....((((.((((((........................(((((((.....................................))))))).(......).)))))).))))..........................))))))).)..))))))))))).))).))).)))).(((((....((((.((((....))))..)))).....................(((((((((.......((((((((.........((((...(((((((.(((..........................))).)))))))...))))(((((...............)))))))))))))))))................(((((....))))).((........))...............))))).....)))))...)))........................((((((((.(..(((.....((((((((((.....................)))))))))).(((.((((((.((((((((.......(((..(((((....)))))..))).....))))))..))........(((........))).((.....))..)))))).)))............)))..))))))).))....((((.......)))).(((((((.((((((((.....))))))))(((.....)))(((((((((((..((((.......)))).))))))).).)))...)))))))....(((.(((((...(((..........)))....))))).))).......((((((((........(((((...((((..))))).....(((.(((((((((..((...)).)))))).))).))).))))))))....(((.(((.........((((......))))....)))).))).))).((((((.(((((((((.((((((.((((((((.((((((.((.(........).)))))).)).))))))))...((((((..((((((((................)))))))).)))))).))))))..))).)..))))).)))))).........................(((((.....((((((.((........))))))))...)))))............(((((((((((..)))))((((((((...(((((..(((.......((((....))))((((((())))))..)))))))......))).)))))))))))))..........(((((.....((((..((((.((.((((((..(((((((((.(((..(((((...))))).))).......(((((((...(((((((.........)))))))..)))).)))...)))))))))...)))))).)))))).))))..))))).(((((.....))))).....(((((((...(((((.(((((((((...((((((((((((((..((......((((...(((....)))...))))...))..)))).)..)))))..(((((.....))))).))))..))).))))))))))).))))))).......((........)).....................................((((((((....))))))))......................((((((((((...))).))))))).................................................(((((....(((..((((((......(((((((................(((((((........(((((.((.............))))))).................((((.(((((..............))))).)))).......)))))))....)))))))........((((...)))).))))))....)))))))).............................((((((((((....)))))).))))((((((..((((((..........))))))...))))))..(((((........)))))........((((.....................)))).((((((....................................................))))))..............(((((....)))))..........................................................(((((((................(((.......)))..............)))))))........((((...)))).(((((.......)))))..((((((((((((((((.((((.((((.(((((.((((((((((((((((...((.(((((((((((((...))))))).))))))...)).....))).)))))).)))))))......((((..........)))).(((((((....)))))))....(((((..((((..((......)).))))....)))))))))).)))))))).)))))...))).((((((.((((......))))))))))...........(((...))).(((...(((...(((...(((.....((....((....))....))..)))...)))...)))...)))...(((...(((...(((.........)))...)))...)))..................)))))))).((..(((........)))..))............................................................((((......))))((.(((......))).)).......(((((.((...)).)))))...................((((...(((((.(((((((((((((.....(((..((((((.((...(((((((......)))))))...)).(((((.((...)).)))))((((.....)))).....(((((...((((((...))))))))))).........))))))..)))..((((((......)))))).......(((((.((...)).)))))..........................))))...)))).))))))))))))))..........((((((((.....((((((......)))))).......((((((((...))))))))......))))))))....................((((((...))))))....................((...((((((......)))))).))....((((((((...))))))))...................................(((((...)))))...........((.(((((..((...((((((......)))))).))....(((((.((...)).)))))((((.....))))......((((...((((((...))))))))))...........((((((((....((((((......)))))).......(((((.((...)).)))))((((.....)))).............((((...((((((...))))))))))...........))))))))....((((((......)))))).......(((((.((...)).)))))((((.....))))......((((...((((((...))))))))))...........((((((((....((((((......)))))).......(((((.((...)).)))))((((.....))))....((((((...((((((...)))))))))))).........))))))))....((((((......)))))).......(((((.((...)).)))))................((((((((..................)))).))))...........))))).))..............................(((((.((...)).))))).................................(((.....)))..............................((((((......)))))).......(((((.((...)).)))))........((((((((...........((((...((((((...))))))))))............))))))))...((((((......))))))...........................(((........((((((((.(((..(((((((((......))))).))))....))).........(((((((......)))))))..........((((..((((((((((......................(((...((((.......))))))).................(((...))).(((((((......)))))))........((((((((..............................)))))))).........((((((((....((.((......))))))))))))(((((((...))))))).........(((((((((((..........................))))))).(((((..((...................))..))))).............................((((.((.......)).)))).(((((...(((.....)))..)))))....))))(((((....))))).........))))))))....))....))))............)))))))).....))).........(((((...(((.((((.((....)))))).((((.....................................))))....(((((..(.(((....(((..........)))......((((.(((((((..(((.....)))............(((((.(((((......)))))..)))))....((((((((...........(((((.((............)).......(((....(((......)))..)))...........((((........)).)).......)))))..((((....))))......)))))))))))......(((((((...........)))))))......)))).))))...........))).)..))))).(((.....))).(((((....((((((.(((((((...)))).)))....(((..(((((()))..))))).))))))))))))))).((((((........))))))..............)))))......((((((((((((((...(((........(((((..((((......((((.((..(((......)))..)))))).........((((.((((.((((..((((((........((((((((((((...(((.....))).)))))))))))).((((.((((......)))).))))..........((((((..((((....)))).))))))(((((.((((...........(((((...((....))...))))).........))))....(((....))).........))))).............................(((((.(((....)))....))))).((.(((((((..(((....))).((((.....((((...))))........)))).(((((((((...........)))))))))))))))).))......))))))........)))))))).))))...........(((....)))..(((....))).))))....)))))...)))...)))))...))))))))).....(((((.((((....................(((.......(((((((((.............(((....))).(.(((((((....(((((...))))))))))))).((((((((.(((((........)))))))))))))...(((((.....))))).((...))...((((.......)))).(((........))).......(((((....)))))....................(((....)))...))))))))).))).((((((..((......)))))))).........................(((((((...((((.((((.........))))))))..........)))))))...............................)))).))))).............((((((((.((...((......))....))))))))))..(((...(((((....)))))...))).........(((((....)))))................................(((((((((((......))))))))))).(((((........(((((........)))))...........(((.....((((((.....((((((.....((((((...........)))))).............((((......)))).((....(((.((((((....))).)))....((((.....)))).(((....)))..)))...))..))).)))....))))))...))).((((((((..((.......))))))))))....)))))....(((((((.....)))))))..........((((((((.........(((...((((((((.((.(((....))).)))))))))).))).)))))))).......(((((..((.((((....)))).))....)))))......(((((((.(((((((.....))))............))).)))))))................(((((..((..(((((...........(((((....((((.......))))(((((((..((((........)))).(((.......)))))))))).(((((....))))).(((((((((.(((....((((.......(((......).)).((((.(((((((.......))))).))....((((....))))(((((...........(((((((......))))))).......)))))........))))......))))..))).)))))))))(((((((...........)))))..............))))))).)))))..))..)))))............................................((((.((.(((.............))).)).)))).......(((((.((.....................)))))))..(((.......))).((((..((........)).(((...((((............))))...)))..)))).......(((((....))))).........................................................................(((.(((............)))...))).((((.(((((..(((((((((((.(((((....((....)).((((...)))).....((((((...)))))).(((....)))..............(....).(((((((.(((.....................))).))))))).....................(((((((....))))))))))))......................(((((((((....)))))))))......))).)))).))))...))))))))).................................(((((((((.....(((((........(((.(((((.....))))))))......(((..((((......(((((....)))))))))))).)).))))))))))))..(((.((........)))))..((((.(((((((.......((((((.((((((((.(.((((((.....................)))))))))))))))............(((((((....)))))))..)))))).........))))))).)))).....(((((((...(((.(((.((((((....((........)).....)))))))))(((((((.(((..(((.((.....(((.((..........)).))).....)).))).)))...(((((((((((((..((((((....))))))..((((.((((....(((.((...(((((...)))))..)).))).))))...)))).))))))))))))).........((........)).((((.....))))(((((((((.((................(((...(((((..................................)))))....)))......(((((..(((((((((((((((...............))).))).))))))))).)))))..)).)))))).)))..................)))))))....))))))))))...................((((...(((((((((...............................))))))))).))))...............((((((((......((((......((((((....(((((((.((.(............))).)))))))))))))))))((((((.((....)).)))))).))))))))....((((((.(((((((...(((.(((((((((........)))))))))..)))..)))))))((.((((....))))))(((((.......((((((.((((.(((.........(((((((((.((((.......)))).)))))...((((.....))))...))))...))).))))............(((((((.....(((............((((((......)))))))))))))))).))))))......)))))..................((((((...((((((((.....((((......))))...)))))))).....))))))........((((((((..((((.......)))).........))))))))......))))))........................................................((.(((((.......)))))...))...................................................................................((((...((((((.((((((((........)))))..........)))))))))..)))).(((((((((((((.((((((((((.((.(((((....((.........))....))))).)).))))))))))(((((.....((((((..........))))))......)))))..((((((((......(((..((.(((...(((.(((((...(((((((((((......)))))......((....))....))))))....(((...))).(((......)))...))))).))).)))))....))))))))))).))))))(((((((..............))))))).....................................................(((())))))).........)))).........................(((((((..((((((((((..........((((.(((((.......((......)).((((((.....(((..........))).......))))))..............................))))))))).((((...............)))).............((...(((((..............((.....))..............)))))...))............................((((....................))))....................................((...(((((.............)))))...)).............................(((.....))).)))))))))).((.....)).............((((..................................))))...)))))))............................................................................((......)).............................................................................................................................................................................................................................................................................................................................((.(((((..........)))))))(...(((((..(((...........((((((.....)))..)))...........)))...)))))...)....(((.....))).((((.......))))......................(((((((......))))))).......................................(((((.........)))))...................................(((.........)))..................................((((((.....(((((....((((((.(((..(((((............((((.....)))).((((.(.....).))))..................(..(((((((((............(((((((((((((............((((((...........))))))..........(((((..(.((((((............(((((((((......)))))))))......(((((..(((((((.((.(((....)))))..........((((((............)))).))....)))))))..))).))..................................)))))))..))))).......)))).))))))))).....)))))))))..).((((....)))).)))))....))).)).))))...))))))))))).......((((((((((.((....))............((((((((.((..((.(((((...))))))).((((........)))).......((((....))))........(.(((..(((.........)))....(((((((.(((.....)))............(((.....((((...)))).....))).(((((((((....))))))))).((((............))))............((((((((.........(((((...............................((.(((((.....))))))).((((((...((..((....)).))...)))))).........)))))..........))..)))))).........))))))).))))...............((.(((....))).))))))))))))(((((((((.....................))))))))))....((((((((((.((((..................((((((((......)))))...)))..((((((..(((...((.(((((...((....))...)))...)).)).))).....))))))...))))))))))))))...................(((((((((((((...........((((..........))))))))).......)))).((((.(((((((....(((((((((......)))...))))))....))).))))))))......)))))).))))))).....(((((((.....(((((((..((((((((((.(((.(((((((.....))))))).....(((((.(((....((..................(((((((((((((((.....))))..))).......))))))))...((((((((.......)))))))).)).....))).)))))..............(((...))).............))).)))))))))).)))....)))).(((((......))))).))))))).(((.......)))...((((((((.(((((((.(((((...........)))))..(((((((.........)).)))))...((.(((.....))).))......((((((((((........(.(((((((......................)))))))).........(((((((.....(((((......))........((......)).(((((.......)))))((((...((((..((((......))))...)).))..)))).......))).....))))))).((((((((........(.(((...(((((..........(((((...)))))..)))))))))........)))))))).........................)))))))))).....................)))))))..(((((((((((((((((((((.((((.....))))......))))))..)))))))))...)))))).(((......)))..........................(((((((((............))))))))).........)))..))))).((((((((((((((.........((........)).......................((((..........)))).................)))))...))))...)))))...................((((((((.........)))))))).((.....)).((((...((((...................((((((.............))))))(((....))).........................(((..(((((((((........)))))..))))..))).............(((.....)))..........))))))))........................................((((.......)))).((((((((.............(((((((.....((((...))))..))))))).........(((((((((((....(((((((......).))).)))..)))))....)))))).....))))))))((((((((.((((....))))............((((((........))))))..(((((((.((((((............)))))))))))))...........((((((....))))).).................(((.............((((((((((....((((........))))........)))))))....))).(((............))).............................................................((((........))))............(((((.((................(((((.(....))))))......((.....))................................((((..................)))).)).))))).((((....))))............)))......((((.....)))).....))))))))..............................((((((............(((((............)))))............((((...........(((((((.......)))))))....(((((((((.(.....)............................(((((((((.....)))))))))..........)))))))))...))))....((((((((...................))))))))..............................)))))).........(((((((.....)).)))))...(((((......)))))(((....)))...................(((((((((((((((..........)))))))))))))))............((((((.......((........))........))))))........................((((((...((((....((((.((((....)).)).))))...............((((((...)))...))).....))))...))))))........................((((((((((((((((((((.........(((.............)))........)))))).((((((((((...................)))))))).)).((((...))))....(((((...)))))........((((((((.....((.(((....(.((((...(((((.....))))).......)))))...))).))..))))))))...........................................(((((((...))))))).(((...((....))...)))....((.((((.....((((((((..(((((.......))))))))))))).....)))))).))).....((.(((((..........((((........))))......))))))).)))))))))))..........................((((....((.............((((((((................(((((.((((((.....)))))))))))............)).))))))..))....))))((((((((((...))))))))))...(((((((....(((.((((((....((.........))...)))))).)))...))))))).................(((((((...((((.(((((........)))))...............((((((.................)))))).......(((((((..((((((..........)))))).....))))))).((((.....((......))....))))......((((((......)))))))))))))....((((((.((.....((((..........)))).........)).)))))).(((((((..(((.............)))..)))))))..)))).(((...((...((((((.........((((..........))))..))))))))...)))..(((((((..((((.((...(((...)))....))))))...(((((.....(((.....)))..))))).(((((...((((((((.(((((.......(((((...............))))).....))))).))..)))))).)))))....(((((((((((.(((.((((..(((..((((.(((((((((((.((((.....(((.((((((........))).(((.((((((((...((((.......))))...)))))))).)))(((((............((((((....(((((((((..(((((.((.....((((((.((...)).))))))))))))))))))...................)))))))))......))))))))))))..))))))))))))....(((((((......)))))))..................((((((..(((.(((((......))))).)))..................((((......)))).)))))).))).)))).)))..))))...........((......))...)))))))))))))).)).))))).(((((.(((((((((.......................))))))...........................)))....)))))...............(..((((.............(((((((((((.((...............((((..((((((((((.(((((..........(((((((.........))))))).................(((((........((..((((..(((((..........(((((...((((.......(.(((......((((((((((.((.(((.(((((((.....)))))))..........))).)).))))))))))))))......))))....)).))).(((((((.......))))))).....))))).....)))))).......))))).)))))))))))))))...))))...)))))..))))))))((....))........((((((...(((((.((..((((...(((...((((((..(((.((...........((((((((.(((.....))).)))))))).............(((((......)))))..........((.....)).))))))))))).......)))...........)))).)).)))))...))))))))))..)............(((..(((((((((.........((((......................))))....)))))))))....((((....)))).....(((.......))).(((...((((((...................................)))))).)))....((((..(((((..........(((((.....(((.(((((..(((((.((((((.....((((.........))))..(((.(((.........))).)))..((((((.((((((............(((((((((.((((((((((....((.((((((................)))))).))))).))))))).....(((..............(((((.....))))).)))........))))))))).)))))).))))))...))))))..)))))..)))))))).....))))))))))...))))..(((((((....))))))).)))\n"
          ]
        }
      ]
    },
    {
      "cell_type": "code",
      "source": [
        "pgen_gold_std = {}\n",
        "pgen_gold_std['XIST_mus'] = {}\n",
        "for r in conserved_xist:\n",
        "  sub = structure_string[r[0]:r[1]]\n",
        "  seq_sub = seq[r[0]:r[1]]\n",
        "  pgen_gold_std['XIST_mus'][seq_sub] = sub"
      ],
      "metadata": {
        "id": "UCV0lxCCoQ--"
      },
      "execution_count": 69,
      "outputs": []
    },
    {
      "cell_type": "code",
      "source": [
        "lens = []\n",
        "for k,v in pgen_gold_std['XIST_mus'].items():\n",
        "    lens.append(len(k))\n",
        "print(len(lens))\n",
        "plt.hist(lens)\n",
        "plt.show()"
      ],
      "metadata": {
        "colab": {
          "base_uri": "https://localhost:8080/",
          "height": 448
        },
        "id": "XJtMGekmNgOZ",
        "outputId": "f4703791-5ae9-4753-a41e-e7e3b8558fb0"
      },
      "execution_count": 95,
      "outputs": [
        {
          "output_type": "stream",
          "name": "stdout",
          "text": [
            "7\n"
          ]
        },
        {
          "output_type": "display_data",
          "data": {
            "text/plain": [
              "<Figure size 640x480 with 1 Axes>"
            ],
            "image/png": "[encoded data removed]"
          },
          "metadata": {}
        }
      ]
    },
    {
      "cell_type": "markdown",
      "source": [
        "# MALAT Structures"
      ],
      "metadata": {
        "id": "Nr9T7RaDjK9J"
      }
    },
    {
      "cell_type": "markdown",
      "source": [
        "# This dataset was used in this paper: 10.1261/rna.079388.122 . In this paper they compiled data from SHAPE-MaP and a gene-specific primer amplification strategy to examine the full-length MALAT1 structure in cells and cell-free, in two cell types, and across two species (African green monkey and human). Their results show a high correlation in shape and they subset their data to high confidence regions R^2 > 0.8 across all replicates. We take those regions of high agreement from their analyses."
      ],
      "metadata": {
        "id": "WXcfRMVhoxaC"
      }
    },
    {
      "cell_type": "code",
      "source": [
        "import os\n",
        "\n",
        "txt_files = [f for f in os.listdir('.') if f.endswith('.ct')]\n",
        "txt_files\n",
        "malat_gold_std = {}\n",
        "malat_gold_std['malat'] = {}\n",
        "for f in txt_files:\n",
        "    if 'SARS' in f or 'XIST' in f:\n",
        "        continue\n",
        "    else:\n",
        "      secondary_structure_strings, seq = ct_to_secondary_structure_string(f)\n",
        "      print(len(seq) == len(secondary_structure_strings[0]))\n",
        "      print(is_complete_dot_bracket(secondary_structure_strings[0]))\n",
        "      malat_gold_std['malat'][seq] = secondary_structure_strings[0]"
      ],
      "metadata": {
        "id": "UnI-4DvVmD30",
        "colab": {
          "base_uri": "https://localhost:8080/"
        },
        "outputId": "ccbdd138-10f7-44fb-8856-c029e536068e"
      },
      "execution_count": 96,
      "outputs": [
        {
          "output_type": "stream",
          "name": "stdout",
          "text": [
            "True\n",
            "True\n",
            "True\n",
            "True\n",
            "True\n",
            "True\n",
            "True\n",
            "True\n",
            "True\n",
            "True\n",
            "True\n",
            "True\n",
            "True\n",
            "True\n",
            "True\n",
            "True\n",
            "True\n",
            "True\n",
            "True\n",
            "True\n",
            "True\n",
            "True\n",
            "True\n",
            "True\n"
          ]
        }
      ]
    },
    {
      "cell_type": "code",
      "source": [
        "lens = []\n",
        "for k,v in malat_gold_std['malat'].items():\n",
        "    lens.append(len(k))\n",
        "print(len(lens))\n",
        "plt.hist(lens)\n",
        "plt.show()"
      ],
      "metadata": {
        "colab": {
          "base_uri": "https://localhost:8080/",
          "height": 448
        },
        "id": "ZHrFp284R3vY",
        "outputId": "e6066a94-9495-4952-a163-cb9a233c9a96"
      },
      "execution_count": 97,
      "outputs": [
        {
          "output_type": "stream",
          "name": "stdout",
          "text": [
            "12\n"
          ]
        },
        {
          "output_type": "display_data",
          "data": {
            "text/plain": [
              "<Figure size 640x480 with 1 Axes>"
            ],
            "image/png": "[encoded data removed]"
          },
          "metadata": {}
        }
      ]
    },
    {
      "cell_type": "markdown",
      "source": [
        "# Structures and seq subsetting from full lnegth ncRNA"
      ],
      "metadata": {
        "id": "7XBj3WuKjae0"
      }
    },
    {
      "cell_type": "markdown",
      "source": [
        "From 10.1093/bib/bbac205. In this paper they curated secondary structures from literature. Looking at papers similar to the ones above. I am taking all lncRNA structureal models from their dataset that are supported by at least two measurement techniques. These are full length structural models. I subset each model into by a window of 200 bp and search for full dot brackets within these models."
      ],
      "metadata": {
        "id": "HusSH2kpwGXe"
      }
    },
    {
      "cell_type": "code",
      "source": [
        "#>ROX2\n",
        "seq = 'TGTTGCGGCATTCGCGGCCTGGTCACACTAAGCTAGGGCTACTTTTTATATCATAAGTCGAGCGTTTAGGTAGCTCGGATGGCCATCGAAAGGGTAAATTGGTGTTACATATAGCTTTAGAGATCGTTTCGAATCACATTGATAATCGTTCGAAACGTTCTCCGAAGCAAAATCAAGCAAGAGTAACGATTTCCGCATAGTCGAAAATGTTTAAGTTGAATTGTCTTACGGACAGTGAGATGAGTACGACTATTTGGAAATCACAAACGAATTGTTTTCATGGTTGACGCGCTTGTCAAGCTACAAAACAAAATGAATGATATACAATATACAATATACAATATGCAATACAATACAATACAAGACAAAAAAATGTGTCTTGGAACGCAACATTGTACAAGTCGCAATGCAAACTGAAGTCTTAAAAGACGTGTAAAATGTTGCAAATTAAGCAAATATATATGCATATATGGGTAACGTTTTACGCGCCTTAACCAGTCAAAATACAAAATAAATTGGTAAATTTCATATAACTAGTGAAATGTTATACGAAACTTAACAATTGCCAAATAA'\n",
        "struct = '.................................................................................................................(((((.((((.((((((((((.............)))))))))).)))).)))))...................((((((((.(((((((...........(((..(((((((...)))))))..))).....))))))).)))))))).........(((((((...((((((((....)))))).))..))))))).................................................(((((((........)))))))........((((((.......))))))................(((.(((((((((((((((....((.(((........))).)).....))))))))))))))).)))......................((((.(((.((((.((((((.........)))))).)))).))).))))...........'\n",
        "\n",
        "#>HOTAIR\n",
        "hotair_seq = 'GACUCGCCUGUGCUCUGGAGCUUGAUCCGAAAGCUUCCACAGUGAGGACUGCUCCGUGGGGGUAAGAGAGCACCAGGCACUGAGGCCUGGGAGUUCCACAGACCAACACCCCUGCUCCUGGCGGCUCCCACCCGGGGCUUAGACCCUCAGGUCCCUAAUAUCCCGGAGGUGCUCUCAAUCAGAAAGGUCCUGCUCCGCUUCGCAGUGGAAUGGAACGGAUUUAGAAGCCUGCAGUAGGGGAGUGGGGAGUGGAGAGAGGGAGCCCAGAGUUACAGACGGCGGCGAGAGGAAGGAGGGGCGUCUUUAUUUUUUUAAGGCCCCAAAGAGUCUGAUGUUUACAAGACCAGAAAUGCCACGGCCGCGUCCUGGCAGAGAAAAGGCUGAAAUGGAGGACCGGCGCCUUCCUUAUAAGUAUGCACAUUGGCGAGAGAAUUAAGUGCUGCAACCUAAACCAGCAAUUACACCCAAGCUCGUUGGGGCCUAAGCCAGUACCGACCUGGUAGAAAAAGCAACCACGAAGCUAGAGAGAGGAGCCAGAGGAGGGAAGAGAGCGCCAGACGAAGGUGAAAGCGAACCACGCAGAGAAAUGCAGGCAAGGGAGCAAGGCGGCAGUUCCCGGAACAAACGUGGCAGAGGGCAAGACGGGCACUCACAGACAGAGGUUUAUGUAUUUUUAUUUUUUAAAAUCUGAUUUGGUGUUCCAUGAGGAAAAGGGAAAAUCUAGGGAACGGGAGUACAGAGAGAAUAAUCCGGGUCCUAGCUCGCCACAUGAACGCCCAGAGAACGCUGGAAAAACCUGAGCGGGUGCCGGGGCAGCACCCGGCUCGGGUCAGCCACUGCCCCACACCGGGCCCACCAAGCCCCGCCCCUCGCGGCCACCGGGGCUUCCUUGCUCUUCUUAUCAUCUCCAUCUUUAUGAUGAGGCUUGUUAACAAGACCAGAGAGCUGGCCAAGCACCUCUAUCUCAGCCGCGCCCGCUCAGCCGAGCAGCGGUCGGUGGGGGGACUGGGAGGCGCUAAUUAAUUGAUUCCUUUGGACUGUAAAAUAUGGCGGCGUCUACACGGAACCCAUGGACUCAUAAACAAUAUAUCUGUUGGGCGUGAGUGCACUGUCUCUCAAAUAAUUUUUCCAUAGGCAAAUGUCAGAGGGUUCUGGAUUUUUAGUUGCUAAGGAAAGAUCCAAAUGGGACCAAUUUUAGGAGGCCCAAACAGAGUCCGUUCAGUGUCAGAAAAUGCUUCCCCAAAGGGUUGGCAGUGUGUUUUGUUGGAAAAAAGCUUGGGUUAUAGGAAAGCCUUUCCCUGCUACUUGUGUAGACCCAGCCCAAUUUAAGAAUUACAAGGAAGCGAAGGGGUUGUGUAGGCCGGAAGCCUCUCUGUCCCGGCUGGAUGCAGGGGACUUGAGCUGCUCCGGAAUUUGAGAGGAACAUAGAAGCAAAGGUCCAGCCUUUGCUUCGUGCUGAUUCCUAGACUUAAGAUUCAAAAACAAAUUUUUAAAAGUGAAACCAGCCCUAGCCUUGCCUUUGGAAGCUCUUGAAGGUUCAGCACCCACCCAGGAAUCCACCUGCCUGUUACACGCCUCUCCAAGACACAGUGGCACCGCUUUUCUAACUGGCAGCACAGAGCAACUCUAUAAUAUGCUUAUAUUAGGUCUAGAAGAAUGCAUCUUGAGACACAUGGGUAACCUAAUUAUAUAAUGCUUGUUCCAUACAGGAGUGAUUAUGCAGUGGGACCCUGCUGCAAACGGGACUUUGCACUCUAAAUAUAGGCCCCAGCUUGGGACAAAAGUUGCAGUAGAAAAAUAGACAUAGGAGAACACUUAAAUAAGUGAUGCAUGUAGACACAGAAGGGGUAUUUAAAAGACAGAAAUAAUAGAAGUACAGAAGAACAGAAAAAAAAUCAGCAGAUGGAGAUUACCAUUCCCAAUGCCUGAACUUCCUCCUGCUAUUAAGAUUGCUAGAGAAUUGUGUCUUAAACAGUUCAUGAACCCAGAAGAACGCAAUUUCAAUGUAUUUAGUACACACACAGUAUGUAUAUAAACACAACUCACAGAAUAUAUUUUCCAUACAUUGGGUAGGUAUGCACUUUGUGUAUAUAUAAUAAUGUAUUUUCCAUGCAGUUUUAAAAUGUAGAUAUAUUAAUAUCUGGAUGCAUUUUC'\n",
        "hotair_struct = '..((((((.(((((((((.(((...(((....((((((((...(((.....))).))))))))......((.((((((......))))))..)).((((...((.((.((((((((...((((((.((...((((((....((((....)))).......)))))).)).))).............((.(((.((((((....)))))).))).))..........)))...)))))))).))))...)))).....)))))))))))).........(((((..((((((((.(((((..(((.........)))))))).....((((..(((((.(.((.((.....(((((.(((...))).))))).......))))))))))..)))).....))))))))....)).))).))).)))))).........(((((..........)))))..........((((((.(((.((....(((((.......))))).......))..))))).)))).........(((((((((((.......((((((..............(((.....)))........((((((..((((((((((.(((....(((((.((....))(((((.(((...........)))....(((........))).................((((....((((((.((((.((............((((((..(((..................)))..))))))....)).))))))))))))))....((((.....((((((((((((((.......)))))).))))))))))))..))))).......((((.......)))).(((......)))..)))))))).))))))))))....(((((...........))))).))))))........((((....))))((.((..((((((((...(((((....((((....)))).))))).))))))))..)).)).))))))..........))))))))).)).........(((....(((((((.((((....((((((..............((((((((...........(((((.......((((((((...(((((...(((((....)))))........)))))..))))))))......)))))............))))).))))))))))))).)))).)))....((((((.....(((((((.(((...((((....))))...))).(((....(((....)))..)))..((((....))))..)))))))................))))))...(((((((.((...((((.(((..(((.(((((.((.....))..)))))..)))..)))))))........(((((((..(((((((((((...)))))))))))....)).)))))....................................))))))))).)))..((.((((((.((((((...(((((((((......(((((..((((.((..((((..............)))))))))).(((.(((((....((.((((((....((((((....................(((((..(((.(((((((((......(((((((..............))))))).((.....))........((((((((....))))))))..)))))...)))).))).....)))))((((...)))).....))))))........................(((((....))))).))).)))))....))))).))).....................(((((.(((.......((.......)).(((..(((.((.......))))).)))))).))))).)))))..........))))...(((((((.......)))))))..)))))...))))..)).........((.....(((((.((...)).)))))......)).(((((.....................)))))..((((((((...)))))))).((.((((((((((..(((...........))).)))))))))).)))))))).))......'\n",
        "\n",
        "#>RepA\n",
        "rep_a_seq = 'CCCAUCGGGGCCACGGAUACCUGUGUGUCCUCCCCGCCAUUCCAUGCCCAACGGGGUUUUGGAUACUUACCUGCCUUUUCAUUCUUUUUUUUUCUUAUUAUUUUUUUUUCUAAACUUGCCCAUCUGGGCUGUGGAUACCUGCUUUUAUUCUUUUUUUCUUCUCCUUAGCCCAUCGGGGCCAUGGAUACCUGCUUUUUGUAAAAAAAAAAAAAAAAAAAAAAAAACCUUUCUCGGUCCAUCGGGACCUCGGAUACCUGCGUUUAGUCUUUUUUUCCCAUGCCCAACGGGGCCUCGGAUACCUGCUGUUAUUAUUUUUUUUUCUUUUUCUUUUGCCCAUCGGGGCUGUGGAUACCUGCUUUAAAUUUUUUUUUUCACGGCCCAACGGGGCGCUUGGUGGAUGGAAAUAUGGUUUUGUGAGUUAUUGCACUACCUGGAAUAUCUAUGCCUCUUAUUUGCGUGUACUGUUGCUGCUGAUCGUUUGGUGCUGUGUGAGUGAACCUAUGGCUUAGAAAAACGACUUUGCUCUUAAACUGAGUGGGUGUUCAGGGCGUGGAGAGCCCGCGUCCGCCAUUAUGGCUUCUGCGUGAUACGGCUAUUCUCGAGCCAGUUACGCCAAGAAUUAGGACACCGAGGAGCACAGCGGACUGGAUAAAAGCAACCAAUUGCGCUGCGCUAGCUAAAGGCUUUCUUUAUAUGUGCGGGGUUGCGGGAUUCGCCUUGAUUUGUGGUAGCAUUUGCGGGGUUGUGCUAGCCGGAAGUAGAAAGCCAAGGAGUGCUCGUAUUAGUGUGCGGUGUUGCGCGGAAGCCGCAGAGGACUAGGGGAUAGGGCUCAGCGUGGGUGUGGGGAUUGGGCAGGGUGUGUGUGCAUAUGGACCCCUGGCGCGGUCCCCCGUGGCUUUAAGGGCUGCUCAGAAGUCUAUAAAAUGGCGGCUCGGGGGCUCCACCCGAGGCUCGACAGCCCAAUCUUUGUUCUGGUGUGUAGCAAUGGAUUAUAGGACAUUUAGGUCGUACAGGAAAAGAUGGCGGCUCAAGUUCUUGGUGCGGUAUAACGCAAAGGGCUUUGUGUGUCACAUGUCAGCUUCAUGUCUGAGUUAGCCUGGAGAGGUGGCACAUGCUCUUGAAUGUGUCUAAGAUGGCGGAAGUCAUGUGACCUGCCCUCUAGUGGUUUCUUUCAGUGAUUUUUUUUUUGGCGGGCUUUAGCUACUUGGCGGGCUUUGCCCGAGGGUACACUUGGUGCAUUAUGGUAGGGUGUGGUUGGUCCUACCUUGUGCCACUCGAAGCUGAGGCAAGGCUAAGUGGAAGUGUUGGUUGCCACUUGACGUAACUCGUCAGAAAUGGGCACAAGUGUGAAAGUGUUGGUGUUUGCUUGACUUCCAGUUAGAAAUGUGCAUUAUUGCUUGGUGGCCAGGAUGGAAUUAGACUGUGAUGAGUCACUGUCCCAUAAGGACGUGAGUUUCGCUUGGUACUUCACGUGUGUCUUUAGUCAUCAUUUUUUCGAAGUGCCUGCCCAGGUCGGGAGAGCGCAUGCUUGCAAUUCUAACACUGAAGUGUUGGAUGAUGUCGGAUCCGAUUCGAGAGACCGAGGCUGCGGGUUCUUGGUCGAUGUAAAUCAUUGAAACCUCACCUAUUA'\n",
        "rep_a_struct = '.....(((((....((((((....)))))).)))))....((((.((((....))))..)))).((((((..(((((((((((((((((((((.......(((((((((........((((...(((((((.(((..........................))).)))))))...))))((.((...))))........))))))))))))))))))...............(((((....))))).(((....)))...............(((...((((....))))...))).(((.((............................((((....((((((((((.....................))))))))))....))))))..))))))))))))...)))...))))))..((((((((((.((((((.(((..((((.....((((.((.(((.(((.((..(((((.....((((((((((((..(((.((((((..............((((.......)))).(((((((.((((((((.....))))))))((((...)))).((((((((((..((((.......)))).)))))))..)))....)))))))..((((((((((...(((.......((.((((...((.((((((.((((...))))..........)))))).)).((((...)))).........)))).)).....))).))))))))..)).........)))))))))..))))))))).)))..))))))).))))))..))))))))))..))).((((.(((((((((.((((((.((((((((.((((((.((.(........).)))))).)).))))))))...((((((..((((((((................)))))))).)))))).))))))..))).)..))))).)))).)))))))))).)).)))).......(((((.((((.((((((.((........)))))))).))))))))).((((......)))).(((((.......((((((((...(((((.((((.......((((....))))(((((((........)))))))......)))))))))))))))))..))))).(((((((...((((((((((((........((((((....(((.((((((((((..((((((((......))))).)))....(((((((.........)))))))(((.((((((..(((((((.(((...((((.(((((((....(.((((..((((((.....)))))).....)))))........(((((........))))).))))))).)))).....))).)))..)))))))))))))..............((((..(.((((.((((.....)))))))).).))))..((((((((....(((...........)))......)))))))).))))..))))))..)))....))))))...((((((((....)))))))).(((.....)))((((.(((((..(((......)))..)))))))))....))))))))))))....))).))))'\n",
        "\n",
        "#>PAN\n",
        "pan_seq = 'ACUGGGACUGCCCAGUCACCUUGGCUGCCGCUUCACCUAUGGAUUUUGUGCUCGCUGCUUGCCUUCUUGCCGCUUCUGGUUUUCAUUGGUGCCGCCGAUUGUGGGUUGAUUGCGUCGCUUUUGGCAAUAUACCCAUCCUGGCUUUCGGCUAGGUUUUCCGUCCUACUUUUCCCACAUUGGCCUGAGAGCUGUAGUACAAAAAACACCGCGCGGUCUGGAGCUCUCCAUAAGCCCGCAGAACAAAAGCUGCGAUUUGCCCAAAAACCUUGCCAUGGCAACUAUACAGUCACCCCUUGCGGGUUAUUGCAUUGGAUUCAAUCUCCAGGCCAGUUGUAGCCCCCUUUUAUGAUAUGCGAGGAUACUUAACGUGUCUGAAUGUGGAAUAUAAUGUGAAAGGAAAGCAGCGCCCACUGGUGUAUCAGAACAGUGGUGCACUACCUAUCUGCUCAUUCGUUGUUUCGGUUCUGUGUUUGUCUGAUUCUUAGAUAGUGUUGAGGUAAUUCUAGAAAGCGGAUUGAGUGUAAAUCGGGCCACUUUGCCCUAAAUGUGACAAUCUGGAUGUGUAUCUUAUUGGUGCGUUGUGAAGCAUUUUAAAAUGCGUUUUAGAUUGUAUCAGGCUAGUGCUGUAAUGGUGUGUUUAUUUUUCCAGUGUAAGCAAGUCGAUUUGAAUGACAUAGGCGACAAAGUGAGGUGGCAUUUGUCAGAAGUUUCAAAGUCGUGUAAGAACAUUGGACUAAAGUGGUGUGCGGCAGCUGGGAGCGCUCUUUCAAUGUUAAUGUUUUAAUGUGUAUGUUGUGUUGGAAGUUCCAGGCUAAUAUUUGAUGUUUUGCUAGGUUGACUAACGAUGUUUUCUUGUAGGUGAAAGCGUUGUGUAACAAUGAUAACGGUGUUUUGGCUGGGUUUUUCCUUGUUCGCACCGGACACCUCCAGUGACCAGACGGCAAGGUUUUUAUCCCAGUGUAUAUUGGAAAAACAUGUUAUACUUUUGACAAUUUAACGUGCCUAGAGCUCAAAUUAAACUAAUACCAUAACGUAAUGCAACUUACAACAUAAAUAAAGGUCAAUGUUUAAUCCAUA'\n",
        "pan_struct = '((((((....)))))).((((((((((((((..((((...((.....((((.(((((((..((((..((((((....((((((...(((.(((((((...((((((..(((((..........)))))..))))))..))))....)))((((........)))).............(((..(((((((.(((..........(((....)))))).))))))).....)))(((((........)))))......)))))))))..))...))))...............................(((((.......)))))...............................((((((.....))))))....................))))..))))))).((((((...........)))))).))))..))...(((((.............................................................)))))..............((((......))))........((((((((....(((((......(((((........))))).....)))))...)))))))).................................((((((((........((((((...(((((...((.((........)).))...))))).........)))))).......)))))))).......)))).))))))))).......................((((..(((((((.(((((.(((((...)))))......((((((.(((...((((((......(((((((((((........))))))))))).........(((((.((((((..((((((.....((((((.((....((.(((.....))).))...)))))))).......))))))...........)))))))))))...................)))))))))))))))......................))))).)))).))))))).)))))................'\n",
        "\n"
      ],
      "metadata": {
        "id": "gpNaE7V2oUe9"
      },
      "execution_count": 107,
      "outputs": []
    },
    {
      "cell_type": "code",
      "source": [
        "more_gold_std = {}\n",
        "more_gold_std['ROX2'] = {}\n",
        "more_gold_std['hotair'] = {}\n",
        "more_gold_std['repA'] = {}\n",
        "more_gold_std['PAN'] = {}\n",
        "\n",
        "seq_split, struct_split = split_sequence_and_dot_bracket(seq, struct, 200)\n",
        "for i in range(len(seq_split)):\n",
        "    print(is_complete_dot_bracket(struct_split[i]))\n",
        "    more_gold_std['ROX2'][seq_split[i]] = struct_split[i]\n",
        "\n",
        "\n",
        "seq_split, struct_split = split_sequence_and_dot_bracket(hotair_seq, hotair_struct, 200)\n",
        "for i in range(len(seq_split)):\n",
        "    print(is_complete_dot_bracket(struct_split[i]))\n",
        "    more_gold_std['hotair'][seq_split[i]] = struct_split[i]\n",
        "\n",
        "\n",
        "seq_split, struct_split = split_sequence_and_dot_bracket(rep_a_seq, rep_a_struct, 200)\n",
        "for i in range(len(seq_split)):\n",
        "    print(is_complete_dot_bracket(struct_split[i]))\n",
        "    more_gold_std['repA'][seq_split[i]] = struct_split[i]\n",
        "\n",
        "\n",
        "seq_split, struct_split = split_sequence_and_dot_bracket(pan_seq, pan_struct, 200)\n",
        "for i in range(len(seq_split)):\n",
        "    print(is_complete_dot_bracket(struct_split[i]))\n",
        "    more_gold_std['PAN'][seq_split[i]] = struct_split[i]\n",
        "\n",
        "\n",
        "\n"
      ],
      "metadata": {
        "id": "kve5JkqYtIIJ",
        "colab": {
          "base_uri": "https://localhost:8080/"
        },
        "outputId": "8fe25b30-e4aa-40d3-9d50-ab461deb1590"
      },
      "execution_count": 106,
      "outputs": [
        {
          "output_type": "stream",
          "name": "stdout",
          "text": [
            "True\n",
            "True\n",
            "True\n",
            "True\n",
            "True\n",
            "True\n",
            "True\n",
            "True\n",
            "True\n",
            "True\n"
          ]
        }
      ]
    },
    {
      "cell_type": "code",
      "source": [
        "lens = []\n",
        "for i in more_gold_std.keys():\n",
        "  for j in more_gold_std[i].keys():\n",
        "    lens.append(len(more_gold_std[i][j]))\n",
        "    print(more_gold_std[i][j])\n",
        "    print()\n",
        "print(len(lens))\n",
        "plt.hist(lens)\n",
        "plt.show()"
      ],
      "metadata": {
        "colab": {
          "base_uri": "https://localhost:8080/",
          "height": 825
        },
        "id": "H5ueRqUxTQNy",
        "outputId": "249496fd-16c1-43be-f17d-81c9a3744b2b"
      },
      "execution_count": 109,
      "outputs": [
        {
          "output_type": "stream",
          "name": "stdout",
          "text": [
            ".................................................................................................................(((((.((((.((((((((((.............)))))))))).)))).)))))...................((((((((.(((((((...........(((..(((((((...)))))))..))).....))))))).))))))))\n",
            "\n",
            ".........(((((((...((((((((....)))))).))..))))))).................................................(((((((........)))))))........((((((.......))))))................(((.(((((((((((((((....((.(((........))).)).....))))))))))))))).)))\n",
            "\n",
            "..((((((.(((((((((.(((...(((....((((((((...(((.....))).))))))))......((.((((((......))))))..)).((((...((.((.((((((((...((((((.((...((((((....((((....)))).......)))))).)).))).............((.(((.((((((....)))))).))).))..........)))...)))))))).))))...)))).....)))))))))))).........(((((..((((((((.(((((..(((.........)))))))).....((((..(((((.(.((.((.....(((((.(((...))).))))).......))))))))))..)))).....))))))))....)).))).))).))))))\n",
            "\n",
            ".........(((((..........)))))..........((((((.(((.((....(((((.......))))).......))..))))).)))).........(((((((((((.......((((((..............(((.....)))........((((((..((((((((((.(((....(((((.((....))(((((.(((...........)))....(((........))).................((((....((((((.((((.((............((((((..(((..................)))..))))))....)).))))))))))))))....((((.....((((((((((((((.......)))))).))))))))))))..))))).......((((.......)))).(((......)))..)))))))).))))))))))....(((((...........))))).))))))........((((....))))((.((..((((((((...(((((....((((....)))).))))).))))))))..)).)).))))))..........))))))))).))\n",
            "\n",
            ".........(((....(((((((.((((....((((((..............((((((((...........(((((.......((((((((...(((((...(((((....)))))........)))))..))))))))......)))))............))))).))))))))))))).)))).)))....((((((.....(((((((.(((...((((....))))...))).(((....(((....)))..)))..((((....))))..)))))))................))))))...(((((((.((...((((.(((..(((.(((((.((.....))..)))))..)))..)))))))........(((((((..(((((((((((...)))))))))))....)).)))))....................................))))))))).)))\n",
            "\n",
            "..((.((((((.((((((...(((((((((......(((((..((((.((..((((..............)))))))))).(((.(((((....((.((((((....((((((....................(((((..(((.(((((((((......(((((((..............))))))).((.....))........((((((((....))))))))..)))))...)))).))).....)))))((((...)))).....))))))........................(((((....))))).))).)))))....))))).))).....................(((((.(((.......((.......)).(((..(((.((.......))))).)))))).))))).)))))..........))))...(((((((.......)))))))..)))))...))))..)).........((.....(((((.((...)).)))))......)).(((((.....................)))))..((((((((...)))))))).((.((((((((((..(((...........))).)))))))))).)))))))).))\n",
            "\n",
            ".....(((((....((((((....)))))).)))))....((((.((((....))))..)))).((((((..(((((((((((((((((((((.......(((((((((........((((...(((((((.(((..........................))).)))))))...))))((.((...))))........))))))))))))))))))...............(((((....))))).(((....)))...............(((...((((....))))...))).(((.((............................((((....((((((((((.....................))))))))))....))))))..))))))))))))...)))...))))))\n",
            "\n",
            "..((((((((((.((((((.(((..((((.....((((.((.(((.(((.((..(((((.....((((((((((((..(((.((((((..............((((.......)))).(((((((.((((((((.....))))))))((((...)))).((((((((((..((((.......)))).)))))))..)))....)))))))..((((((((((...(((.......((.((((...((.((((((.((((...))))..........)))))).)).((((...)))).........)))).)).....))).))))))))..)).........)))))))))..))))))))).)))..))))))).))))))..))))))))))..))).((((.(((((((((.((((((.((((((((.((((((.((.(........).)))))).)).))))))))...((((((..((((((((................)))))))).)))))).))))))..))).)..))))).)))).)))))))))).)).))))\n",
            "\n",
            ".......(((((.((((.((((((.((........)))))))).))))))))).((((......)))).(((((.......((((((((...(((((.((((.......((((....))))(((((((........)))))))......)))))))))))))))))..))))).(((((((...((((((((((((........((((((....(((.((((((((((..((((((((......))))).)))....(((((((.........)))))))(((.((((((..(((((((.(((...((((.(((((((....(.((((..((((((.....)))))).....)))))........(((((........))))).))))))).)))).....))).)))..)))))))))))))..............((((..(.((((.((((.....)))))))).).))))..((((((((....(((...........)))......)))))))).))))..))))))..)))....))))))...((((((((....)))))))).(((.....)))((((.(((((..(((......)))..)))))))))....))))))))))))....))).))))\n",
            "\n",
            "((((((....)))))).((((((((((((((..((((...((.....((((.(((((((..((((..((((((....((((((...(((.(((((((...((((((..(((((..........)))))..))))))..))))....)))((((........)))).............(((..(((((((.(((..........(((....)))))).))))))).....)))(((((........)))))......)))))))))..))...))))...............................(((((.......)))))...............................((((((.....))))))....................))))..))))))).((((((...........)))))).))))..))...(((((.............................................................)))))..............((((......))))........((((((((....(((((......(((((........))))).....)))))...)))))))).................................((((((((........((((((...(((((...((.((........)).))...))))).........)))))).......)))))))).......)))).))))))))).......................((((..(((((((.(((((.(((((...)))))......((((((.(((...((((((......(((((((((((........))))))))))).........(((((.((((((..((((((.....((((((.((....((.(((.....))).))...)))))))).......))))))...........)))))))))))...................)))))))))))))))......................))))).)))).))))))).)))))\n",
            "\n",
            "10\n"
          ]
        },
        {
          "output_type": "display_data",
          "data": {
            "text/plain": [
              "<Figure size 640x480 with 1 Axes>"
            ],
            "image/png": "[encoded data removed]"
          },
          "metadata": {}
        }
      ]
    },
    {
      "cell_type": "markdown",
      "source": [
        "# Final Dataset"
      ],
      "metadata": {
        "id": "lDpysxNsjg6i"
      }
    },
    {
      "cell_type": "code",
      "source": [
        "\n",
        "def Merge(dict1, dict2):\n",
        "  res = {**dict1, **dict2}\n",
        "  return res\n",
        "\n",
        "gold_std_full = Merge(gold_std, more_gold_std)\n",
        "gold_std_full = Merge(gold_std_full, malat_gold_std)\n",
        "gold_std_full = Merge(gold_std_full, pgen_gold_std)\n"
      ],
      "metadata": {
        "id": "YGZ_hsFItzeX"
      },
      "execution_count": 110,
      "outputs": []
    },
    {
      "cell_type": "code",
      "source": [
        "\n",
        "lens=[]\n",
        "seq_lens = []\n",
        "for i in gold_std_full.keys():\n",
        "    lens.append(len(gold_std_full[i]))\n",
        "    for j in gold_std_full[i].keys():\n",
        "        seq_lens.append(len(gold_std_full[i][j]))\n",
        "plt.hist(lens)\n",
        "plt.show()\n",
        "plt.hist(seq_lens)\n",
        "plt.show()\n",
        "print(len(seq_lens))"
      ],
      "metadata": {
        "colab": {
          "base_uri": "https://localhost:8080/",
          "height": 861
        },
        "id": "HvPIzN2rue6I",
        "outputId": "c20700c4-e998-4286-99a8-195d3d278c5b"
      },
      "execution_count": 111,
      "outputs": [
        {
          "output_type": "display_data",
          "data": {
            "text/plain": [
              "<Figure size 640x480 with 1 Axes>"
            ],
            "image/png": "[encoded data removed]"
          },
          "metadata": {}
        },
        {
          "output_type": "display_data",
          "data": {
            "text/plain": [
              "<Figure size 640x480 with 1 Axes>"
            ],
            "image/png": "[encoded data removed]"
          },
          "metadata": {}
        },
        {
          "output_type": "stream",
          "name": "stdout",
          "text": [
            "53\n"
          ]
        }
      ]
    },
    {
      "cell_type": "code",
      "source": [
        "(np.array(seq_lens) == 600).sum()"
      ],
      "metadata": {
        "colab": {
          "base_uri": "https://localhost:8080/"
        },
        "id": "17lpPz9QVA0r",
        "outputId": "29aa9add-6dae-4ebc-cb02-e43fa41c9c33"
      },
      "execution_count": 115,
      "outputs": [
        {
          "output_type": "execute_result",
          "data": {
            "text/plain": [
              "0"
            ]
          },
          "metadata": {},
          "execution_count": 115
        }
      ]
    },
    {
      "cell_type": "code",
      "source": [
        "import json\n",
        "\n",
        "with open(\"gold_std.json\", \"w\") as outfile:\n",
        "    json.dump(gold_std_full, outfile)"
      ],
      "metadata": {
        "id": "CyDsB3u0vL3v"
      },
      "execution_count": 113,
      "outputs": []
    }
  ]
}