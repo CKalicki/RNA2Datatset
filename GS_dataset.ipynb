{
  "nbformat": 4,
  "nbformat_minor": 0,
  "metadata": {
    "colab": {
      "provenance": [],
      "collapsed_sections": [
        "LaM1l04UjnRD",
        "G55zlcUPkRO6",
        "WXcfRMVhoxaC"
      ],
      "toc_visible": true
    },
    "kernelspec": {
      "name": "python3",
      "display_name": "Python 3"
    },
    "language_info": {
      "name": "python"
    }
  },
  "cells": [
    {
      "cell_type": "code",
      "execution_count": 1,
      "metadata": {
        "id": "iyChj3wRWav9"
      },
      "outputs": [],
      "source": [
        "import pandas as pd\n",
        "import numpy as np\n",
        "import matplotlib.pyplot as plt"
      ]
    },
    {
      "cell_type": "code",
      "source": [
        "def is_complete_dot_bracket(dot_bracket):\n",
        "    stack = []\n",
        "\n",
        "    for char in dot_bracket:\n",
        "        if char == '(':\n",
        "            stack.append(char)\n",
        "        elif char == ')':\n",
        "            if not stack:\n",
        "                return False\n",
        "            stack.pop()\n",
        "\n",
        "    return len(stack) == 0"
      ],
      "metadata": {
        "id": "Y1VnexTsVzXX"
      },
      "execution_count": 2,
      "outputs": []
    },
    {
      "cell_type": "code",
      "source": [
        "def read_ct_file(file_path):\n",
        "    with open(file_path, 'r') as file:\n",
        "        lines = file.readlines()\n",
        "\n",
        "    num_bases = int(lines[0].split()[0])\n",
        "    title = lines[0].split()[1]\n",
        "\n",
        "    structures = []\n",
        "    current_structure = []\n",
        "\n",
        "    for line in lines[1:]:\n",
        "        # Skip empty lines\n",
        "        if not line.strip():\n",
        "            continue\n",
        "\n",
        "        # Parse the information about a base\n",
        "        base_info = line.split()\n",
        "        base_number = int(base_info[0])\n",
        "        base = base_info[1]\n",
        "        index_prev = int(base_info[2])\n",
        "        index_next = int(base_info[3])\n",
        "        paired_base_number = int(base_info[4])\n",
        "\n",
        "        # Store the information in a dictionary\n",
        "        base_data = {\n",
        "            \"base_number\": base_number,\n",
        "            \"base\": base,\n",
        "            \"index_prev\": index_prev,\n",
        "            \"index_next\": index_next,\n",
        "            \"paired_base_number\": paired_base_number\n",
        "        }\n",
        "\n",
        "        current_structure.append(base_data)\n",
        "\n",
        "    structures.append({\n",
        "        \"num_bases\": num_bases,\n",
        "        \"title\": title,\n",
        "        \"base_info\": current_structure\n",
        "    })\n",
        "\n",
        "    return structures"
      ],
      "metadata": {
        "id": "5dPNoohlUqKo"
      },
      "execution_count": 3,
      "outputs": []
    },
    {
      "cell_type": "code",
      "source": [
        "def ct_to_secondary_structure_string(file_path):\n",
        "    structures = read_ct_file(file_path)\n",
        "\n",
        "    secondary_structure_strings = []\n",
        "    seq = ''\n",
        "    for structure in structures:\n",
        "        num_bases = structure[\"num_bases\"]\n",
        "        base_info = structure[\"base_info\"]\n",
        "\n",
        "\n",
        "        structure_string = ['.' for _ in range(num_bases)]\n",
        "\n",
        "\n",
        "        for base_data in base_info:\n",
        "            seq+=base_data[\"base\"]\n",
        "            base_number = base_data[\"base_number\"]\n",
        "            paired_base_number = base_data[\"paired_base_number\"]\n",
        "\n",
        "            if paired_base_number != 0 and base_number < paired_base_number:\n",
        "                structure_string[base_number - 1] = '('\n",
        "                structure_string[paired_base_number - 1] = ')'\n",
        "\n",
        "        secondary_structure_strings.append(''.join(structure_string))\n",
        "\n",
        "    return secondary_structure_strings, seq\n"
      ],
      "metadata": {
        "id": "REhE2iOWgus_"
      },
      "execution_count": 4,
      "outputs": []
    },
    {
      "cell_type": "code",
      "source": [
        "from sklearn.metrics import f1_score\n",
        "\n",
        "def hammingDist(str1, str2):\n",
        "    i = 0\n",
        "    count = 0\n",
        "\n",
        "    while(i < len(str1)):\n",
        "        if(str1[i] != str2[i]):\n",
        "            count += 1\n",
        "        i += 1\n",
        "    return count\n",
        "\n",
        "def split_string(input_string, chunk_size):\n",
        "    return [input_string[i:i + chunk_size] for i in range(0, len(input_string), chunk_size)]\n"
      ],
      "metadata": {
        "id": "0M347UAxhGFG"
      },
      "execution_count": 5,
      "outputs": []
    },
    {
      "cell_type": "code",
      "source": [
        "def split_sequence_and_dot_bracket(sequence, dot_bracket, min_chunk_size):\n",
        "    subparts_sequence = []\n",
        "    subparts_dot_bracket = []\n",
        "    current_part_sequence = \"\"\n",
        "    current_part_dot_bracket = \"\"\n",
        "\n",
        "    for seq_char, dot_char in zip(sequence, dot_bracket):\n",
        "        current_part_sequence += seq_char\n",
        "        current_part_dot_bracket += dot_char\n",
        "\n",
        "        if dot_char == ')':\n",
        "            if is_complete_dot_bracket(current_part_dot_bracket) and len(current_part_dot_bracket) >= min_chunk_size:\n",
        "                subparts_sequence.append(current_part_sequence)\n",
        "                subparts_dot_bracket.append(current_part_dot_bracket)\n",
        "                current_part_sequence = \"\"\n",
        "                current_part_dot_bracket = \"\"\n",
        "\n",
        "    return subparts_sequence, subparts_dot_bracket"
      ],
      "metadata": {
        "id": "7hPiHduuddRG"
      },
      "execution_count": 6,
      "outputs": []
    },
    {
      "cell_type": "markdown",
      "source": [
        "# SARS dot bracket comparison"
      ],
      "metadata": {
        "id": "db_5aibcifMt"
      }
    },
    {
      "cell_type": "markdown",
      "source": [
        "## Comparing from 10.1261/rna.076141.120 and doi.org/10.1038/s41467-022-28603-2. The first paper has purely in silico predicted secondary structures. The second paper uses chemical probing to inform structure. I use all secondary structures predicted in silico over 120 bp window and compare that to the chemically informed structure over the same window using F1 score. If the f1 score is >0.9 I include it in the dataset."
      ],
      "metadata": {
        "id": "LaM1l04UjnRD"
      }
    },
    {
      "cell_type": "code",
      "source": [
        "das_df = pd.read_excel('Book2.xlsx')\n",
        "das_df"
      ],
      "metadata": {
        "colab": {
          "base_uri": "https://localhost:8080/",
          "height": 652
        },
        "id": "WjqamBHnYLoN",
        "outputId": "2f4e5f68-9006-4e49-ef67-c07a35abe471"
      },
      "execution_count": 15,
      "outputs": [
        {
          "output_type": "execute_result",
          "data": {
            "text/plain": [
              "     Interval start  Interval end  \\\n",
              "0                 1           120   \n",
              "1                41           158   \n",
              "2                81           198   \n",
              "3               121           238   \n",
              "4               159           278   \n",
              "..              ...           ...   \n",
              "223           29319         29438   \n",
              "224           29399         29512   \n",
              "225           29513         29630   \n",
              "226           29551         29670   \n",
              "227           29591         29710   \n",
              "\n",
              "                                              Sequence  \\\n",
              "0    AUUAAAGGUUUAUACCUUCCCAGGUAACAAACCAACCAACUUUCGA...   \n",
              "1    UUUCGAUCUCUUGUAGAUCUGUUCUCUAAACGAACUUUAAAAUCUG...   \n",
              "2    AAUCUGUGUGGCUGUCACUCGGCUGCAUGCUUAGUGCACUCACGCA...   \n",
              "3    CACGCAGUAUAAUUAAUAACUAAUUACUGUCGUUGACAGGACACGA...   \n",
              "4    GGACACGAGUAACUCGUCUAUCUUCUGCAGGCUGCUUACGGUUUCG...   \n",
              "..                                                 ...   \n",
              "223  AAGUCAUUUUGCUGAAUAAGCAUAUUGACGCAUACAAAACAUUCCC...   \n",
              "224  GCUGAUGAAACUCAAGCCUUACCGCAGAGACAGAAGAAACAGCAAA...   \n",
              "225  GCUGACUCAACUCAGGCCUAAACUCAUGCAGACCACACAAGGCAGA...   \n",
              "226  AAGGCAGAUGGGCUAUAUAAACGUUUUCGCUUUUCCGUUUACGAUA...   \n",
              "227  ACGAUAUAUAGUCUACUCUUGUGCAGAAUGAAUUCUCGUAACUACA...   \n",
              "\n",
              "                                   Secondary structure  z-score         P  \n",
              "0    ......(((((.(((((....)))))..)))))...........((...    -2.13  0.654132  \n",
              "1    ....(((((.....))))).........(((((..........(((...    -2.91  0.998151  \n",
              "2    ...(((((((..((.((((.(((.....))).))))))..))))))...    -0.80  0.989529  \n",
              "3    ...((((((..((((.....)))))))))).((((((((((.((((...    -2.33  0.989119  \n",
              "4    .....((((...(((.((((((((.....((((((.(((((........    -2.87  0.995523  \n",
              "..                                                 ...      ...       ...  \n",
              "223  ..((((...((((.....))))...))))((..................    -2.40  0.809072  \n",
              "224  (((.(((................((((.((.((((((.((((.......    -2.89  0.793421  \n",
              "225  .((((......))))........((((........((((((..((....    -0.27  0.651921  \n",
              "226  .(((.((.(((((((((((..(((...((......))...))).))...    -1.83  0.989759  \n",
              "227  .........(((((.((((((((.(((.((((......((((((((...    -0.35  0.751949  \n",
              "\n",
              "[228 rows x 6 columns]"
            ],
            "text/html": [
              "\n",
              "  <div id=\"df-6f9168ce-4c2c-45cf-a693-2131f0917741\" class=\"colab-df-container\">\n",
              "    <div>\n",
              "<style scoped>\n",
              "    .dataframe tbody tr th:only-of-type {\n",
              "        vertical-align: middle;\n",
              "    }\n",
              "\n",
              "    .dataframe tbody tr th {\n",
              "        vertical-align: top;\n",
              "    }\n",
              "\n",
              "    .dataframe thead th {\n",
              "        text-align: right;\n",
              "    }\n",
              "</style>\n",
              "<table border=\"1\" class=\"dataframe\">\n",
              "  <thead>\n",
              "    <tr style=\"text-align: right;\">\n",
              "      <th></th>\n",
              "      <th>Interval start</th>\n",
              "      <th>Interval end</th>\n",
              "      <th>Sequence</th>\n",
              "      <th>Secondary structure</th>\n",
              "      <th>z-score</th>\n",
              "      <th>P</th>\n",
              "    </tr>\n",
              "  </thead>\n",
              "  <tbody>\n",
              "    <tr>\n",
              "      <th>0</th>\n",
              "      <td>1</td>\n",
              "      <td>120</td>\n",
              "      <td>AUUAAAGGUUUAUACCUUCCCAGGUAACAAACCAACCAACUUUCGA...</td>\n",
              "      <td>......(((((.(((((....)))))..)))))...........((...</td>\n",
              "      <td>-2.13</td>\n",
              "      <td>0.654132</td>\n",
              "    </tr>\n",
              "    <tr>\n",
              "      <th>1</th>\n",
              "      <td>41</td>\n",
              "      <td>158</td>\n",
              "      <td>UUUCGAUCUCUUGUAGAUCUGUUCUCUAAACGAACUUUAAAAUCUG...</td>\n",
              "      <td>....(((((.....))))).........(((((..........(((...</td>\n",
              "      <td>-2.91</td>\n",
              "      <td>0.998151</td>\n",
              "    </tr>\n",
              "    <tr>\n",
              "      <th>2</th>\n",
              "      <td>81</td>\n",
              "      <td>198</td>\n",
              "      <td>AAUCUGUGUGGCUGUCACUCGGCUGCAUGCUUAGUGCACUCACGCA...</td>\n",
              "      <td>...(((((((..((.((((.(((.....))).))))))..))))))...</td>\n",
              "      <td>-0.80</td>\n",
              "      <td>0.989529</td>\n",
              "    </tr>\n",
              "    <tr>\n",
              "      <th>3</th>\n",
              "      <td>121</td>\n",
              "      <td>238</td>\n",
              "      <td>CACGCAGUAUAAUUAAUAACUAAUUACUGUCGUUGACAGGACACGA...</td>\n",
              "      <td>...((((((..((((.....)))))))))).((((((((((.((((...</td>\n",
              "      <td>-2.33</td>\n",
              "      <td>0.989119</td>\n",
              "    </tr>\n",
              "    <tr>\n",
              "      <th>4</th>\n",
              "      <td>159</td>\n",
              "      <td>278</td>\n",
              "      <td>GGACACGAGUAACUCGUCUAUCUUCUGCAGGCUGCUUACGGUUUCG...</td>\n",
              "      <td>.....((((...(((.((((((((.....((((((.(((((........</td>\n",
              "      <td>-2.87</td>\n",
              "      <td>0.995523</td>\n",
              "    </tr>\n",
              "    <tr>\n",
              "      <th>...</th>\n",
              "      <td>...</td>\n",
              "      <td>...</td>\n",
              "      <td>...</td>\n",
              "      <td>...</td>\n",
              "      <td>...</td>\n",
              "      <td>...</td>\n",
              "    </tr>\n",
              "    <tr>\n",
              "      <th>223</th>\n",
              "      <td>29319</td>\n",
              "      <td>29438</td>\n",
              "      <td>AAGUCAUUUUGCUGAAUAAGCAUAUUGACGCAUACAAAACAUUCCC...</td>\n",
              "      <td>..((((...((((.....))))...))))((..................</td>\n",
              "      <td>-2.40</td>\n",
              "      <td>0.809072</td>\n",
              "    </tr>\n",
              "    <tr>\n",
              "      <th>224</th>\n",
              "      <td>29399</td>\n",
              "      <td>29512</td>\n",
              "      <td>GCUGAUGAAACUCAAGCCUUACCGCAGAGACAGAAGAAACAGCAAA...</td>\n",
              "      <td>(((.(((................((((.((.((((((.((((.......</td>\n",
              "      <td>-2.89</td>\n",
              "      <td>0.793421</td>\n",
              "    </tr>\n",
              "    <tr>\n",
              "      <th>225</th>\n",
              "      <td>29513</td>\n",
              "      <td>29630</td>\n",
              "      <td>GCUGACUCAACUCAGGCCUAAACUCAUGCAGACCACACAAGGCAGA...</td>\n",
              "      <td>.((((......))))........((((........((((((..((....</td>\n",
              "      <td>-0.27</td>\n",
              "      <td>0.651921</td>\n",
              "    </tr>\n",
              "    <tr>\n",
              "      <th>226</th>\n",
              "      <td>29551</td>\n",
              "      <td>29670</td>\n",
              "      <td>AAGGCAGAUGGGCUAUAUAAACGUUUUCGCUUUUCCGUUUACGAUA...</td>\n",
              "      <td>.(((.((.(((((((((((..(((...((......))...))).))...</td>\n",
              "      <td>-1.83</td>\n",
              "      <td>0.989759</td>\n",
              "    </tr>\n",
              "    <tr>\n",
              "      <th>227</th>\n",
              "      <td>29591</td>\n",
              "      <td>29710</td>\n",
              "      <td>ACGAUAUAUAGUCUACUCUUGUGCAGAAUGAAUUCUCGUAACUACA...</td>\n",
              "      <td>.........(((((.((((((((.(((.((((......((((((((...</td>\n",
              "      <td>-0.35</td>\n",
              "      <td>0.751949</td>\n",
              "    </tr>\n",
              "  </tbody>\n",
              "</table>\n",
              "<p>228 rows × 6 columns</p>\n",
              "</div>\n",
              "    <div class=\"colab-df-buttons\">\n",
              "\n",
              "  <div class=\"colab-df-container\">\n",
              "    <button class=\"colab-df-convert\" onclick=\"convertToInteractive('df-6f9168ce-4c2c-45cf-a693-2131f0917741')\"\n",
              "            title=\"Convert this dataframe to an interactive table.\"\n",
              "            style=\"display:none;\">\n",
              "\n",
              "  <svg xmlns=\"http://www.w3.org/2000/svg\" height=\"24px\" viewBox=\"0 -960 960 960\">\n",
              "    <path d=\"M120-120v-720h720v720H120Zm60-500h600v-160H180v160Zm220 220h160v-160H400v160Zm0 220h160v-160H400v160ZM180-400h160v-160H180v160Zm440 0h160v-160H620v160ZM180-180h160v-160H180v160Zm440 0h160v-160H620v160Z\"/>\n",
              "  </svg>\n",
              "    </button>\n",
              "\n",
              "  <style>\n",
              "    .colab-df-container {\n",
              "      display:flex;\n",
              "      gap: 12px;\n",
              "    }\n",
              "\n",
              "    .colab-df-convert {\n",
              "      background-color: #E8F0FE;\n",
              "      border: none;\n",
              "      border-radius: 50%;\n",
              "      cursor: pointer;\n",
              "      display: none;\n",
              "      fill: #1967D2;\n",
              "      height: 32px;\n",
              "      padding: 0 0 0 0;\n",
              "      width: 32px;\n",
              "    }\n",
              "\n",
              "    .colab-df-convert:hover {\n",
              "      background-color: #E2EBFA;\n",
              "      box-shadow: 0px 1px 2px rgba(60, 64, 67, 0.3), 0px 1px 3px 1px rgba(60, 64, 67, 0.15);\n",
              "      fill: #174EA6;\n",
              "    }\n",
              "\n",
              "    .colab-df-buttons div {\n",
              "      margin-bottom: 4px;\n",
              "    }\n",
              "\n",
              "    [theme=dark] .colab-df-convert {\n",
              "      background-color: #3B4455;\n",
              "      fill: #D2E3FC;\n",
              "    }\n",
              "\n",
              "    [theme=dark] .colab-df-convert:hover {\n",
              "      background-color: #434B5C;\n",
              "      box-shadow: 0px 1px 3px 1px rgba(0, 0, 0, 0.15);\n",
              "      filter: drop-shadow(0px 1px 2px rgba(0, 0, 0, 0.3));\n",
              "      fill: #FFFFFF;\n",
              "    }\n",
              "  </style>\n",
              "\n",
              "    <script>\n",
              "      const buttonEl =\n",
              "        document.querySelector('#df-6f9168ce-4c2c-45cf-a693-2131f0917741 button.colab-df-convert');\n",
              "      buttonEl.style.display =\n",
              "        google.colab.kernel.accessAllowed ? 'block' : 'none';\n",
              "\n",
              "      async function convertToInteractive(key) {\n",
              "        const element = document.querySelector('#df-6f9168ce-4c2c-45cf-a693-2131f0917741');\n",
              "        const dataTable =\n",
              "          await google.colab.kernel.invokeFunction('convertToInteractive',\n",
              "                                                    [key], {});\n",
              "        if (!dataTable) return;\n",
              "\n",
              "        const docLinkHtml = 'Like what you see? Visit the ' +\n",
              "          '<a target=\"_blank\" href=https://colab.research.google.com/notebooks/data_table.ipynb>data table notebook</a>'\n",
              "          + ' to learn more about interactive tables.';\n",
              "        element.innerHTML = '';\n",
              "        dataTable['output_type'] = 'display_data';\n",
              "        await google.colab.output.renderOutput(dataTable, element);\n",
              "        const docLink = document.createElement('div');\n",
              "        docLink.innerHTML = docLinkHtml;\n",
              "        element.appendChild(docLink);\n",
              "      }\n",
              "    </script>\n",
              "  </div>\n",
              "\n",
              "\n",
              "<div id=\"df-cd5435b9-14b9-402d-b530-009093d15a20\">\n",
              "  <button class=\"colab-df-quickchart\" onclick=\"quickchart('df-cd5435b9-14b9-402d-b530-009093d15a20')\"\n",
              "            title=\"Suggest charts\"\n",
              "            style=\"display:none;\">\n",
              "\n",
              "<svg xmlns=\"http://www.w3.org/2000/svg\" height=\"24px\"viewBox=\"0 0 24 24\"\n",
              "     width=\"24px\">\n",
              "    <g>\n",
              "        <path d=\"M19 3H5c-1.1 0-2 .9-2 2v14c0 1.1.9 2 2 2h14c1.1 0 2-.9 2-2V5c0-1.1-.9-2-2-2zM9 17H7v-7h2v7zm4 0h-2V7h2v10zm4 0h-2v-4h2v4z\"/>\n",
              "    </g>\n",
              "</svg>\n",
              "  </button>\n",
              "\n",
              "<style>\n",
              "  .colab-df-quickchart {\n",
              "      --bg-color: #E8F0FE;\n",
              "      --fill-color: #1967D2;\n",
              "      --hover-bg-color: #E2EBFA;\n",
              "      --hover-fill-color: #174EA6;\n",
              "      --disabled-fill-color: #AAA;\n",
              "      --disabled-bg-color: #DDD;\n",
              "  }\n",
              "\n",
              "  [theme=dark] .colab-df-quickchart {\n",
              "      --bg-color: #3B4455;\n",
              "      --fill-color: #D2E3FC;\n",
              "      --hover-bg-color: #434B5C;\n",
              "      --hover-fill-color: #FFFFFF;\n",
              "      --disabled-bg-color: #3B4455;\n",
              "      --disabled-fill-color: #666;\n",
              "  }\n",
              "\n",
              "  .colab-df-quickchart {\n",
              "    background-color: var(--bg-color);\n",
              "    border: none;\n",
              "    border-radius: 50%;\n",
              "    cursor: pointer;\n",
              "    display: none;\n",
              "    fill: var(--fill-color);\n",
              "    height: 32px;\n",
              "    padding: 0;\n",
              "    width: 32px;\n",
              "  }\n",
              "\n",
              "  .colab-df-quickchart:hover {\n",
              "    background-color: var(--hover-bg-color);\n",
              "    box-shadow: 0 1px 2px rgba(60, 64, 67, 0.3), 0 1px 3px 1px rgba(60, 64, 67, 0.15);\n",
              "    fill: var(--button-hover-fill-color);\n",
              "  }\n",
              "\n",
              "  .colab-df-quickchart-complete:disabled,\n",
              "  .colab-df-quickchart-complete:disabled:hover {\n",
              "    background-color: var(--disabled-bg-color);\n",
              "    fill: var(--disabled-fill-color);\n",
              "    box-shadow: none;\n",
              "  }\n",
              "\n",
              "  .colab-df-spinner {\n",
              "    border: 2px solid var(--fill-color);\n",
              "    border-color: transparent;\n",
              "    border-bottom-color: var(--fill-color);\n",
              "    animation:\n",
              "      spin 1s steps(1) infinite;\n",
              "  }\n",
              "\n",
              "  @keyframes spin {\n",
              "    0% {\n",
              "      border-color: transparent;\n",
              "      border-bottom-color: var(--fill-color);\n",
              "      border-left-color: var(--fill-color);\n",
              "    }\n",
              "    20% {\n",
              "      border-color: transparent;\n",
              "      border-left-color: var(--fill-color);\n",
              "      border-top-color: var(--fill-color);\n",
              "    }\n",
              "    30% {\n",
              "      border-color: transparent;\n",
              "      border-left-color: var(--fill-color);\n",
              "      border-top-color: var(--fill-color);\n",
              "      border-right-color: var(--fill-color);\n",
              "    }\n",
              "    40% {\n",
              "      border-color: transparent;\n",
              "      border-right-color: var(--fill-color);\n",
              "      border-top-color: var(--fill-color);\n",
              "    }\n",
              "    60% {\n",
              "      border-color: transparent;\n",
              "      border-right-color: var(--fill-color);\n",
              "    }\n",
              "    80% {\n",
              "      border-color: transparent;\n",
              "      border-right-color: var(--fill-color);\n",
              "      border-bottom-color: var(--fill-color);\n",
              "    }\n",
              "    90% {\n",
              "      border-color: transparent;\n",
              "      border-bottom-color: var(--fill-color);\n",
              "    }\n",
              "  }\n",
              "</style>\n",
              "\n",
              "  <script>\n",
              "    async function quickchart(key) {\n",
              "      const quickchartButtonEl =\n",
              "        document.querySelector('#' + key + ' button');\n",
              "      quickchartButtonEl.disabled = true;  // To prevent multiple clicks.\n",
              "      quickchartButtonEl.classList.add('colab-df-spinner');\n",
              "      try {\n",
              "        const charts = await google.colab.kernel.invokeFunction(\n",
              "            'suggestCharts', [key], {});\n",
              "      } catch (error) {\n",
              "        console.error('Error during call to suggestCharts:', error);\n",
              "      }\n",
              "      quickchartButtonEl.classList.remove('colab-df-spinner');\n",
              "      quickchartButtonEl.classList.add('colab-df-quickchart-complete');\n",
              "    }\n",
              "    (() => {\n",
              "      let quickchartButtonEl =\n",
              "        document.querySelector('#df-cd5435b9-14b9-402d-b530-009093d15a20 button');\n",
              "      quickchartButtonEl.style.display =\n",
              "        google.colab.kernel.accessAllowed ? 'block' : 'none';\n",
              "    })();\n",
              "  </script>\n",
              "</div>\n",
              "\n",
              "  <div id=\"id_abd1e41f-60a8-45a1-b8bf-54bf5e611b44\">\n",
              "    <style>\n",
              "      .colab-df-generate {\n",
              "        background-color: #E8F0FE;\n",
              "        border: none;\n",
              "        border-radius: 50%;\n",
              "        cursor: pointer;\n",
              "        display: none;\n",
              "        fill: #1967D2;\n",
              "        height: 32px;\n",
              "        padding: 0 0 0 0;\n",
              "        width: 32px;\n",
              "      }\n",
              "\n",
              "      .colab-df-generate:hover {\n",
              "        background-color: #E2EBFA;\n",
              "        box-shadow: 0px 1px 2px rgba(60, 64, 67, 0.3), 0px 1px 3px 1px rgba(60, 64, 67, 0.15);\n",
              "        fill: #174EA6;\n",
              "      }\n",
              "\n",
              "      [theme=dark] .colab-df-generate {\n",
              "        background-color: #3B4455;\n",
              "        fill: #D2E3FC;\n",
              "      }\n",
              "\n",
              "      [theme=dark] .colab-df-generate:hover {\n",
              "        background-color: #434B5C;\n",
              "        box-shadow: 0px 1px 3px 1px rgba(0, 0, 0, 0.15);\n",
              "        filter: drop-shadow(0px 1px 2px rgba(0, 0, 0, 0.3));\n",
              "        fill: #FFFFFF;\n",
              "      }\n",
              "    </style>\n",
              "    <button class=\"colab-df-generate\" onclick=\"generateWithVariable('das_df')\"\n",
              "            title=\"Generate code using this dataframe.\"\n",
              "            style=\"display:none;\">\n",
              "\n",
              "  <svg xmlns=\"http://www.w3.org/2000/svg\" height=\"24px\"viewBox=\"0 0 24 24\"\n",
              "       width=\"24px\">\n",
              "    <path d=\"M7,19H8.4L18.45,9,17,7.55,7,17.6ZM5,21V16.75L18.45,3.32a2,2,0,0,1,2.83,0l1.4,1.43a1.91,1.91,0,0,1,.58,1.4,1.91,1.91,0,0,1-.58,1.4L9.25,21ZM18.45,9,17,7.55Zm-12,3A5.31,5.31,0,0,0,4.9,8.1,5.31,5.31,0,0,0,1,6.5,5.31,5.31,0,0,0,4.9,4.9,5.31,5.31,0,0,0,6.5,1,5.31,5.31,0,0,0,8.1,4.9,5.31,5.31,0,0,0,12,6.5,5.46,5.46,0,0,0,6.5,12Z\"/>\n",
              "  </svg>\n",
              "    </button>\n",
              "    <script>\n",
              "      (() => {\n",
              "      const buttonEl =\n",
              "        document.querySelector('#id_abd1e41f-60a8-45a1-b8bf-54bf5e611b44 button.colab-df-generate');\n",
              "      buttonEl.style.display =\n",
              "        google.colab.kernel.accessAllowed ? 'block' : 'none';\n",
              "\n",
              "      buttonEl.onclick = () => {\n",
              "        google.colab.notebook.generateWithVariable('das_df');\n",
              "      }\n",
              "      })();\n",
              "    </script>\n",
              "  </div>\n",
              "\n",
              "    </div>\n",
              "  </div>\n"
            ]
          },
          "metadata": {},
          "execution_count": 15
        }
      ]
    },
    {
      "cell_type": "code",
      "source": [
        "file_path = 'SARS.ct'\n",
        "secondary_structure_strings, seq = ct_to_secondary_structure_string(file_path)\n",
        "\n",
        "for idx, structure_string in enumerate(secondary_structure_strings, start=1):\n",
        "    print(f\"SARS Structure:\", structure_string)"
      ],
      "metadata": {
        "colab": {
          "base_uri": "https://localhost:8080/"
        },
        "id": "3XxjBBXvjAsz",
        "outputId": "8360d288-1173-4557-d00a-48b29aa6663c"
      },
      "execution_count": 16,
      "outputs": [
        {
          "output_type": "stream",
          "name": "stdout",
          "text": [
            "SARS Structure: ......(((((.(((((....)))))..)))))...........(((((.....))))).((((.......))))........((((((((.((.((((.(((.....))).)))))).))))))))......................(((((((((((..(((((...(((.(((((((.(((..((((((.(((((......)))))..))))))......)))(((((((.((......)))))))))(((....))).)))))))))).))))).))))...))))))).......((((((...........((((((...))))))....)))))).....(((((.(((((((((((((.....))).)))))..))))).)))))............((((((((.((.((((......(((((((....(((.....))))))))))....)))).)).))).)))))...(((..((((((((((.(((((((......(((.........)))...))).))))...)))..)))))))...)))......((((((((.((((.(((((..(((.(((......)))))).))))))))).))))))))...((((((......)))))).......(((((..(((((.(((.((((.((.((((.......((((....))))..)))).)))))))))))))).)))))...............................((((((((((((((((..((((...((((....))))....))))...))))).)))).))))))).((........))...((((.....))))........((((((((..(((.....(((((....))))).....))).)))))))).(((((......)))))................(((((((...((((..(((((.((..(((((......))))).)).)))))...(((((....)))))........)))))))))))...........(((((((.(((.(((((((........((((...................)))).............(((((.((.(((((((...))))))).))......))))).(((((((.(((((((..........))))))).((((((((.......).)))))))((((..(((((.....((.(((((((((...((((...))))...))))))))).))..)))))..)))).))))))).............((((((((..................))))))))......((((...............)))).))))))).))).))).)))).................((.((((.........)))).)).((((((.((..................((((((((.....)))))))).........((((....)))).)))))))).(((((((((((.((....((..(((.((((...))))..)))))....))))))))))))).((.((((...(((......))).....)))).))...(((.....)))..((((((((((((((..((...(((.(((((((.((.((....)).)).)))))))...........((((((.((((......))))))))))......(((((((((....)))))))))..........((((((((........))))))))...........((((...(((((......)))))...))))............(((((..((((.((((((..........((((((.(((((((((..((((....)))).)))))..))))))))))....)))))).))))...))))).((((......))))...))).)).)))))))).))))))..((((....(((..((((((((((.(((.(((((.((.(((...))).))))))).))).)))).))))))))))))).((((((((((((.((((((((.....)))))))).))).)))))).))).......((((((.(((...........))))))))).......((((((..(.((..((((((...((((......))))))))))..)))...)))))).........((((((((((((....))))..)))))))).((((..((((..(((((....)))))....))))..))))............(((((((((....)))))))))...........(((((((..(((((((.((.....((((((((....))))))))....)).)))))))..))))))).((((........))))..........(((((..(((.......)))..))))).(((.((........)).)))...(((((.....(((...(((((......)))))...)))...((((((((.....))))))))...)))))............(((((((((...................(((.(((((((.((((.....)))).))))))).))).))))))))).......(((((.......)))))..(((((...(((((.......))))).((((((.........((.((((........)))).))..........(((((((((((..((((....)))))))))....)))))).........))))))...((((((((.......))))))))..(((......))).)))))....(((((......)))))..((((..((((((.((((((((.(((....)))..)))))))).)))))).))))(((((((((..................)))))))))............((((((((......((((((((((..((((((....))))))))))))))))...)))))))).(((((((((..(((((((......((.((((((....((((.....))))..)))))).))......)))))))......)))))))))((((.(((((...)))))..(((((((((........((((((.....))))))..))))))))).(((((.(((((((((........))))))).)).)))))........)))).((((.(((.....(((((((.((.....)))))))))...))).))))...............((((((((.((((((((...(((.....)))...)))))).)).))))))))....(((((......))))).((((((............(((.((.(((((((...(((.....)))...))))))))))))..))))))(((((((.....(((.(((((((....))))))).))))))))))............(((((((..((((((((....)))))).))..)))))))..((((((((..((((......(((((((((((......((((.....))))..)))))))))))......))))..))).))))).......(((((((((.((((.(((......))).)).)).)))))))))...............(((((................)))))............((((((....((((....))))....))))))............((((((....((((((((.((......))))))))))............(((..................))).(((((((((...((((((((....))))))))...))))))))).......((((.(((....(((((....)))))....))).)))).((((((((........))))))))...)))))).(((((.((((......))))...)))))......(((((.((((....((((((.(((......))).)).))))....)))).))))).((((((((....(((((((((......))))..)))))....)))))))).....((((((((((.((......................)).))))))))))........((((((....((....))....))))))..........(((.(((((((.((.(((.(((......)))))).))...))))))).))).........((((((...((((......)))).....))))))...((((((((..((....(((............)))....))..))))))))...............((((....))))........(((((.((........)).))))).((((((.....))))))......((((((((........((((((((..((((((((((((((......)))))))...)))))))...........))))))))....(((((((((((((.(((((..((((((((..(((((((........)))))))......))))))))...))))))))))).................))))))).......(((...((((((((...))))))))......))).((((((((...(((((.((((....))))..))))).....)))))))))))))))).......(((.....))).....((((((..........((((((..........))))))...........))))))....((((.((((.(((....((((((.(((......)))))))))......(((....)))....((((((((((((((((((.((((((...)))))).(((....)))....(((.(((.....)))))).))))))))))......))))))))((((((((((...))))))))))))))))).)))).(((((((....))))))).........(((((((....).)))))).(((((...)))))...((((.((((((.((((((.....)))))).)))))).))))............(((((.......(((..(((((((((((...))))))))))).)))....(((.....))).))))).......((((((((....(((((....))))).....))))).)))....((((.((((((((.(((.....((((......)))).)))...)))))))).............((((((((((....)))))).))))...............((.((((.......)))).)).......((((.(((((......(((((......)))))))))).))))..))))(((((.......((((((.((((.((((((((......)))))))))))).))))))..))))).(((((((........))))))).((((((((....((((((((....))))))))......))))))))..............(((((.....((((....))))......)))))...(((..(((((((.((((((((.........)))))))))))))))..)))((.(((((.(((((......)))))..............((((((((....))))))))...........((((..((((.(((....)))..)))))))).........(((..((((((.(((((((((....))))))))).))))))...)))......(((....))).(((((((((.....((.((.(((((......)))))))))..)))))))))..((......)).((((((((....))))))))......(((((.((((....((((((.......)))))))))))))))..))))))).(((((..((......)).))))).........((((....)))).........(((((..........(((........))).(((((......((((((((.((....)).)))))))))))))............)))))..........(((((....))))).......................((((...............(((..((((((.((((.(((((((..(((.....)))..)))))))))))....))))))..))).((...((((((((((...((........)).))).))))))))).......(((((.(((((((.((((......)))).))))))).).)))).)))).......((((....((((((((....)))))))))))).(((..((((...((((((.((.(......))).)))))).((((((.......(((((((.....((((.(......)))))....)))..)))).....((((((((((((.....((((.......))))...))))))))))))..(((((............................)))))......)))))).....((((....)))).......................((((((((((............))))))))))......))))...)))...((((((((....((((.((((((((....)))))))))))).......))))))))................(((((((....))))))).((((.(((((((......)))))))....))))......(((((......................((((.(((((((((...))))))))))))).(((((((((((((((((.((((((.(((.(((((........)))))..)))))))))..............(((((((..........))))))).............(((((((.............))))))).........((((.(((..((((((....))))))..))).))))....))))))))))))).))))....))))).(((((((..(((((.....))))))))))))...((((((...........(((((..(((((((((......(((.....)))..)))).).))))..))))))))))).((((..(((..........)))..)))).............((((((........))))))............(((((((((((((.(((..((((....(((.........................(((((((((((.((((((....((......)).....)))))).)))).)))))))........(((((.((((((.....)))))).)))))....)))......))))....))))))))).))))))).(((((((...((((.((((((......))).))).).)))..)))))))((((((..(((..((((((.(((((.......))))).))))))..)))......)))))).(((((........(((....))).............(((((((((((.(((((....))))).))))))).........(((((.....((((((.((((((....)))))))))))).....)))))........(((((((.(((((......))))))))))))..........))))............(((((((.(((................(((((.((((((((.(((......))))))))))).)))))))))))))))...)))))....(((((((..(((((((((..(((((......)))))..))))))(((.(((((.(((((((.....)))).))).)))))))).(((((((.....))))))).((((....)))).(((((..(((((.((((.......(((((((((...((((((((((.((((((((((((((((((((....)))))))).)))))))))))).))..))))..(((((((.(((.((((...((((....))))...)))))))))))))).....................)))).)))))..)))))))).)))))..))))).)))..)))).))).(((((((((((.(((((.(((...((((((((((.....))).)))))))...))).))))).....)))))))))))..(((((....((((......))))..)))))....(((((.(((((((((((...))))))).)))).....................((((......))))......(((.((((......(((..(((((((.......)))))))....))).......))))))).((..((((((((((.........))))))))))..)).......((((((..........)))))).((.......))...((((((.....)))))).((((..((((((........))))))..)))).)))))........(((((.((((((((........(((((.(((.(((..((((((((.....((((..(((....)))..)))).....)))))).))..))).))).))))).((((..((((.(((((..........((....)).(((((.(((((..((((......))))....))))).)))))...))))).))))..))))....(((((.....))))).((((((((((..(((.....))).))))))))))..(((.(((((....)))))...))).)))).)))).))))).((((((......((..(((.((..(((((((((.((....)).)))))))))..)).)))..))....))))))....................................(((((....)))))....................................((((((((..((......)).)))).)))).((((......(((..(((((((((.....(((.((((....)))).))).....)))))))))..)))))))...................((((((.......))).))).(((....))).............((((((...(((.....)))..))))))................(((...((((((.(((((((.((((..(((.(((.(((((...))))).)))..((((((((((....))).))))))).............((((((((((.((((.(((....)))..)))).)))).)))))).........((.(((((((((...(((((((.......)))))))...))))))))).))...((((.(((((((.........))))))).))))..))))))).))))))).....(((((((..(((.((((..((.(((((.((((....)))).)))))...))..)))).)))..))))))).........)))))).))).((((((((...............))))))))............((((((((((..................(((.((((........))))))).....(((((((....)))))))(((..(((...((((.((((..((((.((.......)).))))...)))).)))).....)))..)))(((((((.......))))))).(((((((((((((((.((((((......)))))).))))))..))))))).))...............(((((((...(((((((..(((((((((.((.(((....))).)))))))))))....))))))).....)))))))....)))))))))).......(((((...(((((((((.(((............))).))))).)))).......)))))........((((.(((....)))))))..........((((.((((......((((..(((....((((...))))...)))..))))...((((.....)))).))))...))))..((((((((..((((((...))))))))))))))..........((((((((.........((((.((((((((...)))).)))).))))....)))))))).............(((((((((((((((......))))))))..))))))).((.(((((((.(((((.(((((((((..........)))))))))))).)).......((((..(((((....(((((...)))))........((((.(.......((((((((((...........)))))))))).....))))).))))).)))).((((.((((....))))...)))).))))))).)).(((.(.....(((((((((((.....))))))))))).....)))).((((((...................(((((((..............((.(((..(((.....)))..))).)).......)))))))........(((...........))).((((((....)))))))))))).((((((..((((.(((.((((((..(((.....)))..))).)))))))))))))))).........((((....(((((...((....))...)))))..)))).............((((((.....((.((.(......).)).))...))))))........((((.((.((((((......(((((..((((((((((..........................((((.((((((.(((.((((((((......)))))))).))))))))).))))................((((((...(((((((.....))))).)))))))).........(((((.(((.(((((((((((((..((......))..)))))))).))......))).))).))))).))))))))))...)))))......)))))).))..................((((((................))))))........)))).((....))..((((....)))).(((.(((((.(((......))).))))).)))...................................((((((((..((.(((((.((.((((((((((.(((((((((((......((((...(((((.....)))))....))))....))))))))))))))))))))).))............(((.(((((((((......)))).))))).)))...))))).)).))))))))....((((.(((....))).)))).((((((((((((.((((.(((((((......))).)))).))))))))))).)))))............(((((..((((..((((((..((....((((((......(((((((.............(((.((((((((..................((((((((((((((....))))))..))))))))...........((((((.....(((.....)))..))))))........))))))))))).............))).))))...))))))......))..))))))..)))))))))..............(((......)))..................((((.((((((((((((......)))))))).)))).)))).((.((......)))).(.((((.((((.(((........))))))).)))))............(((((((.((((.......)))).)))))))..........................((((........))))...................(((...((.((((((((((....))).))))))).))...))).((((((.......)))))).(((.(((.((((((.....))))))..........(.....).((((................))))..................((((((..(((((....((..((((((...........)))))))).)))))..))))))...))).))).((((......................)))).(((.(((((....))))).))).(((.(((((((.((((....))))......)))))))))).......(.(((...(((.....((((.....))))...)))...)))).........(((((....(((.....)))....)))))..........(((.(((((((.((.......)).))))))))))...(.(((((...(((((((((....)))))))))..))))).)....(((((((......)))))))........(((((.((((.((......)).)))).)))))........((((..((((((.((((((((((...))).))))..))).))))))...)))).((((((((((((..........))).)))))))))..........(((.(((((.((((..((....))..)))))))))..((((...........)))).......))).(((((.((.((((...(((....)))..)))).)).)).))).........(((((.......((((.((((..((((((((.................))))))))......)))).)))).(((........)))......(((((((((.((((...........))))))))).))))............((.....)).(((..((.....))..)))........((((((..(((((((((....)))))))))..)))))).....((((......))))...((((((((((((...))))))).))))).....))))).((((..(((.(....)))).))))..............((((((.((.(((((.((.((....)).)).))))).)).))))))..........(((....(((((....(((.....))).......)))))...)))....((((((.((((((((((((.......((((....(((((...((((.....)))).))))))))).....))))))))).)))...).)))))............((((((....)))))).............(((.((((......)))).))).............(((((...)))))............((((((((...(((.(((((.....)))))..)))...)))))).))...........((((((((((..((.((((....)))).)).(....).........)))))))))).(((.(((((((((..........(((((((((((.........))).))))))))...)))))...).))).)))..............(((((((............))))))).((((((((...(((.......)))....))))))))....((((.(((((...(((((((((.((((.......))))))))))).))....))))).)))).........(((((((((..(((.(..............)))).)))))))))........((((.((((.(((((.......))))).)))).))))..........((((((.....((((((((.(((((....)))))...)))).)))).))))))...........((((((.(((((((((((....).)))).)))))).))))))...........((((..................)))).........(((((((((...((....))...)))))))))................(((((((..((..((((((((.((.....))))))))))..)))))))))...............(((((((((((.((((.((((((..((...))..))))))...((((........)))))))).)))))).))))).............(((((.((((...(((....)))...)))).)))))..(((.((((.....)))).)))...(((((((.(((.((.....))))).)))))))............((((.((((((.......))))))..))))...........(((((.............)))))...((....)).(((((((((.((((.....))))))))...)))))............(((((...((((.(((.((......))...))).))))...))))).......((....((((((.(((.(((......))).)))))))))...)).(((((((.(((...(((((.......)))))....))).)))))))........................(((((.((((((((.........(((((.(((.((((((((....)))))))).....)))...)))))...))))))))))))).......(((.((.((((.((((((((.......))))............((((((...(((........)))....(((........(.(((((((...((((.......))))...))))))).)....(((((((....)))))))...(((((((((.......))))))))).))).....(((.((....)).)))(((((.....))))).)))))).)))).)))))).))).((((((((((((((((.........))).)))).....)))).)))))............((((....((((((((...))))))))...)))).............(((((.((((((((((((.....((((.((.((.((...........)).)).)))))))))..)))))))))..)))))...........((.((((((..((.((((((...((((((....))))))))))))))...)))))))).......((((((..........................(((((((.(((((..(((..................)))...)))))))))))).((((.....))))....)))))).................(((..((((...)))).)))............((((..(.((((((.((((.....))))...))))))))))).((((..((....))))))......(((((((.(((((.(((((((((.(((.....)))..)))).)))))..)))))....((((((.(.((((....)))).)))))))...........(((((((...(((.....)))...))))..)))............((((..((((((((.(((..........))).)))))))).))))..............(....).(((((((.(((......))).))))))))))))))..((((...)))).(((((((....)))))))......((((.....))))...((((((((((((....)))))))).)))).(((((.(((........(((.(((((....((((.........))))....))))))))........((((((((.(((((((((.......)))))))))..................(((((.(((((((((((.......((((.....((((....))))..))))...)))))))).))))))))....)))))))).................(((((((..((...((((((((......).))).).)))...))(((((((...((.....))...)))))))..))))))).))).)))))..(((..((((((........))))))..)))..........((.((((....))))))........(.(((((...((((.......))))...))))))........((((((((((((.(((((.....))))).)))))))).)))).......((((.(((.(.((((.......)))))))).))))..........(((((((.((.(((((((...))))))))).))..)))))............((((((.........((((((((.......................(((((((........)))))).).(......)..))))))))...........))))))......((((.......))))....(((((....(((((....))))).))))).(((((...)))))(((..(((....)))..))).(((((((..((((((((............))))))))..........))))))).......((((((((((((((((......)))))))))......((....)).)))))))..........(((.((((................)))).)))..(((((.(((((((((..((.(((......))))))))))..))))............(((((..((((((((..(((.....))).))))))))..)))))..........))))).(((..((.((((...........)))).))..)))......((((((((((((((((...)))))......)))))))).)))........(((.(((((((...)))))))))).(((((.(((((((((.......(((((((....((((.(((.....))).)))).....)))))))......))).)))))).)))))....((((((........))).)))....((((..((((((((....(((.......)))..(((((..........))))).))))))))..).)))....((((((.(((((((((.((((((..(((((((...(((((.....))))).....)).)))))..))))))))))))))).....((((((((...(((((((((((((((((((((((..((......)).)))))..)))))))))))))).(((((..........))))).)))).....))))))))...(((((((((((....))))))).)))).)))))).((((.....))))...........((((((((.....)))))))).........(((((.((((((..........)))))).............(((((((.............((((((((((((((((.((.((...((((...)))).)).))..))))))))))...)))))).............)).)))))((......))(((((((.(((..............))))))))))................))))).(.((((.((((....)))).))))).....((((((.(((...........(((((.((((((((((((((....)))))).))))))))...((((((....(((.....)))......))))))....((.(((((....(((.((((...)))))))...)))))..))........((((.(((((.......)))))))))..........((.((((...........)))).))........)))))......((((.(((((.....))))).))))((((.......)))).....)))))))))...(((((((((...)))))))))..(((......)))..........(((.(((((((((.((.......)))))).))))).)))...((((((....)))))).(((((.((((.....))))..)))))....((((((.(((.((.(.(((((((((((((((....)))))).)).))).)))))))))).))))))................(((((....((((((....))))))...))))).............((((((((.((((........)))).)))).))))...((((((((((((((((......((((((......))).))).(((((((((.....))))))))).....(((....))).((((..((....))))))........(((((.(((.(((((((.....(((((....)))))...)))))))....)))..)))))...............(((((..((((......))))....)))))((((......((((((....)))).))......)))).)))).)))))))))))).((........))...(((((((.((..(((......))).)))))))))................((((((((.((((...((((....))))...)))))))).))))................(((((((...)))))))............(((((((((...(((((...))))).))))))))).(((((((((..(((((((....(.(((((............((((.....((((((...)))))))))).......))))))..))))))).........(((....))).((((.....((((((.............))))))...))))..)))).)))))..(((((((......((..........(((((((((((.((......)).)).))))))..))).....((.(((((((((((...))))))))))).)).(.....((((((((.(((((....)))))..)))..)))))....)...............((((.((((((.....(((((((((((...........((((.....))))...)))))))))))................)))))).)))).))......))))))).(((..((.(((((.(((..(((((((.((((..((((.....))))..))))))).))))..))).............(((((((......))))))).......(((.((.((((.........)))))))))...........(((((((((((((((....)))))..))).)))))))...............))))).))..))).................(((((.(((.(((..(((((((((......)))))).)))...)))))))))))((((.....)))).....(((((.......)))))...(((((((((((..(((((((.((((((((.......)))))).......(((.(((((.(((((((...((((((((.((((.(((.((((((...)))))).))))))).)))))))).)))))))(((((((((.(.(((((((.(((.....)))...)))))))).))))))).))....))))).))).((((((((......................................)))))))).))))))))).))))))).)))).....((((((((...............(((((((.(((.((........)).))))))))))......((((((((.((......)).)))))))).........................)))))))).(.(((((((((.((.(((.((((...))))))).)).))))))).).))...(((.((((...((((((((....))))))))...)))).))).......((((.(((((((((.................(((((...........(((((.((((..(((((.....))))).))))..)))))...........)))))...((((((((((......)))))).)))).(((((((.....))).))))..(.((((((......))))))).....(((((.(((.(((.........))).))).))))).))))))..................)))..))))........................................((.(((((...((((((((...)))).))))...))))).)).........((..((((((....))))))..))..(((((((((.......))))))))).......(((.(((((((((.((..((((((((((......((((((...))))))....))))))))))..))....((((((.((((((((.(((((.....)))))))))))))))))))......((((..((((((...((((((...)))))).....))))))..))))...(((..((((...((..((((((((((.(((((.(((............))).)))))))))))).)))..))...((((..((((((((((...)))))))))).)))).))))..))).((((((......(((((........))))).....)))))))))))))))))).(((.((((.((((............))))))))))).....((((((((((((.((((((((((.....))))))))))....(((((.((...)).)))))..((.((((((((((.(((((.((((..((((((....(((((......)).)))....))))))..)))).)))))..............(((((..........))))).......((((((((((.((((((......))))))......(((((...((((.....))))...))))).))))))))))......(((((((((((((....)))).))))).)))).................))))...))))))))...........))))))..)))))).....((((((((..((((((((.(((....)))))))))))..)))))))).........(((.((((((.......(((((.((((((....)))))))))))....)))))).)))........((((((.(((..((((((((((((((((((((((((((((..(((..(((((...))))))))))))))))).)).)))))))).)))))...)).))..))).))))))........((((((.(((.....))).))))))........((((((((....((((((((((..............))))).)))))........)))))))).....((((((..((............))..))))))....((((....(((((((........(((((((...)))))))........)))))))....)))).((((.((((((......)))))).)))).......((((.(((.(((.(((.((((((((.((((((...))))))....((((((..((.......(((((..((((((((...))))))))...))))).....))))))))))))))))..))).))).))))))).((((........................................))))...........................((((.((((........)))).))))...............................((((((((.((.......))...))))))))..((.....((.((((....))))))..)).((((((....)))))).........(((((......))))).....(((((((((((((((.(((((((..(((...)))..))))))).)))).).)).)))))))).(((((((.......))))))).((((((((.......(((((((((((..((.....((((((((((.....)))).)))))))))).))))))))).((((((...(((.((((..(((((.(((((((....)))))))...)))))...)))).)))))))))......((((((........))))))......((((((((((((((......(((((.((((((..................))))))))))).((((((((......))).)))))...))))).))))))))).)))))))).(((((((((......)))))).)))......(((((((((..(((((....((((.((......))))))..)))))..)))))))))........((((((..((((....)))))))))).......(((((......)))))......................................(((((...))))).((.((((((((..................)))))))))).....(((((...........)))))............((((((..((((.((.........)).))))..))))))..............((((..((((...(((((((..(((...)))..)))))))...))))..)))).(((..((((.((((((((((((((((((...)))))))))).)))).))))......)))))))((((....((((....))))..))))..((((.(((.((((..(((((((..(((((...((....))....))))).)))))))...))))))).)))).((((((.(((.((..(((((......)))))..))))))))))).........((((((((...((.(((.(((((((.....)))))))))).))...((((((((....)))))))).)))))))).......((((.(((((((......(((((((..((((((.....)))))).))))..)))......))))))))))).........((((.......)))).((((((................))))))........((((..(((((((......)).)))))..))))..........(((((((.................)))).)))..............((((((.......))))))..(((((((.....(((..((((((..((..((((.....)))).))..))))))..)))....)))))))..........(((((((((.............)))))))))...((((((((.........((((.(((...))).))))...................(((((........)))))))))))))...........(((((((...((((......))))...)))))))..............((((((....(((((((.(((.......)))....................((((((((.....(((........))).....)))))))).(((.((.........)).)))...((((((.(.((((....))))))))))).......((((((......)))))).(((....)))................))).))))((((((((((((................).)))))))))))......)))))).............................(((((((((.....................(((((((((((...(((((..((((((.......))))))..)))))..((((...)))).))))))))))).(....)..((((((((....)))))))).))))))))).((((((.........((.((((...((((((......((((......))))......)).....))))...))))..))..........))))))..((((((((.........))))))))..............((((((((((................(((((..(((((((.(((((((.....)))))))..))))))).))))).......(((.((((((.......))))))..))).))))))))))..............((((((((..((((.(......(((...........)))..)))))..))))))))................(((..((((((((.....((((.((((((....)))))).)))).)))))))))))..............((((((((...))))))))...................................((((((...))))))..........(((((((.................))))))).........................((....)).((((((....)))))).(((((((((((..(((((((....((((((.(((((((............((.(((....))).)).....)))))))))))))..........(((.((((((((...))))))))))).)))))..))....))))))))))).(((((((....))))))).(((((.(((......))).....(((((((.(((((...((((...))))....)).))).))).)))).)))))....((((((...((((.(((((......)))))..(((.((.((((((...........)))))).)).)))...(((((....))))).(((...........)))....)))).)))))).(((......)))..((((.((((.((((((((..........((((.((((((((.....))))))))))))....)))))))).......((((.(((.....(((((....(((((..................((((((.(......)))))))...((((((.(((((.............))))).)))))).))))))))))))))))).((((.......))))..)))).))))...............((((((.(((((....))))))))))).(((.(((.((..((((....))))..)).))).......................(((((...))))).)))................(((((((.....(((((....)))))....))))).)).........((((((.........)))))).(((.((((((.(((.((((((((((....))))...)))))).)))..)))))).)))...((((.((((..(((((((((((....))))))).)))).)))).))))..........(((..((.(((((....))))).))..))).............((((((((((........))))))))))...............................(((((((((((...(((((......)))))..(((((((...(((((...((((((...((((((.(((((....(((.....))).)))))..))))))))))))........(((.....))))))))...)))))))...(((((......((((..((.....))..))))..))))).))))))))))).(((((..((......(((..(((......)))..)))......))..)))))....(((......)))..............................((((((((((((....))))))))))))......((((((....)))))).((((........))))......(((......))).(((((..............)))))........(((((.(((((((((.....)))))))))))))).........((((((((((...)))))))))).......((((((((......((((((((((...))))))))))......)))))))).((((((((((..((((((((......))))))))..)).))))))))....((((((((((((((((.....))))))))))...)))))).((.(((((((..((((((((((.(((((...))))).))))))...))))))))))).))...........(((.(((((((((..((((((....((((....))))..))))))..))))))))).)))...........((((........)))).(((.(((((((((........))))))))).)))..((((((((..(((((((((........))))))))))))))))).......(((((((....((((((.....)))).))....))))))).....((((((.((.....)))))))).(((...(((.((((..(((((((......)))))))...)))).)))..)))..(((.(((((((...)))))))..))).((..((((((((((((((((........)))))))....)))))).)))..))......(((((..((..(.((((((((....))))))))).(((((.....)))))...(((....((((((((....))))))))...)))))..)))))..........(((((...((((((.((....)).))))))..))))).....................((((((.....)))))).(((..((((..((.....))..))))..)))..........(((((((.(((.(((((((.((...(((...(((..((((...((((.(((.(((((...))))).)))..)))).....)))).)))...)))...)))))))))..))).))))))).........................((((.......))))..........(((..((.(((((((..(((..((.((((((((((..(((.(((.....))))))))))).))))).)).)))..)))))))))))).........(((((((..........(((((...(((((((..((((.((((((............))))))))))....))))))).)))))..)))))))..............(((((.(((.(((.....................))).))).))))).............(((((((.((((...((((..(((((((((...))))).))))))))....).)))...)))))))............(((((((((.......(((.((((....)))).)))..............)))))))))................(((((((.(((((((....))))))).)))).))).............((((.........................)))).((((((...((((((..(((((.....)))))..))))))...))))))..........(((((....))))).......(((..((((((((...........))))))))))).........((((((..((((..........((((.(((..((...((((.......))))...))..)))((((.(((((.....)))))..))))....))))..((.((((((.....)))))).)).))))...))))))........................(((((((.....((.(((((.((((((...))))))))))).)).......)))))))........................((((.(((((...........((((......))))......((((((.(((((......(((((.((((((......)))))).)))))))))))))))).((.....(((((..(((((.((....)).)))))..)))))...)).((..(((((((((((((((......)))))))).)))))))..))(((....(((((((........)))))))....))).........((((((((((((........)))))))))))).)))))..)))).(((..((.((((..(((((.((((((.((.(((((...))))))))))))))))))))))))..)))...........((((((......................))))))......(((((.((((((((((.(((.....))).)))).))))))........(((((.((((((...((((((((((((...)))))...)))).)))...)))))))))))......))))).....(((.(((((.....))))).))).(((((((((............(((......)))......((.((((((.(((((.((((.........)))))))))..((.....)).......)))))))).)))))))))...................((((..((((...(((....)))...))))..))))................(((((((.........((((....(((((....(((((((..........)))))))..)))))...........((((((((.((.(((((....))))).)).)).))))))))))...))))))).((((((((((((.........))))))))).)))........(.(((.(((........................))).))).)...................................(((....)))................((..(((((.....(((((((((((.(((......))).))))).)))))).....)))))..))..............(((((((.((((((((((((.(((......))).(((.....))).(((((.((((((...)))))).))))).))))))))))))..)).)))))..................(((((.....((((...........))))...((((..((((((..(((..((((((((((((...))))))))))))...((((.(((((...(((((................))))).)))))))))..................)))..))))))..).)))........))))).........................(((((((....))))))).....((((....((((((....)))))).))))..((((......)))).......(((((.(.(((..((((....)))))))......((((((.......))))))..............((((...((((.....))))...))))..........).)))))..........(((....)))...........((((((((......)).))))))...((((.((.((((((.((((....))))...)))))))))))).......(((((.......)))))...............((((((.((..((((......))))..))...)))))).......(((((((..(.(((((((((((..(((...((......))...))).))))))))))))))))))).((((....)))).((((((((((.((....))..)))))))).)).((((..((((((((((..((..(((.(((.....(((((((((.((.(((....)))))....(((((((((....((.((.(((.......))).))))...))))).)))).((((........))))..........))))))))).....))).)))..))...)))))......)))))..))))...((((...))))..................\n"
          ]
        }
      ]
    },
    {
      "cell_type": "code",
      "source": [
        "gold_std = {}\n",
        "gold_std['SARS'] = {}\n",
        "dist = []\n",
        "for ind, row in das_df.iterrows():\n",
        "    start = row['Interval start']\n",
        "    end = row['Interval end']\n",
        "    substring = structure_string[start-1:end]\n",
        "    seq_sub = seq[start:end+1]\n",
        "\n",
        "    dist.append(f1_score(list(substring), list(row['Secondary structure']),average='micro'))\n",
        "    if f1_score(list(substring), list(row['Secondary structure']),average='micro') >= 0.9:\n",
        "\n",
        "          gold_std['SARS'][seq_sub] = row['Secondary structure']\n",
        "    '''\n",
        "    seq_split = split_string(seq_sub, 300)\n",
        "    b = split_string(substring, 300)\n",
        "    a = split_string(row['Secondary structure'], 300)\n",
        "    for j in range(len(a)):\n",
        "      dist.append(f1_score(list(a[j]), list(b[j]),average='micro'))\n",
        "      if f1_score(list(a[j]), list(b[j]),average='micro') >= 0.9:\n",
        "          gold_std['SARS'][seq_split[j]] = b[j]\n",
        "    '''\n",
        "\n",
        "#das_df['Hamming distance'] = dist\n",
        "plt.hist(dist,bins=50)\n",
        "plt.show()\n"
      ],
      "metadata": {
        "colab": {
          "base_uri": "https://localhost:8080/",
          "height": 430
        },
        "id": "pR_0bQ-Ti7_J",
        "outputId": "976c6d42-6683-48b0-df56-3f1346e4eb1e"
      },
      "execution_count": 17,
      "outputs": [
        {
          "output_type": "display_data",
          "data": {
            "text/plain": [
              "<Figure size 640x480 with 1 Axes>"
            ],
            "image/png": "[encoded data removed]"
          },
          "metadata": {}
        }
      ]
    },
    {
      "cell_type": "markdown",
      "source": [
        "# XIST Analysis"
      ],
      "metadata": {
        "id": "ZMq0aMKEROgd"
      }
    },
    {
      "cell_type": "markdown",
      "source": [
        "## From https://doi.org/10.1073/pnas.1600008113. In this paper they looked at chemical probing and in silico models for Xist in Mouse. In their supplement they also looked at other established models and identified regions of high agreement. We use their analysis comparing to other models and take pull regions of high agreement from their secondary structure model."
      ],
      "metadata": {
        "id": "G55zlcUPkRO6"
      }
    },
    {
      "cell_type": "code",
      "source": [
        "#XIST RNA from other dataset\n",
        "pgen = pd.read_excel('pgen.1005668.s002.xlsx', header=None)"
      ],
      "metadata": {
        "id": "4Y1u57nqlPeM",
        "colab": {
          "base_uri": "https://localhost:8080/",
          "height": 363
        },
        "outputId": "b362fb3f-4473-40d9-fb6b-45f023ccd585"
      },
      "execution_count": 18,
      "outputs": [
        {
          "output_type": "error",
          "ename": "FileNotFoundError",
          "evalue": "ignored",
          "traceback": [
            "\u001b[0;31m---------------------------------------------------------------------------\u001b[0m",
            "\u001b[0;31mFileNotFoundError\u001b[0m                         Traceback (most recent call last)",
            "\u001b[0;32m<ipython-input-18-5f05c2f6a904>\u001b[0m in \u001b[0;36m<cell line: 2>\u001b[0;34m()\u001b[0m\n\u001b[1;32m      1\u001b[0m \u001b[0;31m#XIST RNA from other dataset\u001b[0m\u001b[0;34m\u001b[0m\u001b[0;34m\u001b[0m\u001b[0m\n\u001b[0;32m----> 2\u001b[0;31m \u001b[0mpgen\u001b[0m \u001b[0;34m=\u001b[0m \u001b[0mpd\u001b[0m\u001b[0;34m.\u001b[0m\u001b[0mread_excel\u001b[0m\u001b[0;34m(\u001b[0m\u001b[0;34m'pgen.1005668.s002.xlsx'\u001b[0m\u001b[0;34m,\u001b[0m \u001b[0mheader\u001b[0m\u001b[0;34m=\u001b[0m\u001b[0;32mNone\u001b[0m\u001b[0;34m)\u001b[0m\u001b[0;34m\u001b[0m\u001b[0;34m\u001b[0m\u001b[0m\n\u001b[0m",
            "\u001b[0;32m/usr/local/lib/python3.10/dist-packages/pandas/util/_decorators.py\u001b[0m in \u001b[0;36mwrapper\u001b[0;34m(*args, **kwargs)\u001b[0m\n\u001b[1;32m    209\u001b[0m                 \u001b[0;32melse\u001b[0m\u001b[0;34m:\u001b[0m\u001b[0;34m\u001b[0m\u001b[0;34m\u001b[0m\u001b[0m\n\u001b[1;32m    210\u001b[0m                     \u001b[0mkwargs\u001b[0m\u001b[0;34m[\u001b[0m\u001b[0mnew_arg_name\u001b[0m\u001b[0;34m]\u001b[0m \u001b[0;34m=\u001b[0m \u001b[0mnew_arg_value\u001b[0m\u001b[0;34m\u001b[0m\u001b[0;34m\u001b[0m\u001b[0m\n\u001b[0;32m--> 211\u001b[0;31m             \u001b[0;32mreturn\u001b[0m \u001b[0mfunc\u001b[0m\u001b[0;34m(\u001b[0m\u001b[0;34m*\u001b[0m\u001b[0margs\u001b[0m\u001b[0;34m,\u001b[0m \u001b[0;34m**\u001b[0m\u001b[0mkwargs\u001b[0m\u001b[0;34m)\u001b[0m\u001b[0;34m\u001b[0m\u001b[0;34m\u001b[0m\u001b[0m\n\u001b[0m\u001b[1;32m    212\u001b[0m \u001b[0;34m\u001b[0m\u001b[0m\n\u001b[1;32m    213\u001b[0m         \u001b[0;32mreturn\u001b[0m \u001b[0mcast\u001b[0m\u001b[0;34m(\u001b[0m\u001b[0mF\u001b[0m\u001b[0;34m,\u001b[0m \u001b[0mwrapper\u001b[0m\u001b[0;34m)\u001b[0m\u001b[0;34m\u001b[0m\u001b[0;34m\u001b[0m\u001b[0m\n",
            "\u001b[0;32m/usr/local/lib/python3.10/dist-packages/pandas/util/_decorators.py\u001b[0m in \u001b[0;36mwrapper\u001b[0;34m(*args, **kwargs)\u001b[0m\n\u001b[1;32m    329\u001b[0m                     \u001b[0mstacklevel\u001b[0m\u001b[0;34m=\u001b[0m\u001b[0mfind_stack_level\u001b[0m\u001b[0;34m(\u001b[0m\u001b[0;34m)\u001b[0m\u001b[0;34m,\u001b[0m\u001b[0;34m\u001b[0m\u001b[0;34m\u001b[0m\u001b[0m\n\u001b[1;32m    330\u001b[0m                 )\n\u001b[0;32m--> 331\u001b[0;31m             \u001b[0;32mreturn\u001b[0m \u001b[0mfunc\u001b[0m\u001b[0;34m(\u001b[0m\u001b[0;34m*\u001b[0m\u001b[0margs\u001b[0m\u001b[0;34m,\u001b[0m \u001b[0;34m**\u001b[0m\u001b[0mkwargs\u001b[0m\u001b[0;34m)\u001b[0m\u001b[0;34m\u001b[0m\u001b[0;34m\u001b[0m\u001b[0m\n\u001b[0m\u001b[1;32m    332\u001b[0m \u001b[0;34m\u001b[0m\u001b[0m\n\u001b[1;32m    333\u001b[0m         \u001b[0;31m# error: \"Callable[[VarArg(Any), KwArg(Any)], Any]\" has no\u001b[0m\u001b[0;34m\u001b[0m\u001b[0;34m\u001b[0m\u001b[0m\n",
            "\u001b[0;32m/usr/local/lib/python3.10/dist-packages/pandas/io/excel/_base.py\u001b[0m in \u001b[0;36mread_excel\u001b[0;34m(io, sheet_name, header, names, index_col, usecols, squeeze, dtype, engine, converters, true_values, false_values, skiprows, nrows, na_values, keep_default_na, na_filter, verbose, parse_dates, date_parser, thousands, decimal, comment, skipfooter, convert_float, mangle_dupe_cols, storage_options)\u001b[0m\n\u001b[1;32m    480\u001b[0m     \u001b[0;32mif\u001b[0m \u001b[0;32mnot\u001b[0m \u001b[0misinstance\u001b[0m\u001b[0;34m(\u001b[0m\u001b[0mio\u001b[0m\u001b[0;34m,\u001b[0m \u001b[0mExcelFile\u001b[0m\u001b[0;34m)\u001b[0m\u001b[0;34m:\u001b[0m\u001b[0;34m\u001b[0m\u001b[0;34m\u001b[0m\u001b[0m\n\u001b[1;32m    481\u001b[0m         \u001b[0mshould_close\u001b[0m \u001b[0;34m=\u001b[0m \u001b[0;32mTrue\u001b[0m\u001b[0;34m\u001b[0m\u001b[0;34m\u001b[0m\u001b[0m\n\u001b[0;32m--> 482\u001b[0;31m         \u001b[0mio\u001b[0m \u001b[0;34m=\u001b[0m \u001b[0mExcelFile\u001b[0m\u001b[0;34m(\u001b[0m\u001b[0mio\u001b[0m\u001b[0;34m,\u001b[0m \u001b[0mstorage_options\u001b[0m\u001b[0;34m=\u001b[0m\u001b[0mstorage_options\u001b[0m\u001b[0;34m,\u001b[0m \u001b[0mengine\u001b[0m\u001b[0;34m=\u001b[0m\u001b[0mengine\u001b[0m\u001b[0;34m)\u001b[0m\u001b[0;34m\u001b[0m\u001b[0;34m\u001b[0m\u001b[0m\n\u001b[0m\u001b[1;32m    483\u001b[0m     \u001b[0;32melif\u001b[0m \u001b[0mengine\u001b[0m \u001b[0;32mand\u001b[0m \u001b[0mengine\u001b[0m \u001b[0;34m!=\u001b[0m \u001b[0mio\u001b[0m\u001b[0;34m.\u001b[0m\u001b[0mengine\u001b[0m\u001b[0;34m:\u001b[0m\u001b[0;34m\u001b[0m\u001b[0;34m\u001b[0m\u001b[0m\n\u001b[1;32m    484\u001b[0m         raise ValueError(\n",
            "\u001b[0;32m/usr/local/lib/python3.10/dist-packages/pandas/io/excel/_base.py\u001b[0m in \u001b[0;36m__init__\u001b[0;34m(self, path_or_buffer, engine, storage_options)\u001b[0m\n\u001b[1;32m   1650\u001b[0m                 \u001b[0mext\u001b[0m \u001b[0;34m=\u001b[0m \u001b[0;34m\"xls\"\u001b[0m\u001b[0;34m\u001b[0m\u001b[0;34m\u001b[0m\u001b[0m\n\u001b[1;32m   1651\u001b[0m             \u001b[0;32melse\u001b[0m\u001b[0;34m:\u001b[0m\u001b[0;34m\u001b[0m\u001b[0;34m\u001b[0m\u001b[0m\n\u001b[0;32m-> 1652\u001b[0;31m                 ext = inspect_excel_format(\n\u001b[0m\u001b[1;32m   1653\u001b[0m                     \u001b[0mcontent_or_path\u001b[0m\u001b[0;34m=\u001b[0m\u001b[0mpath_or_buffer\u001b[0m\u001b[0;34m,\u001b[0m \u001b[0mstorage_options\u001b[0m\u001b[0;34m=\u001b[0m\u001b[0mstorage_options\u001b[0m\u001b[0;34m\u001b[0m\u001b[0;34m\u001b[0m\u001b[0m\n\u001b[1;32m   1654\u001b[0m                 )\n",
            "\u001b[0;32m/usr/local/lib/python3.10/dist-packages/pandas/io/excel/_base.py\u001b[0m in \u001b[0;36minspect_excel_format\u001b[0;34m(content_or_path, storage_options)\u001b[0m\n\u001b[1;32m   1523\u001b[0m         \u001b[0mcontent_or_path\u001b[0m \u001b[0;34m=\u001b[0m \u001b[0mBytesIO\u001b[0m\u001b[0;34m(\u001b[0m\u001b[0mcontent_or_path\u001b[0m\u001b[0;34m)\u001b[0m\u001b[0;34m\u001b[0m\u001b[0;34m\u001b[0m\u001b[0m\n\u001b[1;32m   1524\u001b[0m \u001b[0;34m\u001b[0m\u001b[0m\n\u001b[0;32m-> 1525\u001b[0;31m     with get_handle(\n\u001b[0m\u001b[1;32m   1526\u001b[0m         \u001b[0mcontent_or_path\u001b[0m\u001b[0;34m,\u001b[0m \u001b[0;34m\"rb\"\u001b[0m\u001b[0;34m,\u001b[0m \u001b[0mstorage_options\u001b[0m\u001b[0;34m=\u001b[0m\u001b[0mstorage_options\u001b[0m\u001b[0;34m,\u001b[0m \u001b[0mis_text\u001b[0m\u001b[0;34m=\u001b[0m\u001b[0;32mFalse\u001b[0m\u001b[0;34m\u001b[0m\u001b[0;34m\u001b[0m\u001b[0m\n\u001b[1;32m   1527\u001b[0m     ) as handle:\n",
            "\u001b[0;32m/usr/local/lib/python3.10/dist-packages/pandas/io/common.py\u001b[0m in \u001b[0;36mget_handle\u001b[0;34m(path_or_buf, mode, encoding, compression, memory_map, is_text, errors, storage_options)\u001b[0m\n\u001b[1;32m    863\u001b[0m         \u001b[0;32melse\u001b[0m\u001b[0;34m:\u001b[0m\u001b[0;34m\u001b[0m\u001b[0;34m\u001b[0m\u001b[0m\n\u001b[1;32m    864\u001b[0m             \u001b[0;31m# Binary mode\u001b[0m\u001b[0;34m\u001b[0m\u001b[0;34m\u001b[0m\u001b[0m\n\u001b[0;32m--> 865\u001b[0;31m             \u001b[0mhandle\u001b[0m \u001b[0;34m=\u001b[0m \u001b[0mopen\u001b[0m\u001b[0;34m(\u001b[0m\u001b[0mhandle\u001b[0m\u001b[0;34m,\u001b[0m \u001b[0mioargs\u001b[0m\u001b[0;34m.\u001b[0m\u001b[0mmode\u001b[0m\u001b[0;34m)\u001b[0m\u001b[0;34m\u001b[0m\u001b[0;34m\u001b[0m\u001b[0m\n\u001b[0m\u001b[1;32m    866\u001b[0m         \u001b[0mhandles\u001b[0m\u001b[0;34m.\u001b[0m\u001b[0mappend\u001b[0m\u001b[0;34m(\u001b[0m\u001b[0mhandle\u001b[0m\u001b[0;34m)\u001b[0m\u001b[0;34m\u001b[0m\u001b[0;34m\u001b[0m\u001b[0m\n\u001b[1;32m    867\u001b[0m \u001b[0;34m\u001b[0m\u001b[0m\n",
            "\u001b[0;31mFileNotFoundError\u001b[0m: [Errno 2] No such file or directory: 'pgen.1005668.s002.xlsx'"
          ]
        }
      ]
    },
    {
      "cell_type": "code",
      "source": [
        "#regions of high agreement\n",
        "conserved_xist = [[873,1009],[6278,6371],[6473,6574],[7064,7173],[9788,9846],[13883,14509],[15775,16119]]"
      ],
      "metadata": {
        "id": "djgF-j68nbSR"
      },
      "execution_count": 19,
      "outputs": []
    },
    {
      "cell_type": "code",
      "source": [
        "file_path = 'XIST_ThreeReagent_fold.ct'\n",
        "secondary_structure_strings, seq = ct_to_secondary_structure_string(file_path)\n",
        "\n",
        "for idx, structure_string in enumerate(secondary_structure_strings, start=1):\n",
        "    print(f\"XIST Structure:\", structure_string)"
      ],
      "metadata": {
        "id": "9dmrmkWClPnu",
        "colab": {
          "base_uri": "https://localhost:8080/"
        },
        "outputId": "d5aa36a7-3116-49b2-b29b-7d886b5e2165"
      },
      "execution_count": 20,
      "outputs": [
        {
          "output_type": "stream",
          "name": "stdout",
          "text": [
            "XIST Structure: .((((......))))...............(((.((((.((((((...(((((((((((.((((......))))...(((((((((.......))))))))).....(((((....))))).........(((((((((((((..(...........)..))))))))))))).((((((((.(........)....((((.((((((........................(((((((.....................................))))))).(......).)))))).))))..........................))))))).)..))))))))))).))).))).)))).(((((....((((.((((....))))..)))).....................(((((((((.......((((((((.........((((...(((((((.(((..........................))).)))))))...))))(((((...............)))))))))))))))))................(((((....))))).((........))...............))))).....)))))...)))........................((((((((.(..(((.....((((((((((.....................)))))))))).(((.((((((.((((((((.......(((..(((((....)))))..))).....))))))..))........(((........))).((.....))..)))))).)))............)))..))))))).))....((((.......)))).(((((((.((((((((.....))))))))(((.....)))(((((((((((..((((.......)))).))))))).).)))...)))))))....(((.(((((...(((..........)))....))))).))).......((((((((........(((((...((((..))))).....(((.(((((((((..((...)).)))))).))).))).))))))))....(((.(((.........((((......))))....)))).))).))).((((((.(((((((((.((((((.((((((((.((((((.((.(........).)))))).)).))))))))...((((((..((((((((................)))))))).)))))).))))))..))).)..))))).)))))).........................(((((.....((((((.((........))))))))...)))))............(((((((((((..)))))((((((((...(((((..(((.......((((....))))((((((())))))..)))))))......))).)))))))))))))..........(((((.....((((..((((.((.((((((..(((((((((.(((..(((((...))))).))).......(((((((...(((((((.........)))))))..)))).)))...)))))))))...)))))).)))))).))))..))))).(((((.....))))).....(((((((...(((((.(((((((((...((((((((((((((..((......((((...(((....)))...))))...))..)))).)..)))))..(((((.....))))).))))..))).))))))))))).))))))).......((........)).....................................((((((((....))))))))......................((((((((((...))).))))))).................................................(((((....(((..((((((......(((((((................(((((((........(((((.((.............))))))).................((((.(((((..............))))).)))).......)))))))....)))))))........((((...)))).))))))....)))))))).............................((((((((((....)))))).))))((((((..((((((..........))))))...))))))..(((((........)))))........((((.....................)))).((((((....................................................))))))..............(((((....)))))..........................................................(((((((................(((.......)))..............)))))))........((((...)))).(((((.......)))))..((((((((((((((((.((((.((((.(((((.((((((((((((((((...((.(((((((((((((...))))))).))))))...)).....))).)))))).)))))))......((((..........)))).(((((((....)))))))....(((((..((((..((......)).))))....)))))))))).)))))))).)))))...))).((((((.((((......))))))))))...........(((...))).(((...(((...(((...(((.....((....((....))....))..)))...)))...)))...)))...(((...(((...(((.........)))...)))...)))..................)))))))).((..(((........)))..))............................................................((((......))))((.(((......))).)).......(((((.((...)).)))))...................((((...(((((.(((((((((((((.....(((..((((((.((...(((((((......)))))))...)).(((((.((...)).)))))((((.....)))).....(((((...((((((...))))))))))).........))))))..)))..((((((......)))))).......(((((.((...)).)))))..........................))))...)))).))))))))))))))..........((((((((.....((((((......)))))).......((((((((...))))))))......))))))))....................((((((...))))))....................((...((((((......)))))).))....((((((((...))))))))...................................(((((...)))))...........((.(((((..((...((((((......)))))).))....(((((.((...)).)))))((((.....))))......((((...((((((...))))))))))...........((((((((....((((((......)))))).......(((((.((...)).)))))((((.....)))).............((((...((((((...))))))))))...........))))))))....((((((......)))))).......(((((.((...)).)))))((((.....))))......((((...((((((...))))))))))...........((((((((....((((((......)))))).......(((((.((...)).)))))((((.....))))....((((((...((((((...)))))))))))).........))))))))....((((((......)))))).......(((((.((...)).)))))................((((((((..................)))).))))...........))))).))..............................(((((.((...)).))))).................................(((.....)))..............................((((((......)))))).......(((((.((...)).)))))........((((((((...........((((...((((((...))))))))))............))))))))...((((((......))))))...........................(((........((((((((.(((..(((((((((......))))).))))....))).........(((((((......)))))))..........((((..((((((((((......................(((...((((.......))))))).................(((...))).(((((((......)))))))........((((((((..............................)))))))).........((((((((....((.((......))))))))))))(((((((...))))))).........(((((((((((..........................))))))).(((((..((...................))..))))).............................((((.((.......)).)))).(((((...(((.....)))..)))))....))))(((((....))))).........))))))))....))....))))............)))))))).....))).........(((((...(((.((((.((....)))))).((((.....................................))))....(((((..(.(((....(((..........)))......((((.(((((((..(((.....)))............(((((.(((((......)))))..)))))....((((((((...........(((((.((............)).......(((....(((......)))..)))...........((((........)).)).......)))))..((((....))))......)))))))))))......(((((((...........)))))))......)))).))))...........))).)..))))).(((.....))).(((((....((((((.(((((((...)))).)))....(((..(((((()))..))))).))))))))))))))).((((((........))))))..............)))))......((((((((((((((...(((........(((((..((((......((((.((..(((......)))..)))))).........((((.((((.((((..((((((........((((((((((((...(((.....))).)))))))))))).((((.((((......)))).))))..........((((((..((((....)))).))))))(((((.((((...........(((((...((....))...))))).........))))....(((....))).........))))).............................(((((.(((....)))....))))).((.(((((((..(((....))).((((.....((((...))))........)))).(((((((((...........)))))))))))))))).))......))))))........)))))))).))))...........(((....)))..(((....))).))))....)))))...)))...)))))...))))))))).....(((((.((((....................(((.......(((((((((.............(((....))).(.(((((((....(((((...))))))))))))).((((((((.(((((........)))))))))))))...(((((.....))))).((...))...((((.......)))).(((........))).......(((((....)))))....................(((....)))...))))))))).))).((((((..((......)))))))).........................(((((((...((((.((((.........))))))))..........)))))))...............................)))).))))).............((((((((.((...((......))....))))))))))..(((...(((((....)))))...))).........(((((....)))))................................(((((((((((......))))))))))).(((((........(((((........)))))...........(((.....((((((.....((((((.....((((((...........)))))).............((((......)))).((....(((.((((((....))).)))....((((.....)))).(((....)))..)))...))..))).)))....))))))...))).((((((((..((.......))))))))))....)))))....(((((((.....)))))))..........((((((((.........(((...((((((((.((.(((....))).)))))))))).))).)))))))).......(((((..((.((((....)))).))....)))))......(((((((.(((((((.....))))............))).)))))))................(((((..((..(((((...........(((((....((((.......))))(((((((..((((........)))).(((.......)))))))))).(((((....))))).(((((((((.(((....((((.......(((......).)).((((.(((((((.......))))).))....((((....))))(((((...........(((((((......))))))).......)))))........))))......))))..))).)))))))))(((((((...........)))))..............))))))).)))))..))..)))))............................................((((.((.(((.............))).)).)))).......(((((.((.....................)))))))..(((.......))).((((..((........)).(((...((((............))))...)))..)))).......(((((....))))).........................................................................(((.(((............)))...))).((((.(((((..(((((((((((.(((((....((....)).((((...)))).....((((((...)))))).(((....)))..............(....).(((((((.(((.....................))).))))))).....................(((((((....))))))))))))......................(((((((((....)))))))))......))).)))).))))...))))))))).................................(((((((((.....(((((........(((.(((((.....))))))))......(((..((((......(((((....)))))))))))).)).))))))))))))..(((.((........)))))..((((.(((((((.......((((((.((((((((.(.((((((.....................)))))))))))))))............(((((((....)))))))..)))))).........))))))).)))).....(((((((...(((.(((.((((((....((........)).....)))))))))(((((((.(((..(((.((.....(((.((..........)).))).....)).))).)))...(((((((((((((..((((((....))))))..((((.((((....(((.((...(((((...)))))..)).))).))))...)))).))))))))))))).........((........)).((((.....))))(((((((((.((................(((...(((((..................................)))))....)))......(((((..(((((((((((((((...............))).))).))))))))).)))))..)).)))))).)))..................)))))))....))))))))))...................((((...(((((((((...............................))))))))).))))...............((((((((......((((......((((((....(((((((.((.(............))).)))))))))))))))))((((((.((....)).)))))).))))))))....((((((.(((((((...(((.(((((((((........)))))))))..)))..)))))))((.((((....))))))(((((.......((((((.((((.(((.........(((((((((.((((.......)))).)))))...((((.....))))...))))...))).))))............(((((((.....(((............((((((......)))))))))))))))).))))))......)))))..................((((((...((((((((.....((((......))))...)))))))).....))))))........((((((((..((((.......)))).........))))))))......))))))........................................................((.(((((.......)))))...))...................................................................................((((...((((((.((((((((........)))))..........)))))))))..)))).(((((((((((((.((((((((((.((.(((((....((.........))....))))).)).))))))))))(((((.....((((((..........))))))......)))))..((((((((......(((..((.(((...(((.(((((...(((((((((((......)))))......((....))....))))))....(((...))).(((......)))...))))).))).)))))....))))))))))).))))))(((((((..............))))))).....................................................(((())))))).........)))).........................(((((((..((((((((((..........((((.(((((.......((......)).((((((.....(((..........))).......))))))..............................))))))))).((((...............)))).............((...(((((..............((.....))..............)))))...))............................((((....................))))....................................((...(((((.............)))))...)).............................(((.....))).)))))))))).((.....)).............((((..................................))))...)))))))............................................................................((......)).............................................................................................................................................................................................................................................................................................................................((.(((((..........)))))))(...(((((..(((...........((((((.....)))..)))...........)))...)))))...)....(((.....))).((((.......))))......................(((((((......))))))).......................................(((((.........)))))...................................(((.........)))..................................((((((.....(((((....((((((.(((..(((((............((((.....)))).((((.(.....).))))..................(..(((((((((............(((((((((((((............((((((...........))))))..........(((((..(.((((((............(((((((((......)))))))))......(((((..(((((((.((.(((....)))))..........((((((............)))).))....)))))))..))).))..................................)))))))..))))).......)))).))))))))).....)))))))))..).((((....)))).)))))....))).)).))))...))))))))))).......((((((((((.((....))............((((((((.((..((.(((((...))))))).((((........)))).......((((....))))........(.(((..(((.........)))....(((((((.(((.....)))............(((.....((((...)))).....))).(((((((((....))))))))).((((............))))............((((((((.........(((((...............................((.(((((.....))))))).((((((...((..((....)).))...)))))).........)))))..........))..)))))).........))))))).))))...............((.(((....))).))))))))))))(((((((((.....................))))))))))....((((((((((.((((..................((((((((......)))))...)))..((((((..(((...((.(((((...((....))...)))...)).)).))).....))))))...))))))))))))))...................(((((((((((((...........((((..........))))))))).......)))).((((.(((((((....(((((((((......)))...))))))....))).))))))))......)))))).))))))).....(((((((.....(((((((..((((((((((.(((.(((((((.....))))))).....(((((.(((....((..................(((((((((((((((.....))))..))).......))))))))...((((((((.......)))))))).)).....))).)))))..............(((...))).............))).)))))))))).)))....)))).(((((......))))).))))))).(((.......)))...((((((((.(((((((.(((((...........)))))..(((((((.........)).)))))...((.(((.....))).))......((((((((((........(.(((((((......................)))))))).........(((((((.....(((((......))........((......)).(((((.......)))))((((...((((..((((......))))...)).))..)))).......))).....))))))).((((((((........(.(((...(((((..........(((((...)))))..)))))))))........)))))))).........................)))))))))).....................)))))))..(((((((((((((((((((((.((((.....))))......))))))..)))))))))...)))))).(((......)))..........................(((((((((............))))))))).........)))..))))).((((((((((((((.........((........)).......................((((..........)))).................)))))...))))...)))))...................((((((((.........)))))))).((.....)).((((...((((...................((((((.............))))))(((....))).........................(((..(((((((((........)))))..))))..))).............(((.....)))..........))))))))........................................((((.......)))).((((((((.............(((((((.....((((...))))..))))))).........(((((((((((....(((((((......).))).)))..)))))....)))))).....))))))))((((((((.((((....))))............((((((........))))))..(((((((.((((((............)))))))))))))...........((((((....))))).).................(((.............((((((((((....((((........))))........)))))))....))).(((............))).............................................................((((........))))............(((((.((................(((((.(....))))))......((.....))................................((((..................)))).)).))))).((((....))))............)))......((((.....)))).....))))))))..............................((((((............(((((............)))))............((((...........(((((((.......)))))))....(((((((((.(.....)............................(((((((((.....)))))))))..........)))))))))...))))....((((((((...................))))))))..............................)))))).........(((((((.....)).)))))...(((((......)))))(((....)))...................(((((((((((((((..........)))))))))))))))............((((((.......((........))........))))))........................((((((...((((....((((.((((....)).)).))))...............((((((...)))...))).....))))...))))))........................((((((((((((((((((((.........(((.............)))........)))))).((((((((((...................)))))))).)).((((...))))....(((((...)))))........((((((((.....((.(((....(.((((...(((((.....))))).......)))))...))).))..))))))))...........................................(((((((...))))))).(((...((....))...)))....((.((((.....((((((((..(((((.......))))))))))))).....)))))).))).....((.(((((..........((((........))))......))))))).)))))))))))..........................((((....((.............((((((((................(((((.((((((.....)))))))))))............)).))))))..))....))))((((((((((...))))))))))...(((((((....(((.((((((....((.........))...)))))).)))...))))))).................(((((((...((((.(((((........)))))...............((((((.................)))))).......(((((((..((((((..........)))))).....))))))).((((.....((......))....))))......((((((......)))))))))))))....((((((.((.....((((..........)))).........)).)))))).(((((((..(((.............)))..)))))))..)))).(((...((...((((((.........((((..........))))..))))))))...)))..(((((((..((((.((...(((...)))....))))))...(((((.....(((.....)))..))))).(((((...((((((((.(((((.......(((((...............))))).....))))).))..)))))).)))))....(((((((((((.(((.((((..(((..((((.(((((((((((.((((.....(((.((((((........))).(((.((((((((...((((.......))))...)))))))).)))(((((............((((((....(((((((((..(((((.((.....((((((.((...)).))))))))))))))))))...................)))))))))......))))))))))))..))))))))))))....(((((((......)))))))..................((((((..(((.(((((......))))).)))..................((((......)))).)))))).))).)))).)))..))))...........((......))...)))))))))))))).)).))))).(((((.(((((((((.......................))))))...........................)))....)))))...............(..((((.............(((((((((((.((...............((((..((((((((((.(((((..........(((((((.........))))))).................(((((........((..((((..(((((..........(((((...((((.......(.(((......((((((((((.((.(((.(((((((.....)))))))..........))).)).))))))))))))))......))))....)).))).(((((((.......))))))).....))))).....)))))).......))))).)))))))))))))))...))))...)))))..))))))))((....))........((((((...(((((.((..((((...(((...((((((..(((.((...........((((((((.(((.....))).)))))))).............(((((......)))))..........((.....)).))))))))))).......)))...........)))).)).)))))...))))))))))..)............(((..(((((((((.........((((......................))))....)))))))))....((((....)))).....(((.......))).(((...((((((...................................)))))).)))....((((..(((((..........(((((.....(((.(((((..(((((.((((((.....((((.........))))..(((.(((.........))).)))..((((((.((((((............(((((((((.((((((((((....((.((((((................)))))).))))).))))))).....(((..............(((((.....))))).)))........))))))))).)))))).))))))...))))))..)))))..)))))))).....))))))))))...))))..(((((((....))))))).)))\n"
          ]
        }
      ]
    },
    {
      "cell_type": "code",
      "source": [
        "pgen_gold_std = {}\n",
        "pgen_gold_std['XIST_mus'] = {}\n",
        "for r in conserved_xist:\n",
        "  sub = secondary_structure_strings[r[0]:r[1]]\n",
        "  seq_sub = seq[r[0]:r[1]]\n",
        "  print(is_complete_dot_bracket(sub))\n",
        "  pgen_gold_std['XIST_mus'][seq] = sub"
      ],
      "metadata": {
        "colab": {
          "base_uri": "https://localhost:8080/"
        },
        "id": "UCV0lxCCoQ--",
        "outputId": "b1dd3903-3023-48e3-9132-9040ddc68fba"
      },
      "execution_count": 21,
      "outputs": [
        {
          "output_type": "stream",
          "name": "stdout",
          "text": [
            "True\n",
            "True\n",
            "True\n",
            "True\n",
            "True\n",
            "True\n",
            "True\n"
          ]
        }
      ]
    },
    {
      "cell_type": "markdown",
      "source": [
        "# MALAT Structures"
      ],
      "metadata": {
        "id": "Nr9T7RaDjK9J"
      }
    },
    {
      "cell_type": "markdown",
      "source": [
        "# This dataset was used in this paper: 10.1261/rna.079388.122 . In this paper they compiled data from SHAPE-MaP and a gene-specific primer amplification strategy to examine the full-length MALAT1 structure in cells and cell-free, in two cell types, and across two species (African green monkey and human). Their results show a high correlation in shape and they subset their data to high confidence regions R^2 > 0.8 across all replicates. We take those regions of high agreement from their analyses."
      ],
      "metadata": {
        "id": "WXcfRMVhoxaC"
      }
    },
    {
      "cell_type": "code",
      "source": [
        "import os\n",
        "\n",
        "txt_files = [f for f in os.listdir('.') if f.endswith('.ct')]\n",
        "txt_files\n",
        "malat_gold_std = {}\n",
        "malat_gold_std['malat'] = {}\n",
        "for f in txt_files:\n",
        "    if 'SARS' in f or 'XIST' in f:\n",
        "        continue\n",
        "    else:\n",
        "      secondary_structure_strings, seq = ct_to_secondary_structure_string(f)\n",
        "      print(len(seq) == len(secondary_structure_strings[0]))\n",
        "      print(is_complete_dot_bracket(secondary_structure_strings[0]))\n",
        "      malat_gold_std['malat'][seq] = secondary_structure_strings[0]"
      ],
      "metadata": {
        "id": "UnI-4DvVmD30",
        "colab": {
          "base_uri": "https://localhost:8080/"
        },
        "outputId": "b0712321-21e3-4b85-b00d-7afcdab58374"
      },
      "execution_count": 22,
      "outputs": [
        {
          "output_type": "stream",
          "name": "stdout",
          "text": [
            "True\n",
            "True\n",
            "True\n",
            "True\n",
            "True\n",
            "True\n",
            "True\n",
            "True\n",
            "True\n",
            "True\n",
            "True\n",
            "True\n",
            "True\n",
            "True\n",
            "True\n",
            "True\n",
            "True\n",
            "True\n",
            "True\n",
            "True\n",
            "True\n",
            "True\n",
            "True\n",
            "True\n"
          ]
        }
      ]
    },
    {
      "cell_type": "markdown",
      "source": [
        "# Structures and seq subsetting from full lnegth ncRNA"
      ],
      "metadata": {
        "id": "7XBj3WuKjae0"
      }
    },
    {
      "cell_type": "markdown",
      "source": [
        "From 10.1093/bib/bbac205. In this paper they curated secondary structures from literature. Looking at papers similar to the ones above. I am taking all lncRNA structureal models from their dataset that are supported by at least two measurement techniques. These are full length structural models. I subset each model into by a window of 200 bp and search for full dot brackets within these models."
      ],
      "metadata": {
        "id": "HusSH2kpwGXe"
      }
    },
    {
      "cell_type": "code",
      "source": [
        "#>ROX2\n",
        "seq = 'TGTTGCGGCATTCGCGGCCTGGTCACACTAAGCTAGGGCTACTTTTTATATCATAAGTCGAGCGTTTAGGTAGCTCGGATGGCCATCGAAAGGGTAAATTGGTGTTACATATAGCTTTAGAGATCGTTTCGAATCACATTGATAATCGTTCGAAACGTTCTCCGAAGCAAAATCAAGCAAGAGTAACGATTTCCGCATAGTCGAAAATGTTTAAGTTGAATTGTCTTACGGACAGTGAGATGAGTACGACTATTTGGAAATCACAAACGAATTGTTTTCATGGTTGACGCGCTTGTCAAGCTACAAAACAAAATGAATGATATACAATATACAATATACAATATGCAATACAATACAATACAAGACAAAAAAATGTGTCTTGGAACGCAACATTGTACAAGTCGCAATGCAAACTGAAGTCTTAAAAGACGTGTAAAATGTTGCAAATTAAGCAAATATATATGCATATATGGGTAACGTTTTACGCGCCTTAACCAGTCAAAATACAAAATAAATTGGTAAATTTCATATAACTAGTGAAATGTTATACGAAACTTAACAATTGCCAAATAA'\n",
        "struct = '.................................................................................................................(((((.((((.((((((((((.............)))))))))).)))).)))))...................((((((((.(((((((...........(((..(((((((...)))))))..))).....))))))).)))))))).........(((((((...((((((((....)))))).))..))))))).................................................(((((((........)))))))........((((((.......))))))................(((.(((((((((((((((....((.(((........))).)).....))))))))))))))).)))......................((((.(((.((((.((((((.........)))))).)))).))).))))...........'\n",
        "\n",
        "#>HOTAIR\n",
        "hotair_seq = 'GACUCGCCUGUGCUCUGGAGCUUGAUCCGAAAGCUUCCACAGUGAGGACUGCUCCGUGGGGGUAAGAGAGCACCAGGCACUGAGGCCUGGGAGUUCCACAGACCAACACCCCUGCUCCUGGCGGCUCCCACCCGGGGCUUAGACCCUCAGGUCCCUAAUAUCCCGGAGGUGCUCUCAAUCAGAAAGGUCCUGCUCCGCUUCGCAGUGGAAUGGAACGGAUUUAGAAGCCUGCAGUAGGGGAGUGGGGAGUGGAGAGAGGGAGCCCAGAGUUACAGACGGCGGCGAGAGGAAGGAGGGGCGUCUUUAUUUUUUUAAGGCCCCAAAGAGUCUGAUGUUUACAAGACCAGAAAUGCCACGGCCGCGUCCUGGCAGAGAAAAGGCUGAAAUGGAGGACCGGCGCCUUCCUUAUAAGUAUGCACAUUGGCGAGAGAAUUAAGUGCUGCAACCUAAACCAGCAAUUACACCCAAGCUCGUUGGGGCCUAAGCCAGUACCGACCUGGUAGAAAAAGCAACCACGAAGCUAGAGAGAGGAGCCAGAGGAGGGAAGAGAGCGCCAGACGAAGGUGAAAGCGAACCACGCAGAGAAAUGCAGGCAAGGGAGCAAGGCGGCAGUUCCCGGAACAAACGUGGCAGAGGGCAAGACGGGCACUCACAGACAGAGGUUUAUGUAUUUUUAUUUUUUAAAAUCUGAUUUGGUGUUCCAUGAGGAAAAGGGAAAAUCUAGGGAACGGGAGUACAGAGAGAAUAAUCCGGGUCCUAGCUCGCCACAUGAACGCCCAGAGAACGCUGGAAAAACCUGAGCGGGUGCCGGGGCAGCACCCGGCUCGGGUCAGCCACUGCCCCACACCGGGCCCACCAAGCCCCGCCCCUCGCGGCCACCGGGGCUUCCUUGCUCUUCUUAUCAUCUCCAUCUUUAUGAUGAGGCUUGUUAACAAGACCAGAGAGCUGGCCAAGCACCUCUAUCUCAGCCGCGCCCGCUCAGCCGAGCAGCGGUCGGUGGGGGGACUGGGAGGCGCUAAUUAAUUGAUUCCUUUGGACUGUAAAAUAUGGCGGCGUCUACACGGAACCCAUGGACUCAUAAACAAUAUAUCUGUUGGGCGUGAGUGCACUGUCUCUCAAAUAAUUUUUCCAUAGGCAAAUGUCAGAGGGUUCUGGAUUUUUAGUUGCUAAGGAAAGAUCCAAAUGGGACCAAUUUUAGGAGGCCCAAACAGAGUCCGUUCAGUGUCAGAAAAUGCUUCCCCAAAGGGUUGGCAGUGUGUUUUGUUGGAAAAAAGCUUGGGUUAUAGGAAAGCCUUUCCCUGCUACUUGUGUAGACCCAGCCCAAUUUAAGAAUUACAAGGAAGCGAAGGGGUUGUGUAGGCCGGAAGCCUCUCUGUCCCGGCUGGAUGCAGGGGACUUGAGCUGCUCCGGAAUUUGAGAGGAACAUAGAAGCAAAGGUCCAGCCUUUGCUUCGUGCUGAUUCCUAGACUUAAGAUUCAAAAACAAAUUUUUAAAAGUGAAACCAGCCCUAGCCUUGCCUUUGGAAGCUCUUGAAGGUUCAGCACCCACCCAGGAAUCCACCUGCCUGUUACACGCCUCUCCAAGACACAGUGGCACCGCUUUUCUAACUGGCAGCACAGAGCAACUCUAUAAUAUGCUUAUAUUAGGUCUAGAAGAAUGCAUCUUGAGACACAUGGGUAACCUAAUUAUAUAAUGCUUGUUCCAUACAGGAGUGAUUAUGCAGUGGGACCCUGCUGCAAACGGGACUUUGCACUCUAAAUAUAGGCCCCAGCUUGGGACAAAAGUUGCAGUAGAAAAAUAGACAUAGGAGAACACUUAAAUAAGUGAUGCAUGUAGACACAGAAGGGGUAUUUAAAAGACAGAAAUAAUAGAAGUACAGAAGAACAGAAAAAAAAUCAGCAGAUGGAGAUUACCAUUCCCAAUGCCUGAACUUCCUCCUGCUAUUAAGAUUGCUAGAGAAUUGUGUCUUAAACAGUUCAUGAACCCAGAAGAACGCAAUUUCAAUGUAUUUAGUACACACACAGUAUGUAUAUAAACACAACUCACAGAAUAUAUUUUCCAUACAUUGGGUAGGUAUGCACUUUGUGUAUAUAUAAUAAUGUAUUUUCCAUGCAGUUUUAAAAUGUAGAUAUAUUAAUAUCUGGAUGCAUUUUC'\n",
        "hotair_struct = '..((((((.(((((((((.(((...(((....((((((((...(((.....))).))))))))......((.((((((......))))))..)).((((...((.((.((((((((...((((((.((...((((((....((((....)))).......)))))).)).))).............((.(((.((((((....)))))).))).))..........)))...)))))))).))))...)))).....)))))))))))).........(((((..((((((((.(((((..(((.........)))))))).....((((..(((((.(.((.((.....(((((.(((...))).))))).......))))))))))..)))).....))))))))....)).))).))).)))))).........(((((..........)))))..........((((((.(((.((....(((((.......))))).......))..))))).)))).........(((((((((((.......((((((..............(((.....)))........((((((..((((((((((.(((....(((((.((....))(((((.(((...........)))....(((........))).................((((....((((((.((((.((............((((((..(((..................)))..))))))....)).))))))))))))))....((((.....((((((((((((((.......)))))).))))))))))))..))))).......((((.......)))).(((......)))..)))))))).))))))))))....(((((...........))))).))))))........((((....))))((.((..((((((((...(((((....((((....)))).))))).))))))))..)).)).))))))..........))))))))).)).........(((....(((((((.((((....((((((..............((((((((...........(((((.......((((((((...(((((...(((((....)))))........)))))..))))))))......)))))............))))).))))))))))))).)))).)))....((((((.....(((((((.(((...((((....))))...))).(((....(((....)))..)))..((((....))))..)))))))................))))))...(((((((.((...((((.(((..(((.(((((.((.....))..)))))..)))..)))))))........(((((((..(((((((((((...)))))))))))....)).)))))....................................))))))))).)))..((.((((((.((((((...(((((((((......(((((..((((.((..((((..............)))))))))).(((.(((((....((.((((((....((((((....................(((((..(((.(((((((((......(((((((..............))))))).((.....))........((((((((....))))))))..)))))...)))).))).....)))))((((...)))).....))))))........................(((((....))))).))).)))))....))))).))).....................(((((.(((.......((.......)).(((..(((.((.......))))).)))))).))))).)))))..........))))...(((((((.......)))))))..)))))...))))..)).........((.....(((((.((...)).)))))......)).(((((.....................)))))..((((((((...)))))))).((.((((((((((..(((...........))).)))))))))).)))))))).))......'\n",
        "\n",
        "#>RepA\n",
        "rep_a_seq = 'CCCAUCGGGGCCACGGAUACCUGUGUGUCCUCCCCGCCAUUCCAUGCCCAACGGGGUUUUGGAUACUUACCUGCCUUUUCAUUCUUUUUUUUUCUUAUUAUUUUUUUUUCUAAACUUGCCCAUCUGGGCUGUGGAUACCUGCUUUUAUUCUUUUUUUCUUCUCCUUAGCCCAUCGGGGCCAUGGAUACCUGCUUUUUGUAAAAAAAAAAAAAAAAAAAAAAAAACCUUUCUCGGUCCAUCGGGACCUCGGAUACCUGCGUUUAGUCUUUUUUUCCCAUGCCCAACGGGGCCUCGGAUACCUGCUGUUAUUAUUUUUUUUUCUUUUUCUUUUGCCCAUCGGGGCUGUGGAUACCUGCUUUAAAUUUUUUUUUUCACGGCCCAACGGGGCGCUUGGUGGAUGGAAAUAUGGUUUUGUGAGUUAUUGCACUACCUGGAAUAUCUAUGCCUCUUAUUUGCGUGUACUGUUGCUGCUGAUCGUUUGGUGCUGUGUGAGUGAACCUAUGGCUUAGAAAAACGACUUUGCUCUUAAACUGAGUGGGUGUUCAGGGCGUGGAGAGCCCGCGUCCGCCAUUAUGGCUUCUGCGUGAUACGGCUAUUCUCGAGCCAGUUACGCCAAGAAUUAGGACACCGAGGAGCACAGCGGACUGGAUAAAAGCAACCAAUUGCGCUGCGCUAGCUAAAGGCUUUCUUUAUAUGUGCGGGGUUGCGGGAUUCGCCUUGAUUUGUGGUAGCAUUUGCGGGGUUGUGCUAGCCGGAAGUAGAAAGCCAAGGAGUGCUCGUAUUAGUGUGCGGUGUUGCGCGGAAGCCGCAGAGGACUAGGGGAUAGGGCUCAGCGUGGGUGUGGGGAUUGGGCAGGGUGUGUGUGCAUAUGGACCCCUGGCGCGGUCCCCCGUGGCUUUAAGGGCUGCUCAGAAGUCUAUAAAAUGGCGGCUCGGGGGCUCCACCCGAGGCUCGACAGCCCAAUCUUUGUUCUGGUGUGUAGCAAUGGAUUAUAGGACAUUUAGGUCGUACAGGAAAAGAUGGCGGCUCAAGUUCUUGGUGCGGUAUAACGCAAAGGGCUUUGUGUGUCACAUGUCAGCUUCAUGUCUGAGUUAGCCUGGAGAGGUGGCACAUGCUCUUGAAUGUGUCUAAGAUGGCGGAAGUCAUGUGACCUGCCCUCUAGUGGUUUCUUUCAGUGAUUUUUUUUUUGGCGGGCUUUAGCUACUUGGCGGGCUUUGCCCGAGGGUACACUUGGUGCAUUAUGGUAGGGUGUGGUUGGUCCUACCUUGUGCCACUCGAAGCUGAGGCAAGGCUAAGUGGAAGUGUUGGUUGCCACUUGACGUAACUCGUCAGAAAUGGGCACAAGUGUGAAAGUGUUGGUGUUUGCUUGACUUCCAGUUAGAAAUGUGCAUUAUUGCUUGGUGGCCAGGAUGGAAUUAGACUGUGAUGAGUCACUGUCCCAUAAGGACGUGAGUUUCGCUUGGUACUUCACGUGUGUCUUUAGUCAUCAUUUUUUCGAAGUGCCUGCCCAGGUCGGGAGAGCGCAUGCUUGCAAUUCUAACACUGAAGUGUUGGAUGAUGUCGGAUCCGAUUCGAGAGACCGAGGCUGCGGGUUCUUGGUCGAUGUAAAUCAUUGAAACCUCACCUAUUA'\n",
        "rep_a_struct = '.....(((((....((((((....)))))).)))))....((((.((((....))))..)))).((((((..(((((((((((((((((((((.......(((((((((........((((...(((((((.(((..........................))).)))))))...))))((.((...))))........))))))))))))))))))...............(((((....))))).(((....)))...............(((...((((....))))...))).(((.((............................((((....((((((((((.....................))))))))))....))))))..))))))))))))...)))...))))))..((((((((((.((((((.(((..((((.....((((.((.(((.(((.((..(((((.....((((((((((((..(((.((((((..............((((.......)))).(((((((.((((((((.....))))))))((((...)))).((((((((((..((((.......)))).)))))))..)))....)))))))..((((((((((...(((.......((.((((...((.((((((.((((...))))..........)))))).)).((((...)))).........)))).)).....))).))))))))..)).........)))))))))..))))))))).)))..))))))).))))))..))))))))))..))).((((.(((((((((.((((((.((((((((.((((((.((.(........).)))))).)).))))))))...((((((..((((((((................)))))))).)))))).))))))..))).)..))))).)))).)))))))))).)).)))).......(((((.((((.((((((.((........)))))))).))))))))).((((......)))).(((((.......((((((((...(((((.((((.......((((....))))(((((((........)))))))......)))))))))))))))))..))))).(((((((...((((((((((((........((((((....(((.((((((((((..((((((((......))))).)))....(((((((.........)))))))(((.((((((..(((((((.(((...((((.(((((((....(.((((..((((((.....)))))).....)))))........(((((........))))).))))))).)))).....))).)))..)))))))))))))..............((((..(.((((.((((.....)))))))).).))))..((((((((....(((...........)))......)))))))).))))..))))))..)))....))))))...((((((((....)))))))).(((.....)))((((.(((((..(((......)))..)))))))))....))))))))))))....))).))))'\n",
        "\n",
        "#>PAN\n",
        "pan_seq = 'ACUGGGACUGCCCAGUCACCUUGGCUGCCGCUUCACCUAUGGAUUUUGUGCUCGCUGCUUGCCUUCUUGCCGCUUCUGGUUUUCAUUGGUGCCGCCGAUUGUGGGUUGAUUGCGUCGCUUUUGGCAAUAUACCCAUCCUGGCUUUCGGCUAGGUUUUCCGUCCUACUUUUCCCACAUUGGCCUGAGAGCUGUAGUACAAAAAACACCGCGCGGUCUGGAGCUCUCCAUAAGCCCGCAGAACAAAAGCUGCGAUUUGCCCAAAAACCUUGCCAUGGCAACUAUACAGUCACCCCUUGCGGGUUAUUGCAUUGGAUUCAAUCUCCAGGCCAGUUGUAGCCCCCUUUUAUGAUAUGCGAGGAUACUUAACGUGUCUGAAUGUGGAAUAUAAUGUGAAAGGAAAGCAGCGCCCACUGGUGUAUCAGAACAGUGGUGCACUACCUAUCUGCUCAUUCGUUGUUUCGGUUCUGUGUUUGUCUGAUUCUUAGAUAGUGUUGAGGUAAUUCUAGAAAGCGGAUUGAGUGUAAAUCGGGCCACUUUGCCCUAAAUGUGACAAUCUGGAUGUGUAUCUUAUUGGUGCGUUGUGAAGCAUUUUAAAAUGCGUUUUAGAUUGUAUCAGGCUAGUGCUGUAAUGGUGUGUUUAUUUUUCCAGUGUAAGCAAGUCGAUUUGAAUGACAUAGGCGACAAAGUGAGGUGGCAUUUGUCAGAAGUUUCAAAGUCGUGUAAGAACAUUGGACUAAAGUGGUGUGCGGCAGCUGGGAGCGCUCUUUCAAUGUUAAUGUUUUAAUGUGUAUGUUGUGUUGGAAGUUCCAGGCUAAUAUUUGAUGUUUUGCUAGGUUGACUAACGAUGUUUUCUUGUAGGUGAAAGCGUUGUGUAACAAUGAUAACGGUGUUUUGGCUGGGUUUUUCCUUGUUCGCACCGGACACCUCCAGUGACCAGACGGCAAGGUUUUUAUCCCAGUGUAUAUUGGAAAAACAUGUUAUACUUUUGACAAUUUAACGUGCCUAGAGCUCAAAUUAAACUAAUACCAUAACGUAAUGCAACUUACAACAUAAAUAAAGGUCAAUGUUUAAUCCAUA'\n",
        "pan_struct = '((((((....)))))).((((((((((((((..((((...((.....((((.(((((((..((((..((((((....((((((...(((.(((((((...((((((..(((((..........)))))..))))))..))))....)))((((........)))).............(((..(((((((.(((..........(((....)))))).))))))).....)))(((((........)))))......)))))))))..))...))))...............................(((((.......)))))...............................((((((.....))))))....................))))..))))))).((((((...........)))))).))))..))...(((((.............................................................)))))..............((((......))))........((((((((....(((((......(((((........))))).....)))))...)))))))).................................((((((((........((((((...(((((...((.((........)).))...))))).........)))))).......)))))))).......)))).))))))))).......................((((..(((((((.(((((.(((((...)))))......((((((.(((...((((((......(((((((((((........))))))))))).........(((((.((((((..((((((.....((((((.((....((.(((.....))).))...)))))))).......))))))...........)))))))))))...................)))))))))))))))......................))))).)))).))))))).)))))................'\n",
        "\n"
      ],
      "metadata": {
        "id": "gpNaE7V2oUe9"
      },
      "execution_count": 23,
      "outputs": []
    },
    {
      "cell_type": "code",
      "source": [
        "more_gold_std = {}\n",
        "more_gold_std['ROX2'] = {}\n",
        "more_gold_std['hotair'] = {}\n",
        "more_gold_std['repA'] = {}\n",
        "more_gold_std['PAN'] = {}\n",
        "\n",
        "seq_split, struct_split = split_sequence_and_dot_bracket(seq, struct, 200)\n",
        "for i in range(len(seq_split)):\n",
        "    print(is_complete_dot_bracket(struct_split[i]))\n",
        "    more_gold_std['ROX2'][seq_split[i]] = struct_split[i]\n",
        "\n",
        "\n",
        "seq_split, struct_split = split_sequence_and_dot_bracket(hotair_seq, hotair_struct, 200)\n",
        "for i in range(len(seq_split)):\n",
        "    print(is_complete_dot_bracket(struct_split[i]))\n",
        "    more_gold_std['hotair'][seq_split[i]] = struct_split[i]\n",
        "\n",
        "\n",
        "seq_split, struct_split = split_sequence_and_dot_bracket(rep_a_seq, rep_a_struct, 200)\n",
        "for i in range(len(seq_split)):\n",
        "    print(is_complete_dot_bracket(struct_split[i]))\n",
        "    more_gold_std['repA'][seq_split[i]] = struct_split[i]\n",
        "\n",
        "\n",
        "seq_split, struct_split = split_sequence_and_dot_bracket(pan_seq, pan_struct, 200)\n",
        "for i in range(len(seq_split)):\n",
        "    print(is_complete_dot_bracket(struct_split[i]))\n",
        "    more_gold_std['PAN'][seq_split[i]] = struct_split[i]\n",
        "\n",
        "\n",
        "\n"
      ],
      "metadata": {
        "id": "kve5JkqYtIIJ",
        "colab": {
          "base_uri": "https://localhost:8080/"
        },
        "outputId": "b0011c14-73f6-4c01-faec-e5a9634ac0b0"
      },
      "execution_count": 24,
      "outputs": [
        {
          "output_type": "stream",
          "name": "stdout",
          "text": [
            "True\n",
            "True\n",
            "True\n",
            "True\n",
            "True\n",
            "True\n",
            "True\n",
            "True\n",
            "True\n",
            "True\n"
          ]
        }
      ]
    },
    {
      "cell_type": "markdown",
      "source": [
        "# Final Dataset"
      ],
      "metadata": {
        "id": "lDpysxNsjg6i"
      }
    },
    {
      "cell_type": "code",
      "source": [
        "\n",
        "def Merge(dict1, dict2):\n",
        "  res = {**dict1, **dict2}\n",
        "  return res\n",
        "\n",
        "gold_std_full = Merge(gold_std, more_gold_std)\n",
        "gold_std_full = Merge(gold_std_full, malat_gold_std)\n",
        "gold_std_full = Merge(gold_std_full, pgen_gold_std)\n"
      ],
      "metadata": {
        "id": "YGZ_hsFItzeX"
      },
      "execution_count": 25,
      "outputs": []
    },
    {
      "cell_type": "code",
      "source": [
        "print(len(list(gold_std_full.keys())))\n",
        "lens=[]\n",
        "seq_lens = []\n",
        "for i in gold_std_full.keys():\n",
        "    lens.append(len(gold_std_full[i]))\n",
        "    for j in gold_std_full[i].keys():\n",
        "        seq_lens.append(len(gold_std_full[i][j]))\n",
        "plt.hist(lens)\n",
        "plt.show()\n",
        "plt.hist(seq_lens)\n",
        "plt.show()\n",
        "np.sum(lens)"
      ],
      "metadata": {
        "colab": {
          "base_uri": "https://localhost:8080/",
          "height": 879
        },
        "id": "HvPIzN2rue6I",
        "outputId": "5822c7e2-195d-4544-ceb3-917a1caeea22"
      },
      "execution_count": 28,
      "outputs": [
        {
          "output_type": "stream",
          "name": "stdout",
          "text": [
            "7\n"
          ]
        },
        {
          "output_type": "display_data",
          "data": {
            "text/plain": [
              "<Figure size 640x480 with 1 Axes>"
            ],
            "image/png": "[encoded data removed]"
          },
          "metadata": {}
        },
        {
          "output_type": "display_data",
          "data": {
            "text/plain": [
              "<Figure size 640x480 with 1 Axes>"
            ],
            "image/png": "[encoded data removed]"
          },
          "metadata": {}
        },
        {
          "output_type": "execute_result",
          "data": {
            "text/plain": [
              "40"
            ]
          },
          "metadata": {},
          "execution_count": 28
        }
      ]
    },
    {
      "cell_type": "code",
      "source": [
        "import json\n",
        "\n",
        "with open(\"gold_std.json\", \"w\") as outfile:\n",
        "    json.dump(gold_std_full, outfile)"
      ],
      "metadata": {
        "id": "CyDsB3u0vL3v"
      },
      "execution_count": null,
      "outputs": []
    }
  ]
}